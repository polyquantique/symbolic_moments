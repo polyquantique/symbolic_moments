{
 "cells": [
  {
   "cell_type": "code",
   "execution_count": 5,
   "metadata": {},
   "outputs": [],
   "source": [
    "import gbs_functions as gbs\n",
    "from sympy import Matrix"
   ]
  },
  {
   "cell_type": "code",
   "execution_count": 6,
   "metadata": {},
   "outputs": [
    {
     "data": {
      "text/latex": [
       "$\\displaystyle \\left[\\begin{matrix}A_{1, 1} & A_{1, 2} & A_{1, 3} & A_{1, 4} & A_{1, 5} & A_{1, 6} & A_{1, 7} & A_{1, 8}\\\\A_{1, 2} & A_{2, 2} & A_{2, 3} & A_{2, 4} & A_{2, 5} & A_{2, 6} & A_{2, 7} & A_{2, 8}\\\\A_{1, 3} & A_{2, 3} & A_{3, 3} & A_{3, 4} & A_{3, 5} & A_{3, 6} & A_{3, 7} & A_{3, 8}\\\\A_{1, 4} & A_{2, 4} & A_{3, 4} & A_{4, 4} & A_{4, 5} & A_{4, 6} & A_{4, 7} & A_{4, 8}\\\\A_{1, 5} & A_{2, 5} & A_{3, 5} & A_{4, 5} & A_{5, 5} & A_{5, 6} & A_{5, 7} & A_{5, 8}\\\\A_{1, 6} & A_{2, 6} & A_{3, 6} & A_{4, 6} & A_{5, 6} & A_{6, 6} & A_{6, 7} & A_{6, 8}\\\\A_{1, 7} & A_{2, 7} & A_{3, 7} & A_{4, 7} & A_{5, 7} & A_{6, 7} & A_{7, 7} & A_{7, 8}\\\\A_{1, 8} & A_{2, 8} & A_{3, 8} & A_{4, 8} & A_{5, 8} & A_{6, 8} & A_{7, 8} & A_{8, 8}\\end{matrix}\\right]$"
      ],
      "text/plain": [
       "Matrix([\n",
       "[A[1, 1], A[1, 2], A[1, 3], A[1, 4], A[1, 5], A[1, 6], A[1, 7], A[1, 8]],\n",
       "[A[1, 2], A[2, 2], A[2, 3], A[2, 4], A[2, 5], A[2, 6], A[2, 7], A[2, 8]],\n",
       "[A[1, 3], A[2, 3], A[3, 3], A[3, 4], A[3, 5], A[3, 6], A[3, 7], A[3, 8]],\n",
       "[A[1, 4], A[2, 4], A[3, 4], A[4, 4], A[4, 5], A[4, 6], A[4, 7], A[4, 8]],\n",
       "[A[1, 5], A[2, 5], A[3, 5], A[4, 5], A[5, 5], A[5, 6], A[5, 7], A[5, 8]],\n",
       "[A[1, 6], A[2, 6], A[3, 6], A[4, 6], A[5, 6], A[6, 6], A[6, 7], A[6, 8]],\n",
       "[A[1, 7], A[2, 7], A[3, 7], A[4, 7], A[5, 7], A[6, 7], A[7, 7], A[7, 8]],\n",
       "[A[1, 8], A[2, 8], A[3, 8], A[4, 8], A[5, 8], A[6, 8], A[7, 8], A[8, 8]]])"
      ]
     },
     "metadata": {},
     "output_type": "display_data"
    }
   ],
   "source": [
    "display(Matrix(gbs.symmetric_A(4)))"
   ]
  }
 ],
 "metadata": {
  "kernelspec": {
   "display_name": "GBS",
   "language": "python",
   "name": "python3"
  },
  "language_info": {
   "codemirror_mode": {
    "name": "ipython",
    "version": 3
   },
   "file_extension": ".py",
   "mimetype": "text/x-python",
   "name": "python",
   "nbconvert_exporter": "python",
   "pygments_lexer": "ipython3",
   "version": "3.8.13"
  },
  "orig_nbformat": 4,
  "vscode": {
   "interpreter": {
    "hash": "b9da7cac117a6ecebdac47a9ebe9814a7ac3b718953c12b180cf4daab6903cd1"
   }
  }
 },
 "nbformat": 4,
 "nbformat_minor": 2
}
