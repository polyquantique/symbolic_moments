{
 "cells": [
  {
   "cell_type": "code",
   "execution_count": 1,
   "metadata": {},
   "outputs": [],
   "source": [
    "import gbs_functions as gbs\n",
    "import gbs_functions_MN as old\n",
    "from sympy import Matrix"
   ]
  },
  {
   "cell_type": "code",
   "execution_count": 2,
   "metadata": {},
   "outputs": [
    {
     "data": {
      "text/latex": [
       "$\\displaystyle A_{1, 2} A_{3, 4} A_{5, 6} + A_{1, 2} A_{3, 5} A_{4, 6} + A_{1, 2} A_{3, 6} A_{4, 5} + A_{1, 3} A_{2, 4} A_{5, 6} + A_{1, 3} A_{2, 5} A_{4, 6} + A_{1, 3} A_{2, 6} A_{4, 5} + A_{1, 4} A_{2, 3} A_{5, 6} + A_{1, 4} A_{2, 5} A_{3, 6} + A_{1, 4} A_{2, 6} A_{3, 5} + A_{1, 5} A_{2, 3} A_{4, 6} + A_{1, 5} A_{2, 4} A_{3, 6} + A_{1, 5} A_{2, 6} A_{3, 4} + A_{1, 6} A_{2, 3} A_{4, 5} + A_{1, 6} A_{2, 4} A_{3, 5} + A_{1, 6} A_{2, 5} A_{3, 4}$"
      ],
      "text/plain": [
       "A[1, 2]*A[3, 4]*A[5, 6] + A[1, 2]*A[3, 5]*A[4, 6] + A[1, 2]*A[3, 6]*A[4, 5] + A[1, 3]*A[2, 4]*A[5, 6] + A[1, 3]*A[2, 5]*A[4, 6] + A[1, 3]*A[2, 6]*A[4, 5] + A[1, 4]*A[2, 3]*A[5, 6] + A[1, 4]*A[2, 5]*A[3, 6] + A[1, 4]*A[2, 6]*A[3, 5] + A[1, 5]*A[2, 3]*A[4, 6] + A[1, 5]*A[2, 4]*A[3, 6] + A[1, 5]*A[2, 6]*A[3, 4] + A[1, 6]*A[2, 3]*A[4, 5] + A[1, 6]*A[2, 4]*A[3, 5] + A[1, 6]*A[2, 5]*A[3, 4]"
      ]
     },
     "metadata": {},
     "output_type": "display_data"
    },
    {
     "data": {
      "text/latex": [
       "$\\displaystyle \\overline{M_{1, 2}} \\overline{N_{1, 3}} M_{2, 3} + \\overline{M_{1, 2}} \\overline{N_{2, 3}} M_{1, 3} + \\overline{M_{1, 2}} M_{1, 2} N_{3, 3} + \\overline{M_{1, 3}} \\overline{N_{1, 2}} M_{2, 3} + \\overline{M_{1, 3}} M_{1, 2} N_{2, 3} + \\overline{M_{1, 3}} M_{1, 3} N_{2, 2} + \\overline{M_{2, 3}} M_{1, 2} N_{1, 3} + \\overline{M_{2, 3}} M_{1, 3} N_{1, 2} + \\overline{M_{2, 3}} M_{2, 3} N_{1, 1} + \\overline{N_{1, 2}} \\overline{N_{2, 3}} N_{1, 3} + \\overline{N_{1, 2}} N_{1, 2} N_{3, 3} + \\overline{N_{1, 3}} N_{1, 2} N_{2, 3} + \\overline{N_{1, 3}} N_{1, 3} N_{2, 2} + \\overline{N_{2, 3}} N_{1, 1} N_{2, 3} + N_{1, 1} N_{2, 2} N_{3, 3}$"
      ],
      "text/plain": [
       "conjugate(M[1, 2])*conjugate(N[1, 3])*M[2, 3] + conjugate(M[1, 2])*conjugate(N[2, 3])*M[1, 3] + conjugate(M[1, 2])*M[1, 2]*N[3, 3] + conjugate(M[1, 3])*conjugate(N[1, 2])*M[2, 3] + conjugate(M[1, 3])*M[1, 2]*N[2, 3] + conjugate(M[1, 3])*M[1, 3]*N[2, 2] + conjugate(M[2, 3])*M[1, 2]*N[1, 3] + conjugate(M[2, 3])*M[1, 3]*N[1, 2] + conjugate(M[2, 3])*M[2, 3]*N[1, 1] + conjugate(N[1, 2])*conjugate(N[2, 3])*N[1, 3] + conjugate(N[1, 2])*N[1, 2]*N[3, 3] + conjugate(N[1, 3])*N[1, 2]*N[2, 3] + conjugate(N[1, 3])*N[1, 3]*N[2, 2] + conjugate(N[2, 3])*N[1, 1]*N[2, 3] + N[1, 1]*N[2, 2]*N[3, 3]"
      ]
     },
     "metadata": {},
     "output_type": "display_data"
    }
   ],
   "source": [
    "display(gbs.moment([1,1,1]))\n",
    "display(old.moment([1,1,1], displacement=False))"
   ]
  },
  {
   "cell_type": "code",
   "execution_count": 3,
   "metadata": {},
   "outputs": [
    {
     "data": {
      "text/latex": [
       "$\\displaystyle A_{1, 2} A_{3, 4} A_{5, 6} + A_{1, 2} A_{3, 5} A_{4, 6} + A_{1, 3} A_{2, 4} A_{5, 6} + A_{1, 3} A_{2, 6} A_{4, 5} + A_{1, 5} A_{2, 3} A_{4, 6} + A_{1, 5} A_{2, 6} A_{3, 4} + A_{1, 6} A_{2, 3} A_{4, 5} + A_{1, 6} A_{2, 4} A_{3, 5}$"
      ],
      "text/plain": [
       "A[1, 2]*A[3, 4]*A[5, 6] + A[1, 2]*A[3, 5]*A[4, 6] + A[1, 3]*A[2, 4]*A[5, 6] + A[1, 3]*A[2, 6]*A[4, 5] + A[1, 5]*A[2, 3]*A[4, 6] + A[1, 5]*A[2, 6]*A[3, 4] + A[1, 6]*A[2, 3]*A[4, 5] + A[1, 6]*A[2, 4]*A[3, 5]"
      ]
     },
     "metadata": {},
     "output_type": "display_data"
    },
    {
     "data": {
      "text/latex": [
       "$\\displaystyle \\overline{M_{1, 2}} \\overline{N_{1, 3}} M_{2, 3} + \\overline{M_{1, 2}} \\overline{N_{2, 3}} M_{1, 3} + \\overline{M_{1, 3}} \\overline{N_{1, 2}} M_{2, 3} + \\overline{M_{1, 3}} M_{1, 2} N_{2, 3} + \\overline{M_{2, 3}} M_{1, 2} N_{1, 3} + \\overline{M_{2, 3}} M_{1, 3} N_{1, 2} + \\overline{N_{1, 2}} \\overline{N_{2, 3}} N_{1, 3} + \\overline{N_{1, 3}} N_{1, 2} N_{2, 3}$"
      ],
      "text/plain": [
       "conjugate(M[1, 2])*conjugate(N[1, 3])*M[2, 3] + conjugate(M[1, 2])*conjugate(N[2, 3])*M[1, 3] + conjugate(M[1, 3])*conjugate(N[1, 2])*M[2, 3] + conjugate(M[1, 3])*M[1, 2]*N[2, 3] + conjugate(M[2, 3])*M[1, 2]*N[1, 3] + conjugate(M[2, 3])*M[1, 3]*N[1, 2] + conjugate(N[1, 2])*conjugate(N[2, 3])*N[1, 3] + conjugate(N[1, 3])*N[1, 2]*N[2, 3]"
      ]
     },
     "metadata": {},
     "output_type": "display_data"
    }
   ],
   "source": [
    "display(gbs.cumulant([1,1,1]))\n",
    "display(old.cumulant([1,1,1], displacement=False))"
   ]
  }
 ],
 "metadata": {
  "kernelspec": {
   "display_name": "GBS",
   "language": "python",
   "name": "python3"
  },
  "language_info": {
   "codemirror_mode": {
    "name": "ipython",
    "version": 3
   },
   "file_extension": ".py",
   "mimetype": "text/x-python",
   "name": "python",
   "nbconvert_exporter": "python",
   "pygments_lexer": "ipython3",
   "version": "3.8.13"
  },
  "orig_nbformat": 4,
  "vscode": {
   "interpreter": {
    "hash": "b9da7cac117a6ecebdac47a9ebe9814a7ac3b718953c12b180cf4daab6903cd1"
   }
  }
 },
 "nbformat": 4,
 "nbformat_minor": 2
}
