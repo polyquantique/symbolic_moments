{
 "cells": [
  {
   "cell_type": "code",
   "execution_count": 1,
   "metadata": {},
   "outputs": [],
   "source": [
    "import gbs_functions as gbs\n",
    "import gbs_functions_MN as old\n",
    "from sympy import Matrix"
   ]
  },
  {
   "cell_type": "code",
   "execution_count": 2,
   "metadata": {},
   "outputs": [
    {
     "data": {
      "text/latex": [
       "$\\displaystyle A_{1, 2} A_{3, 4} A_{5, 6} + A_{1, 2} A_{3, 5} A_{4, 6} + A_{1, 2} A_{3, 6} A_{4, 5} + A_{1, 3} A_{2, 4} A_{5, 6} + A_{1, 3} A_{2, 5} A_{4, 6} + A_{1, 3} A_{2, 6} A_{4, 5} + A_{1, 4} A_{2, 3} A_{5, 6} + A_{1, 4} A_{2, 5} A_{3, 6} + A_{1, 4} A_{2, 6} A_{3, 5} + A_{1, 5} A_{2, 3} A_{4, 6} + A_{1, 5} A_{2, 4} A_{3, 6} + A_{1, 5} A_{2, 6} A_{3, 4} + A_{1, 6} A_{2, 3} A_{4, 5} + A_{1, 6} A_{2, 4} A_{3, 5} + A_{1, 6} A_{2, 5} A_{3, 4}$"
      ],
      "text/plain": [
       "A[1, 2]*A[3, 4]*A[5, 6] + A[1, 2]*A[3, 5]*A[4, 6] + A[1, 2]*A[3, 6]*A[4, 5] + A[1, 3]*A[2, 4]*A[5, 6] + A[1, 3]*A[2, 5]*A[4, 6] + A[1, 3]*A[2, 6]*A[4, 5] + A[1, 4]*A[2, 3]*A[5, 6] + A[1, 4]*A[2, 5]*A[3, 6] + A[1, 4]*A[2, 6]*A[3, 5] + A[1, 5]*A[2, 3]*A[4, 6] + A[1, 5]*A[2, 4]*A[3, 6] + A[1, 5]*A[2, 6]*A[3, 4] + A[1, 6]*A[2, 3]*A[4, 5] + A[1, 6]*A[2, 4]*A[3, 5] + A[1, 6]*A[2, 5]*A[3, 4]"
      ]
     },
     "metadata": {},
     "output_type": "display_data"
    },
    {
     "data": {
      "text/latex": [
       "$\\displaystyle \\overline{M_{1, 2}} \\overline{N_{1, 3}} M_{2, 3} + \\overline{M_{1, 2}} \\overline{N_{2, 3}} M_{1, 3} + \\overline{M_{1, 2}} M_{1, 2} N_{3, 3} + \\overline{M_{1, 3}} \\overline{N_{1, 2}} M_{2, 3} + \\overline{M_{1, 3}} M_{1, 2} N_{2, 3} + \\overline{M_{1, 3}} M_{1, 3} N_{2, 2} + \\overline{M_{2, 3}} M_{1, 2} N_{1, 3} + \\overline{M_{2, 3}} M_{1, 3} N_{1, 2} + \\overline{M_{2, 3}} M_{2, 3} N_{1, 1} + \\overline{N_{1, 2}} \\overline{N_{2, 3}} N_{1, 3} + \\overline{N_{1, 2}} N_{1, 2} N_{3, 3} + \\overline{N_{1, 3}} N_{1, 2} N_{2, 3} + \\overline{N_{1, 3}} N_{1, 3} N_{2, 2} + \\overline{N_{2, 3}} N_{1, 1} N_{2, 3} + N_{1, 1} N_{2, 2} N_{3, 3}$"
      ],
      "text/plain": [
       "conjugate(M[1, 2])*conjugate(N[1, 3])*M[2, 3] + conjugate(M[1, 2])*conjugate(N[2, 3])*M[1, 3] + conjugate(M[1, 2])*M[1, 2]*N[3, 3] + conjugate(M[1, 3])*conjugate(N[1, 2])*M[2, 3] + conjugate(M[1, 3])*M[1, 2]*N[2, 3] + conjugate(M[1, 3])*M[1, 3]*N[2, 2] + conjugate(M[2, 3])*M[1, 2]*N[1, 3] + conjugate(M[2, 3])*M[1, 3]*N[1, 2] + conjugate(M[2, 3])*M[2, 3]*N[1, 1] + conjugate(N[1, 2])*conjugate(N[2, 3])*N[1, 3] + conjugate(N[1, 2])*N[1, 2]*N[3, 3] + conjugate(N[1, 3])*N[1, 2]*N[2, 3] + conjugate(N[1, 3])*N[1, 3]*N[2, 2] + conjugate(N[2, 3])*N[1, 1]*N[2, 3] + N[1, 1]*N[2, 2]*N[3, 3]"
      ]
     },
     "metadata": {},
     "output_type": "display_data"
    }
   ],
   "source": [
    "display(gbs.moment([1,1,1]))\n",
    "display(old.moment([1,1,1], displacement=False))"
   ]
  },
  {
   "cell_type": "code",
   "execution_count": 3,
   "metadata": {},
   "outputs": [
    {
     "data": {
      "text/latex": [
       "$\\displaystyle A_{1, 2} A_{3, 4} A_{5, 6} + A_{1, 2} A_{3, 5} A_{4, 6} + A_{1, 3} A_{2, 4} A_{5, 6} + A_{1, 3} A_{2, 6} A_{4, 5} + A_{1, 5} A_{2, 3} A_{4, 6} + A_{1, 5} A_{2, 6} A_{3, 4} + A_{1, 6} A_{2, 3} A_{4, 5} + A_{1, 6} A_{2, 4} A_{3, 5}$"
      ],
      "text/plain": [
       "A[1, 2]*A[3, 4]*A[5, 6] + A[1, 2]*A[3, 5]*A[4, 6] + A[1, 3]*A[2, 4]*A[5, 6] + A[1, 3]*A[2, 6]*A[4, 5] + A[1, 5]*A[2, 3]*A[4, 6] + A[1, 5]*A[2, 6]*A[3, 4] + A[1, 6]*A[2, 3]*A[4, 5] + A[1, 6]*A[2, 4]*A[3, 5]"
      ]
     },
     "metadata": {},
     "output_type": "display_data"
    },
    {
     "data": {
      "text/latex": [
       "$\\displaystyle \\overline{M_{1, 2}} \\overline{N_{1, 3}} M_{2, 3} + \\overline{M_{1, 2}} \\overline{N_{2, 3}} M_{1, 3} + \\overline{M_{1, 3}} \\overline{N_{1, 2}} M_{2, 3} + \\overline{M_{1, 3}} M_{1, 2} N_{2, 3} + \\overline{M_{2, 3}} M_{1, 2} N_{1, 3} + \\overline{M_{2, 3}} M_{1, 3} N_{1, 2} + \\overline{N_{1, 2}} \\overline{N_{2, 3}} N_{1, 3} + \\overline{N_{1, 3}} N_{1, 2} N_{2, 3}$"
      ],
      "text/plain": [
       "conjugate(M[1, 2])*conjugate(N[1, 3])*M[2, 3] + conjugate(M[1, 2])*conjugate(N[2, 3])*M[1, 3] + conjugate(M[1, 3])*conjugate(N[1, 2])*M[2, 3] + conjugate(M[1, 3])*M[1, 2]*N[2, 3] + conjugate(M[2, 3])*M[1, 2]*N[1, 3] + conjugate(M[2, 3])*M[1, 3]*N[1, 2] + conjugate(N[1, 2])*conjugate(N[2, 3])*N[1, 3] + conjugate(N[1, 3])*N[1, 2]*N[2, 3]"
      ]
     },
     "metadata": {},
     "output_type": "display_data"
    }
   ],
   "source": [
    "display(gbs.cumulant([1,1,1]))\n",
    "display(old.cumulant([1,1,1], displacement=False))"
   ]
  },
  {
   "attachments": {},
   "cell_type": "markdown",
   "metadata": {},
   "source": [
    "### A new Montrealer\n",
    "The following is the building of the new Montrealer function which is more general and is not restricted to squeezed states but is the covariance for a general Matrix A as long as there is no displacement and no repetition."
   ]
  },
  {
   "cell_type": "code",
   "execution_count": 2,
   "metadata": {},
   "outputs": [],
   "source": [
    "from gbs_functions import symmetric_A\n",
    "import numpy as np\n",
    "from sympy import Matrix\n",
    "from itertools import product, permutations"
   ]
  },
  {
   "attachments": {},
   "cell_type": "markdown",
   "metadata": {},
   "source": [
    "Bitstring function"
   ]
  },
  {
   "cell_type": "code",
   "execution_count": 74,
   "metadata": {},
   "outputs": [
    {
     "name": "stdout",
     "output_type": "stream",
     "text": [
      "0000\n",
      "0001\n",
      "0010\n",
      "0011\n",
      "0100\n",
      "0101\n",
      "0110\n",
      "0111\n"
     ]
    }
   ],
   "source": [
    "def bitstrings(n):\n",
    "    for binary in map(''.join, product('01', repeat=n-1)):\n",
    "        yield '0'+binary\n",
    "\n",
    "for i in bitstrings(4):\n",
    "    print(i)"
   ]
  },
  {
   "cell_type": "code",
   "execution_count": 13,
   "metadata": {},
   "outputs": [
    {
     "data": {
      "text/latex": [
       "$\\displaystyle \\left[\\begin{matrix}A_{1, 1} & A_{1, 2} & A_{1, 3} & A_{1, 4} & A_{1, 5} & A_{1, 6}\\\\A_{1, 2} & A_{2, 2} & A_{2, 3} & A_{2, 4} & A_{2, 5} & A_{2, 6}\\\\A_{1, 3} & A_{2, 3} & A_{3, 3} & A_{3, 4} & A_{3, 5} & A_{3, 6}\\\\A_{1, 4} & A_{2, 4} & A_{3, 4} & A_{4, 4} & A_{4, 5} & A_{4, 6}\\\\A_{1, 5} & A_{2, 5} & A_{3, 5} & A_{4, 5} & A_{5, 5} & A_{5, 6}\\\\A_{1, 6} & A_{2, 6} & A_{3, 6} & A_{4, 6} & A_{5, 6} & A_{6, 6}\\end{matrix}\\right]$"
      ],
      "text/plain": [
       "Matrix([\n",
       "[A[1, 1], A[1, 2], A[1, 3], A[1, 4], A[1, 5], A[1, 6]],\n",
       "[A[1, 2], A[2, 2], A[2, 3], A[2, 4], A[2, 5], A[2, 6]],\n",
       "[A[1, 3], A[2, 3], A[3, 3], A[3, 4], A[3, 5], A[3, 6]],\n",
       "[A[1, 4], A[2, 4], A[3, 4], A[4, 4], A[4, 5], A[4, 6]],\n",
       "[A[1, 5], A[2, 5], A[3, 5], A[4, 5], A[5, 5], A[5, 6]],\n",
       "[A[1, 6], A[2, 6], A[3, 6], A[4, 6], A[5, 6], A[6, 6]]])"
      ]
     },
     "metadata": {},
     "output_type": "display_data"
    },
    {
     "name": "stdout",
     "output_type": "stream",
     "text": [
      "(2, 3, 4)\n",
      "(2, 4, 3)\n",
      "(3, 2, 4)\n",
      "(3, 4, 2)\n",
      "(4, 2, 3)\n",
      "(4, 3, 2)\n"
     ]
    }
   ],
   "source": [
    "A = symmetric_A(3)\n",
    "display(Matrix(A))\n",
    "x = [2,3,4]\n",
    "for i in permutations(x):\n",
    "    print(i)"
   ]
  },
  {
   "cell_type": "code",
   "execution_count": 87,
   "metadata": {},
   "outputs": [
    {
     "name": "stdout",
     "output_type": "stream",
     "text": [
      "[[1 2 3]\n",
      " [4 5 6]]\n",
      "[5 2]\n",
      "[[1 2 3]\n",
      " [4 5 6]]\n",
      "[[1 5 3]\n",
      " [4 2 6]]\n",
      "[[1 5 3]\n",
      " [4 2 6]]\n",
      "[[1 5 3]\n",
      " [4 0 6]]\n"
     ]
    }
   ],
   "source": [
    "n=3\n",
    "mat = np.arange(1,2*n+1).reshape(2,3) #initiate matrice of indices\n",
    "graph1 = list(range(1,n))+[n+1] #initiate graphs\n",
    "graph2 = list(range(n+2,2*n+1))+[n]\n",
    "\n",
    "bi = '011' #test bitstring\n",
    "print(mat)\n",
    "print(np.flip(mat[:,1]))\n",
    "\n",
    "#print(mat[:,1])\n",
    "new = np.delete(mat,0,1)\n",
    "#np.insert(new,1, )\n",
    "\n",
    "print(mat)\n",
    "buffer = mat[0,1]\n",
    "mat[0,1] = mat[1,1]\n",
    "mat[1,1] = buffer\n",
    "print(mat)\n",
    "\n",
    "test = np.copy(mat)\n",
    "test[1,1]= 0 \n",
    "print(mat)\n",
    "print(test)"
   ]
  },
  {
   "cell_type": "code",
   "execution_count": 134,
   "metadata": {},
   "outputs": [
    {
     "data": {
      "text/latex": [
       "$\\displaystyle A_{1, 1} A_{2, 2} A_{3, 3} A_{5, 5} A_{6, 6} A_{7, 7} + A_{1, 1} A_{2, 2} A_{3, 7}^{2} A_{5, 5} A_{6, 6} + A_{1, 1} A_{2, 3}^{2} A_{5, 5} A_{6, 7}^{2} + 2 A_{1, 1} A_{2, 3} A_{2, 7} A_{3, 6} A_{5, 5} A_{6, 7} + A_{1, 1} A_{2, 6}^{2} A_{3, 3} A_{5, 5} A_{7, 7} + A_{1, 1} A_{2, 6}^{2} A_{3, 7}^{2} A_{5, 5} + A_{1, 1} A_{2, 7}^{2} A_{3, 6}^{2} A_{5, 5}$"
      ],
      "text/plain": [
       "A[1, 1]*A[2, 2]*A[3, 3]*A[5, 5]*A[6, 6]*A[7, 7] + A[1, 1]*A[2, 2]*A[3, 7]**2*A[5, 5]*A[6, 6] + A[1, 1]*A[2, 3]**2*A[5, 5]*A[6, 7]**2 + 2*A[1, 1]*A[2, 3]*A[2, 7]*A[3, 6]*A[5, 5]*A[6, 7] + A[1, 1]*A[2, 6]**2*A[3, 3]*A[5, 5]*A[7, 7] + A[1, 1]*A[2, 6]**2*A[3, 7]**2*A[5, 5] + A[1, 1]*A[2, 7]**2*A[3, 6]**2*A[5, 5]"
      ]
     },
     "metadata": {},
     "output_type": "display_data"
    }
   ],
   "source": [
    "m = 4\n",
    "A = symmetric_A(m)\n",
    "power = [1,2,3]\n",
    "\n",
    "def bitstrings(n):\n",
    "    for binary in map(''.join, product('01', repeat=n-1)):\n",
    "        yield '0'+binary\n",
    "\n",
    "def montrealer(A, power):\n",
    "    equation = 0\n",
    "\n",
    "    #reshaping matrix A\n",
    "    m = int(np.shape(A)[0]/2)\n",
    "    power = power + [m+i for i in power]\n",
    "    power = [i-1 for i in power]\n",
    "    A = A[power][:,power]\n",
    "    \n",
    "    #making the original 2 rows matrix\n",
    "    m = int(np.shape(A)[0]/2)\n",
    "    original = np.arange(1,2*m+1).reshape(2,m)\n",
    "\n",
    "    #initial graphs\n",
    "    graph1 = list(range(1,m))+[m+1]\n",
    "    graph2 = list(range(m+2,2*m+1))+[m]\n",
    "\n",
    "    #loop over all bistrings and all permutations\n",
    "    for bit in bitstrings(m):\n",
    "        for perm in permutations(range(1,m)):\n",
    "            B =  np.copy(original)\n",
    "\n",
    "            for i,j in enumerate(bit):\n",
    "                if int(j):\n",
    "                    buffer = B[0,i]\n",
    "                    B[0,i] = B[1,i]\n",
    "                    B[1,i] = buffer\n",
    "\n",
    "            B = B[:,[0]+list(perm)] #first column stays in place always\n",
    "\n",
    "            #dictionary mapping\n",
    "            dico = {j:i+1 for i,j in enumerate(B.reshape(1,2*m)[0])}\n",
    "            new_mapping = {dico[i]:dico[j] for i,j in zip(graph1,graph2)}\n",
    "\n",
    "            term = 1\n",
    "            for i,j in dico.items():\n",
    "                term *= A[i-1,j-1]\n",
    "\n",
    "            equation += term\n",
    "\n",
    "    return equation\n",
    "\n",
    "display(montrealer(A, power))"
   ]
  }
 ],
 "metadata": {
  "kernelspec": {
   "display_name": "GBS",
   "language": "python",
   "name": "python3"
  },
  "language_info": {
   "codemirror_mode": {
    "name": "ipython",
    "version": 3
   },
   "file_extension": ".py",
   "mimetype": "text/x-python",
   "name": "python",
   "nbconvert_exporter": "python",
   "pygments_lexer": "ipython3",
   "version": "3.8.13"
  },
  "orig_nbformat": 4,
  "vscode": {
   "interpreter": {
    "hash": "b9da7cac117a6ecebdac47a9ebe9814a7ac3b718953c12b180cf4daab6903cd1"
   }
  }
 },
 "nbformat": 4,
 "nbformat_minor": 2
}
