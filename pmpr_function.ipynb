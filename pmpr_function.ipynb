{
 "cells": [
  {
   "attachments": {},
   "cell_type": "markdown",
   "metadata": {},
   "source": [
    "# PMPR\n",
    "\n",
    "pmpr : perfect matchings of the two rows\n",
    "vpr : perfect matchings excluding horizontal edges"
   ]
  },
  {
   "cell_type": "code",
   "execution_count": 1,
   "metadata": {},
   "outputs": [],
   "source": [
    "from itertools import product, permutations\n",
    "from functools import reduce"
   ]
  },
  {
   "cell_type": "code",
   "execution_count": 2,
   "metadata": {},
   "outputs": [],
   "source": [
    "def mapper(x, objects):\n",
    "    \"\"\"Helper function to turn a permutation and bistring into an element of pmpr\"\"\"\n",
    "    (perm, bit) = x\n",
    "    m = len(bit)\n",
    "    Blist = [list(range(m)), list(range(m, 2 * m))]\n",
    "    for i, j in enumerate(bit):\n",
    "        if int(j):\n",
    "            (Blist[0][i], Blist[1][i]) = (Blist[1][i], Blist[0][i])\n",
    "    Blist = [Blist[0][i] for i in tuple((0,) + perm)] + [Blist[1][i] for i in tuple((0,) + perm)]\n",
    "    dico_list = {j: i + 1 for i, j in enumerate(Blist)}\n",
    "    new_mapping_list = {\n",
    "        objects[dico_list[i] - 1]: objects[dico_list[j] - 1]\n",
    "        for i, j in zip(list(range(0, m - 1)) + [m], list(range(m + 1, 2 * m)) + [m - 1])\n",
    "    }\n",
    "    return tuple(new_mapping_list.items())\n",
    "\n",
    "\n",
    "def bitstrings(n):\n",
    "    \"\"\"\n",
    "    Returns the bistrings from 0 to n/2\n",
    "\n",
    "    Args:\n",
    "        n (int) : Twice the highest bitstring value.\n",
    "\n",
    "    Returns:\n",
    "        (iterable) : An iterable of all bistrings.\n",
    "    \"\"\"\n",
    "    for binary in map(\"\".join, product(\"01\", repeat=n - 1)):\n",
    "        yield \"0\" + binary"
   ]
  },
  {
   "attachments": {},
   "cell_type": "markdown",
   "metadata": {},
   "source": [
    "test mapper"
   ]
  },
  {
   "cell_type": "code",
   "execution_count": 26,
   "metadata": {},
   "outputs": [
    {
     "name": "stdout",
     "output_type": "stream",
     "text": [
      "permutations:\n",
      "product\n",
      "((1, 2, 3),)\n",
      "((1, 3, 2),)\n",
      "((2, 1, 3),)\n",
      "((2, 3, 1),)\n",
      "((3, 1, 2),)\n",
      "((3, 2, 1),)\n",
      "bitstrings\n",
      "mapper\n",
      "((1, 6), (2, 7), (3, 8), (5, 4))\n",
      "((1, 6), (2, 7), (3, 4), (5, 8))\n",
      "((1, 6), (2, 3), (7, 8), (5, 4))\n",
      "((1, 6), (2, 3), (7, 4), (5, 8))\n",
      "((1, 2), (6, 7), (3, 8), (5, 4))\n",
      "((1, 2), (6, 7), (3, 4), (5, 8))\n",
      "((1, 2), (6, 3), (7, 8), (5, 4))\n",
      "((1, 2), (6, 3), (7, 4), (5, 8))\n",
      "((1, 6), (2, 8), (4, 7), (5, 3))\n",
      "((1, 6), (2, 8), (4, 3), (5, 7))\n",
      "((1, 6), (2, 4), (8, 7), (5, 3))\n",
      "((1, 6), (2, 4), (8, 3), (5, 7))\n",
      "((1, 2), (6, 8), (4, 7), (5, 3))\n",
      "((1, 2), (6, 8), (4, 3), (5, 7))\n",
      "((1, 2), (6, 4), (8, 7), (5, 3))\n",
      "((1, 2), (6, 4), (8, 3), (5, 7))\n",
      "((1, 7), (3, 6), (2, 8), (5, 4))\n",
      "((1, 7), (3, 6), (2, 4), (5, 8))\n",
      "((1, 7), (3, 2), (6, 8), (5, 4))\n",
      "((1, 7), (3, 2), (6, 4), (5, 8))\n",
      "((1, 3), (7, 6), (2, 8), (5, 4))\n",
      "((1, 3), (7, 6), (2, 4), (5, 8))\n",
      "((1, 3), (7, 2), (6, 8), (5, 4))\n",
      "((1, 3), (7, 2), (6, 4), (5, 8))\n",
      "((1, 8), (4, 6), (2, 7), (5, 3))\n",
      "((1, 8), (4, 6), (2, 3), (5, 7))\n",
      "((1, 8), (4, 2), (6, 7), (5, 3))\n",
      "((1, 8), (4, 2), (6, 3), (5, 7))\n",
      "((1, 4), (8, 6), (2, 7), (5, 3))\n",
      "((1, 4), (8, 6), (2, 3), (5, 7))\n",
      "((1, 4), (8, 2), (6, 7), (5, 3))\n",
      "((1, 4), (8, 2), (6, 3), (5, 7))\n",
      "((1, 7), (3, 8), (4, 6), (5, 2))\n",
      "((1, 7), (3, 8), (4, 2), (5, 6))\n",
      "((1, 7), (3, 4), (8, 6), (5, 2))\n",
      "((1, 7), (3, 4), (8, 2), (5, 6))\n",
      "((1, 3), (7, 8), (4, 6), (5, 2))\n",
      "((1, 3), (7, 8), (4, 2), (5, 6))\n",
      "((1, 3), (7, 4), (8, 6), (5, 2))\n",
      "((1, 3), (7, 4), (8, 2), (5, 6))\n",
      "((1, 8), (4, 7), (3, 6), (5, 2))\n",
      "((1, 8), (4, 7), (3, 2), (5, 6))\n",
      "((1, 8), (4, 3), (7, 6), (5, 2))\n",
      "((1, 8), (4, 3), (7, 2), (5, 6))\n",
      "((1, 4), (8, 7), (3, 6), (5, 2))\n",
      "((1, 4), (8, 7), (3, 2), (5, 6))\n",
      "((1, 4), (8, 3), (7, 6), (5, 2))\n",
      "((1, 4), (8, 3), (7, 2), (5, 6))\n"
     ]
    }
   ],
   "source": [
    "s = (1,2,3,4,5,6,7,8)\n",
    "m = len(s) // 2\n",
    "local_mapper = lambda x: mapper(x, s)\n",
    "\n",
    "per = permutations(range(1, m))\n",
    "print('permutations:')\n",
    "#for i in per:\n",
    "#    print(i)\n",
    "\n",
    "prod = product(permutations(range(1, m)))\n",
    "print(\"product\")\n",
    "for i in prod:\n",
    "    print(i)\n",
    "\n",
    "bit = bitstrings(m)\n",
    "print(\"bitstrings\")\n",
    "#for i in bit:\n",
    "#    print(i)\n",
    "\n",
    "print(\"mapper\")\n",
    "mama = map(local_mapper, product(permutations(range(1, m)), bitstrings(m)))\n",
    "for i in mama:\n",
    "    print(i)"
   ]
  },
  {
   "attachments": {},
   "cell_type": "markdown",
   "metadata": {},
   "source": [
    "### PMPR"
   ]
  },
  {
   "cell_type": "code",
   "execution_count": 3,
   "metadata": {},
   "outputs": [],
   "source": [
    "def pmpr(s):\n",
    "    \"\"\"Generates the set of perfect matchings that cannot be built as products of lower order perfect matchings.\n",
    "\n",
    "    Args:\n",
    "        s (tuple): as tuple\n",
    "\n",
    "    Returns:\n",
    "        generator: the set of perfect matching permutations of the tuple s\n",
    "    \"\"\"\n",
    "    m = len(s) // 2\n",
    "    local_mapper = lambda x: mapper(x, s)\n",
    "    return map(local_mapper, product(permutations(range(1, m)), bitstrings(m)))"
   ]
  },
  {
   "attachments": {},
   "cell_type": "markdown",
   "metadata": {},
   "source": [
    "test pmpr"
   ]
  },
  {
   "cell_type": "code",
   "execution_count": 7,
   "metadata": {},
   "outputs": [
    {
     "name": "stdout",
     "output_type": "stream",
     "text": [
      "<map object at 0x00000202B6F44D00>\n",
      "((1, 5), (2, 6), (4, 3))\n",
      "((1, 5), (2, 3), (4, 6))\n",
      "((1, 2), (5, 6), (4, 3))\n",
      "((1, 2), (5, 3), (4, 6))\n",
      "((1, 6), (3, 5), (4, 2))\n",
      "((1, 6), (3, 2), (4, 5))\n",
      "((1, 3), (6, 5), (4, 2))\n",
      "((1, 3), (6, 2), (4, 5))\n"
     ]
    }
   ],
   "source": [
    "test = pmpr((1,2,3,4,5,6))\n",
    "\n",
    "for i in test:\n",
    "    print(i)"
   ]
  },
  {
   "attachments": {},
   "cell_type": "markdown",
   "metadata": {},
   "source": [
    "### VPR\n",
    "\n",
    "For the Lavalois"
   ]
  },
  {
   "cell_type": "code",
   "execution_count": 55,
   "metadata": {},
   "outputs": [],
   "source": [
    "def vpr(s):\n",
    "    \"\"\"Generates the set of perfect matchings that cannot be built as products of lower order perfect matchings.\n",
    "\n",
    "    Args:\n",
    "        s (tuple): as tuple\n",
    "\n",
    "    Returns:\n",
    "        generator: the set of perfect matching permutations of the tuple s\n",
    "    \"\"\"\n",
    "    m = len(s) // 2\n",
    "    for i in pmpr(s):\n",
    "        value = map(lambda x : sorted(x)[0] <= m and sorted(x)[1] > m, i)\n",
    "        if all(value):\n",
    "            yield(i)"
   ]
  },
  {
   "attachments": {},
   "cell_type": "markdown",
   "metadata": {},
   "source": [
    "test vpr for n = 4"
   ]
  },
  {
   "cell_type": "code",
   "execution_count": 87,
   "metadata": {},
   "outputs": [
    {
     "name": "stdout",
     "output_type": "stream",
     "text": [
      "((1, 6), (2, 7), (3, 8), (5, 4))\n",
      "((1, 6), (2, 8), (4, 7), (5, 3))\n",
      "((1, 7), (3, 6), (2, 8), (5, 4))\n",
      "((1, 8), (4, 6), (2, 7), (5, 3))\n",
      "((1, 7), (3, 8), (4, 6), (5, 2))\n",
      "((1, 8), (4, 7), (3, 6), (5, 2))\n"
     ]
    },
    {
     "data": {
      "text/plain": [
       "120"
      ]
     },
     "execution_count": 87,
     "metadata": {},
     "output_type": "execute_result"
    }
   ],
   "source": [
    "n = 4\n",
    "\n",
    "for i in vpr(range(1,2*n+1)):\n",
    "    print(i)\n",
    "\n",
    "len(list(vpr(range(1,2*6+1))))"
   ]
  },
  {
   "attachments": {},
   "cell_type": "markdown",
   "metadata": {},
   "source": [
    "### HPR\n",
    "\n",
    "For the Laurentienne"
   ]
  },
  {
   "cell_type": "code",
   "execution_count": 54,
   "metadata": {},
   "outputs": [],
   "source": [
    "def hpr(s):\n",
    "    \"\"\"Generates the set of perfect matchings that cannot be built as products of lower order perfect matchings.\n",
    "\n",
    "    Args:\n",
    "        s (tuple): as tuple\n",
    "\n",
    "    Returns:\n",
    "        generator: the set of perfect matching permutations of the tuple s\n",
    "    \"\"\"\n",
    "    m = len(s) // 2\n",
    "    comparaison = lambda x : (x[0] <= m and x[1] <= m) or (x[0] > m and x[1] > m)\n",
    "    for i in pmpr(s):\n",
    "        value = map(comparaison, i)\n",
    "        if all(value):\n",
    "            yield(i)"
   ]
  },
  {
   "attachments": {},
   "cell_type": "markdown",
   "metadata": {},
   "source": [
    "test hpr for n = 4"
   ]
  },
  {
   "cell_type": "code",
   "execution_count": 89,
   "metadata": {},
   "outputs": [
    {
     "name": "stdout",
     "output_type": "stream",
     "text": [
      "((1, 2), (6, 7), (3, 4), (5, 8))\n",
      "((1, 2), (6, 8), (4, 3), (5, 7))\n",
      "((1, 3), (7, 6), (2, 4), (5, 8))\n",
      "((1, 4), (8, 6), (2, 3), (5, 7))\n",
      "((1, 3), (7, 8), (4, 2), (5, 6))\n",
      "((1, 4), (8, 7), (3, 2), (5, 6))\n"
     ]
    },
    {
     "data": {
      "text/plain": [
       "120"
      ]
     },
     "execution_count": 89,
     "metadata": {},
     "output_type": "execute_result"
    }
   ],
   "source": [
    "n = 4\n",
    "\n",
    "for i in hpr(range(1,2*n+1)):\n",
    "    print(i)\n",
    "\n",
    "len(list(hpr(range(1,2*6+1))))"
   ]
  },
  {
   "attachments": {},
   "cell_type": "markdown",
   "metadata": {},
   "source": [
    "### SPMR\n",
    "\n",
    "for loop montrealer"
   ]
  },
  {
   "cell_type": "code",
   "execution_count": 9,
   "metadata": {},
   "outputs": [],
   "source": [
    "def spmr(s):\n",
    "    \"\"\"Generates the set of perfect matchings that cannot be built as products of lower order perfect matchings.\n",
    "\n",
    "    Args:\n",
    "        s (tuple): as tuple\n",
    "\n",
    "    Returns:\n",
    "        generator: the set of perfect matching permutations of the tuple s\n",
    "    \"\"\"\n",
    "    for perfect in pmpr(s):\n",
    "        yield perfect\n",
    "        for index, couple in enumerate(perfect):\n",
    "            yield perfect[:index] + perfect[index+1:] + ((couple[0],couple[0]),(couple[1],couple[1]))\n",
    "\n"
   ]
  },
  {
   "attachments": {},
   "cell_type": "markdown",
   "metadata": {},
   "source": [
    "test spmr for n = 3"
   ]
  },
  {
   "cell_type": "code",
   "execution_count": 90,
   "metadata": {},
   "outputs": [
    {
     "name": "stdout",
     "output_type": "stream",
     "text": [
      "type\n",
      "<class 'generator'>\n",
      "number of elements for n =6 \n",
      "26880\n",
      "((1, 5), (2, 6), (4, 3))\n",
      "((2, 6), (4, 3), (1, 1), (5, 5))\n",
      "((1, 5), (4, 3), (2, 2), (6, 6))\n",
      "((1, 5), (2, 6), (4, 4), (3, 3))\n",
      "((1, 5), (2, 3), (4, 6))\n",
      "((2, 3), (4, 6), (1, 1), (5, 5))\n",
      "((1, 5), (4, 6), (2, 2), (3, 3))\n",
      "((1, 5), (2, 3), (4, 4), (6, 6))\n",
      "((1, 2), (5, 6), (4, 3))\n",
      "((5, 6), (4, 3), (1, 1), (2, 2))\n",
      "((1, 2), (4, 3), (5, 5), (6, 6))\n",
      "((1, 2), (5, 6), (4, 4), (3, 3))\n",
      "((1, 2), (5, 3), (4, 6))\n",
      "((5, 3), (4, 6), (1, 1), (2, 2))\n",
      "((1, 2), (4, 6), (5, 5), (3, 3))\n",
      "((1, 2), (5, 3), (4, 4), (6, 6))\n",
      "((1, 6), (3, 5), (4, 2))\n",
      "((3, 5), (4, 2), (1, 1), (6, 6))\n",
      "((1, 6), (4, 2), (3, 3), (5, 5))\n",
      "((1, 6), (3, 5), (4, 4), (2, 2))\n",
      "((1, 6), (3, 2), (4, 5))\n",
      "((3, 2), (4, 5), (1, 1), (6, 6))\n",
      "((1, 6), (4, 5), (3, 3), (2, 2))\n",
      "((1, 6), (3, 2), (4, 4), (5, 5))\n",
      "((1, 3), (6, 5), (4, 2))\n",
      "((6, 5), (4, 2), (1, 1), (3, 3))\n",
      "((1, 3), (4, 2), (6, 6), (5, 5))\n",
      "((1, 3), (6, 5), (4, 4), (2, 2))\n",
      "((1, 3), (6, 2), (4, 5))\n",
      "((6, 2), (4, 5), (1, 1), (3, 3))\n",
      "((1, 3), (4, 5), (6, 6), (2, 2))\n",
      "((1, 3), (6, 2), (4, 4), (5, 5))\n"
     ]
    }
   ],
   "source": [
    "n = 3\n",
    "\n",
    "print(\"type\")\n",
    "print(type(spmr(range(1,2*n+1))))\n",
    "print(\"number of elements for n =6 \")\n",
    "print(len(list(spmr(range(1,2*6+1)))))\n",
    "\n",
    "for i in spmr(range(1,2*n+1)):\n",
    "    print(i)"
   ]
  },
  {
   "attachments": {},
   "cell_type": "markdown",
   "metadata": {},
   "source": [
    "Testing for extrem values"
   ]
  },
  {
   "cell_type": "code",
   "execution_count": 91,
   "metadata": {},
   "outputs": [
    {
     "name": "stdout",
     "output_type": "stream",
     "text": [
      "0\n",
      "1\n",
      "2\n"
     ]
    }
   ],
   "source": [
    "s = (1,2)\n",
    "\n",
    "hp = hpr(s)\n",
    "print(len(list(hp)))\n",
    "\n",
    "vp = vpr(s)\n",
    "print(len(list(vp)))\n",
    "\n",
    "sp = spmr(s)\n",
    "print(len(list(sp)))"
   ]
  },
  {
   "cell_type": "code",
   "execution_count": 95,
   "metadata": {},
   "outputs": [
    {
     "name": "stdout",
     "output_type": "stream",
     "text": [
      "720\n",
      "0\n",
      "368640\n"
     ]
    }
   ],
   "source": [
    "s = (1,2,3,4,5,6,7,8,9,10,11,12,13,14)\n",
    "\n",
    "hp = hpr(s)\n",
    "print(len(list(hp)))\n",
    "\n",
    "vp = vpr(s)\n",
    "print(len(list(vp)))\n",
    "\n",
    "sp = spmr(s)\n",
    "print(len(list(sp)))"
   ]
  },
  {
   "attachments": {},
   "cell_type": "markdown",
   "metadata": {},
   "source": [
    "### Tests for test file\n",
    "\n",
    "pmpr"
   ]
  },
  {
   "cell_type": "code",
   "execution_count": 108,
   "metadata": {},
   "outputs": [
    {
     "name": "stdout",
     "output_type": "stream",
     "text": [
      "terms : 1\n",
      "pmpr : 1\n",
      "terms : 2\n",
      "pmpr : 2\n",
      "terms : 8\n",
      "pmpr : 8\n",
      "terms : 48\n",
      "pmpr : 48\n",
      "terms : 384\n",
      "pmpr : 384\n"
     ]
    }
   ],
   "source": [
    "for n in range(1,6):\n",
    "    print(f'terms : {reduce(int.__mul__, range(2*n-2, 0, -2)) if n>1 else 1}')\n",
    "    print(f'pmpr : {len(list(pmpr(tuple(range(1,2*n+1)))))}')\n"
   ]
  },
  {
   "attachments": {},
   "cell_type": "markdown",
   "metadata": {},
   "source": [
    "spmr"
   ]
  },
  {
   "cell_type": "code",
   "execution_count": 13,
   "metadata": {},
   "outputs": [
    {
     "name": "stdout",
     "output_type": "stream",
     "text": [
      "terms : 2\n",
      "spmr : 2\n",
      "terms : 6\n",
      "spmr : 6\n",
      "terms : 32\n",
      "spmr : 32\n",
      "terms : 240\n",
      "spmr : 240\n",
      "terms : 2304\n",
      "spmr : 2304\n"
     ]
    }
   ],
   "source": [
    "for n in range(1,6):\n",
    "    print(f'terms : {(n+1)*reduce(int.__mul__, range(2*n-2, 0, -2)) if n>1 else 2}')\n",
    "    print(f'spmr : {len(list(spmr(tuple(range(1,2*n+1)))))}')"
   ]
  },
  {
   "attachments": {},
   "cell_type": "markdown",
   "metadata": {},
   "source": [
    "### Other HPR"
   ]
  },
  {
   "cell_type": "code",
   "execution_count": 27,
   "metadata": {},
   "outputs": [
    {
     "name": "stdout",
     "output_type": "stream",
     "text": [
      "permutations:\n",
      "product\n",
      "((1, 2, 3),)\n",
      "((1, 3, 2),)\n",
      "((2, 1, 3),)\n",
      "((2, 3, 1),)\n",
      "((3, 1, 2),)\n",
      "((3, 2, 1),)\n",
      "bitstrings\n",
      "0000\n",
      "0001\n",
      "0010\n",
      "0011\n",
      "0100\n",
      "0101\n",
      "0110\n",
      "0111\n",
      "mapper\n",
      "((1, 6), (2, 7), (3, 8), (5, 4))\n",
      "((1, 6), (2, 8), (4, 7), (5, 3))\n",
      "((1, 7), (3, 6), (2, 8), (5, 4))\n",
      "((1, 8), (4, 6), (2, 7), (5, 3))\n",
      "((1, 7), (3, 8), (4, 6), (5, 2))\n",
      "((1, 8), (4, 7), (3, 6), (5, 2))\n",
      "mapper\n",
      "((1, 2), (6, 7), (3, 4), (5, 8))\n",
      "((1, 2), (6, 8), (4, 3), (5, 7))\n",
      "((1, 3), (7, 6), (2, 4), (5, 8))\n",
      "((1, 4), (8, 6), (2, 3), (5, 7))\n",
      "((1, 3), (7, 8), (4, 2), (5, 6))\n",
      "((1, 4), (8, 7), (3, 2), (5, 6))\n"
     ]
    }
   ],
   "source": [
    "s = (1,2,3,4,5,6,7,8)\n",
    "m = len(s) // 2\n",
    "local_mapper = lambda x: mapper(x, s)\n",
    "\n",
    "per = permutations(range(1, m))\n",
    "print('permutations:')\n",
    "#for i in per:\n",
    "    #print(i)\n",
    "\n",
    "prod = product(permutations(range(1, m)))\n",
    "print(\"product\")\n",
    "for i in prod:\n",
    "    print(i)\n",
    "\n",
    "bit = bitstrings(m)\n",
    "print(\"bitstrings\")\n",
    "for i in bit:\n",
    "    print(i)\n",
    "\n",
    "print(\"mapper\")\n",
    "mama = map(local_mapper, product(permutations(range(1, m)), (\"0000\",)))\n",
    "for i in mama:\n",
    "    print(i)\n",
    "\n",
    "print(\"mapper\")\n",
    "mama = map(local_mapper, product(permutations(range(1, m)), (\"0101\",)))\n",
    "for i in mama:\n",
    "    print(i)"
   ]
  },
  {
   "cell_type": "code",
   "execution_count": 4,
   "metadata": {},
   "outputs": [],
   "source": [
    "def vpr(s):\n",
    "    \"\"\"Generates the set of perfect matchings included in the Lavalois.\n",
    "\n",
    "    Args:\n",
    "        s (tuple): as tuple\n",
    "\n",
    "    Returns:\n",
    "        generator: the set of perfect matching permutations of the tuple s\n",
    "    \"\"\"\n",
    "    m = len(s) // 2\n",
    "    local_mapper = lambda x: mapper(x, s)\n",
    "    return map(local_mapper, product(permutations(range(1, m)), (m*\"0\",)))\n",
    "    "
   ]
  },
  {
   "cell_type": "code",
   "execution_count": 53,
   "metadata": {},
   "outputs": [
    {
     "name": "stdout",
     "output_type": "stream",
     "text": [
      "(1, 2, 3, 4, 5, 6, 7, 8)\n",
      "((1, 6), (2, 7), (3, 8), (5, 4))\n",
      "((1, 6), (2, 8), (4, 7), (5, 3))\n",
      "((1, 7), (3, 6), (2, 8), (5, 4))\n",
      "((1, 8), (4, 6), (2, 7), (5, 3))\n",
      "((1, 7), (3, 8), (4, 6), (5, 2))\n",
      "((1, 8), (4, 7), (3, 6), (5, 2))\n",
      "6\n"
     ]
    }
   ],
   "source": [
    "n = 4\n",
    "print(tuple(range(1,2*n+1)))\n",
    "m=0\n",
    "for i in vpr(tuple(range(1,2*n+1))):\n",
    "    print(i)\n",
    "    m+=1\n",
    "\n",
    "print(m)"
   ]
  },
  {
   "cell_type": "code",
   "execution_count": 5,
   "metadata": {},
   "outputs": [],
   "source": [
    "def hpr(s):\n",
    "    \"\"\"Generates the set of perfect matchings included in the Montrealer.\n",
    "\n",
    "    Args:\n",
    "        s (tuple): as tuple\n",
    "\n",
    "    Returns:\n",
    "        generator: the set of perfect matching permutations of the tuple s\n",
    "    \"\"\"\n",
    "    m = len(s) // 2\n",
    "    if m % 2 != 0:\n",
    "        return ()\n",
    "    \n",
    "    local_mapper = lambda x: mapper(x, s)\n",
    "    return map(local_mapper, product(permutations(range(1, m)), (int(m/2)*\"01\",)))\n",
    "    "
   ]
  },
  {
   "cell_type": "code",
   "execution_count": 63,
   "metadata": {},
   "outputs": [
    {
     "name": "stdout",
     "output_type": "stream",
     "text": [
      "(1, 2, 3, 4, 5, 6, 7, 8, 9, 10, 11, 12)\n",
      "((1, 2), (8, 9), (3, 4), (10, 11), (5, 6), (7, 12))\n",
      "((1, 2), (8, 9), (3, 4), (10, 12), (6, 5), (7, 11))\n",
      "((1, 2), (8, 9), (3, 5), (11, 10), (4, 6), (7, 12))\n",
      "((1, 2), (8, 9), (3, 6), (12, 10), (4, 5), (7, 11))\n",
      "((1, 2), (8, 9), (3, 5), (11, 12), (6, 4), (7, 10))\n",
      "((1, 2), (8, 9), (3, 6), (12, 11), (5, 4), (7, 10))\n",
      "((1, 2), (8, 10), (4, 3), (9, 11), (5, 6), (7, 12))\n",
      "((1, 2), (8, 10), (4, 3), (9, 12), (6, 5), (7, 11))\n",
      "((1, 2), (8, 11), (5, 3), (9, 10), (4, 6), (7, 12))\n",
      "((1, 2), (8, 12), (6, 3), (9, 10), (4, 5), (7, 11))\n",
      "((1, 2), (8, 11), (5, 3), (9, 12), (6, 4), (7, 10))\n",
      "((1, 2), (8, 12), (6, 3), (9, 11), (5, 4), (7, 10))\n",
      "((1, 2), (8, 10), (4, 5), (11, 9), (3, 6), (7, 12))\n",
      "((1, 2), (8, 10), (4, 6), (12, 9), (3, 5), (7, 11))\n",
      "((1, 2), (8, 11), (5, 4), (10, 9), (3, 6), (7, 12))\n",
      "((1, 2), (8, 12), (6, 4), (10, 9), (3, 5), (7, 11))\n",
      "((1, 2), (8, 11), (5, 6), (12, 9), (3, 4), (7, 10))\n",
      "((1, 2), (8, 12), (6, 5), (11, 9), (3, 4), (7, 10))\n",
      "((1, 2), (8, 10), (4, 5), (11, 12), (6, 3), (7, 9))\n",
      "((1, 2), (8, 10), (4, 6), (12, 11), (5, 3), (7, 9))\n",
      "((1, 2), (8, 11), (5, 4), (10, 12), (6, 3), (7, 9))\n",
      "((1, 2), (8, 12), (6, 4), (10, 11), (5, 3), (7, 9))\n",
      "((1, 2), (8, 11), (5, 6), (12, 10), (4, 3), (7, 9))\n",
      "((1, 2), (8, 12), (6, 5), (11, 10), (4, 3), (7, 9))\n",
      "((1, 3), (9, 8), (2, 4), (10, 11), (5, 6), (7, 12))\n",
      "((1, 3), (9, 8), (2, 4), (10, 12), (6, 5), (7, 11))\n",
      "((1, 3), (9, 8), (2, 5), (11, 10), (4, 6), (7, 12))\n",
      "((1, 3), (9, 8), (2, 6), (12, 10), (4, 5), (7, 11))\n",
      "((1, 3), (9, 8), (2, 5), (11, 12), (6, 4), (7, 10))\n",
      "((1, 3), (9, 8), (2, 6), (12, 11), (5, 4), (7, 10))\n",
      "((1, 4), (10, 8), (2, 3), (9, 11), (5, 6), (7, 12))\n",
      "((1, 4), (10, 8), (2, 3), (9, 12), (6, 5), (7, 11))\n",
      "((1, 5), (11, 8), (2, 3), (9, 10), (4, 6), (7, 12))\n",
      "((1, 6), (12, 8), (2, 3), (9, 10), (4, 5), (7, 11))\n",
      "((1, 5), (11, 8), (2, 3), (9, 12), (6, 4), (7, 10))\n",
      "((1, 6), (12, 8), (2, 3), (9, 11), (5, 4), (7, 10))\n",
      "((1, 4), (10, 8), (2, 5), (11, 9), (3, 6), (7, 12))\n",
      "((1, 4), (10, 8), (2, 6), (12, 9), (3, 5), (7, 11))\n",
      "((1, 5), (11, 8), (2, 4), (10, 9), (3, 6), (7, 12))\n",
      "((1, 6), (12, 8), (2, 4), (10, 9), (3, 5), (7, 11))\n",
      "((1, 5), (11, 8), (2, 6), (12, 9), (3, 4), (7, 10))\n",
      "((1, 6), (12, 8), (2, 5), (11, 9), (3, 4), (7, 10))\n",
      "((1, 4), (10, 8), (2, 5), (11, 12), (6, 3), (7, 9))\n",
      "((1, 4), (10, 8), (2, 6), (12, 11), (5, 3), (7, 9))\n",
      "((1, 5), (11, 8), (2, 4), (10, 12), (6, 3), (7, 9))\n",
      "((1, 6), (12, 8), (2, 4), (10, 11), (5, 3), (7, 9))\n",
      "((1, 5), (11, 8), (2, 6), (12, 10), (4, 3), (7, 9))\n",
      "((1, 6), (12, 8), (2, 5), (11, 10), (4, 3), (7, 9))\n",
      "((1, 3), (9, 10), (4, 2), (8, 11), (5, 6), (7, 12))\n",
      "((1, 3), (9, 10), (4, 2), (8, 12), (6, 5), (7, 11))\n",
      "((1, 3), (9, 11), (5, 2), (8, 10), (4, 6), (7, 12))\n",
      "((1, 3), (9, 12), (6, 2), (8, 10), (4, 5), (7, 11))\n",
      "((1, 3), (9, 11), (5, 2), (8, 12), (6, 4), (7, 10))\n",
      "((1, 3), (9, 12), (6, 2), (8, 11), (5, 4), (7, 10))\n",
      "((1, 4), (10, 9), (3, 2), (8, 11), (5, 6), (7, 12))\n",
      "((1, 4), (10, 9), (3, 2), (8, 12), (6, 5), (7, 11))\n",
      "((1, 5), (11, 9), (3, 2), (8, 10), (4, 6), (7, 12))\n",
      "((1, 6), (12, 9), (3, 2), (8, 10), (4, 5), (7, 11))\n",
      "((1, 5), (11, 9), (3, 2), (8, 12), (6, 4), (7, 10))\n",
      "((1, 6), (12, 9), (3, 2), (8, 11), (5, 4), (7, 10))\n",
      "((1, 4), (10, 11), (5, 2), (8, 9), (3, 6), (7, 12))\n",
      "((1, 4), (10, 12), (6, 2), (8, 9), (3, 5), (7, 11))\n",
      "((1, 5), (11, 10), (4, 2), (8, 9), (3, 6), (7, 12))\n",
      "((1, 6), (12, 10), (4, 2), (8, 9), (3, 5), (7, 11))\n",
      "((1, 5), (11, 12), (6, 2), (8, 9), (3, 4), (7, 10))\n",
      "((1, 6), (12, 11), (5, 2), (8, 9), (3, 4), (7, 10))\n",
      "((1, 4), (10, 11), (5, 2), (8, 12), (6, 3), (7, 9))\n",
      "((1, 4), (10, 12), (6, 2), (8, 11), (5, 3), (7, 9))\n",
      "((1, 5), (11, 10), (4, 2), (8, 12), (6, 3), (7, 9))\n",
      "((1, 6), (12, 10), (4, 2), (8, 11), (5, 3), (7, 9))\n",
      "((1, 5), (11, 12), (6, 2), (8, 10), (4, 3), (7, 9))\n",
      "((1, 6), (12, 11), (5, 2), (8, 10), (4, 3), (7, 9))\n",
      "((1, 3), (9, 10), (4, 5), (11, 8), (2, 6), (7, 12))\n",
      "((1, 3), (9, 10), (4, 6), (12, 8), (2, 5), (7, 11))\n",
      "((1, 3), (9, 11), (5, 4), (10, 8), (2, 6), (7, 12))\n",
      "((1, 3), (9, 12), (6, 4), (10, 8), (2, 5), (7, 11))\n",
      "((1, 3), (9, 11), (5, 6), (12, 8), (2, 4), (7, 10))\n",
      "((1, 3), (9, 12), (6, 5), (11, 8), (2, 4), (7, 10))\n",
      "((1, 4), (10, 9), (3, 5), (11, 8), (2, 6), (7, 12))\n",
      "((1, 4), (10, 9), (3, 6), (12, 8), (2, 5), (7, 11))\n",
      "((1, 5), (11, 9), (3, 4), (10, 8), (2, 6), (7, 12))\n",
      "((1, 6), (12, 9), (3, 4), (10, 8), (2, 5), (7, 11))\n",
      "((1, 5), (11, 9), (3, 6), (12, 8), (2, 4), (7, 10))\n",
      "((1, 6), (12, 9), (3, 5), (11, 8), (2, 4), (7, 10))\n",
      "((1, 4), (10, 11), (5, 3), (9, 8), (2, 6), (7, 12))\n",
      "((1, 4), (10, 12), (6, 3), (9, 8), (2, 5), (7, 11))\n",
      "((1, 5), (11, 10), (4, 3), (9, 8), (2, 6), (7, 12))\n",
      "((1, 6), (12, 10), (4, 3), (9, 8), (2, 5), (7, 11))\n",
      "((1, 5), (11, 12), (6, 3), (9, 8), (2, 4), (7, 10))\n",
      "((1, 6), (12, 11), (5, 3), (9, 8), (2, 4), (7, 10))\n",
      "((1, 4), (10, 11), (5, 6), (12, 8), (2, 3), (7, 9))\n",
      "((1, 4), (10, 12), (6, 5), (11, 8), (2, 3), (7, 9))\n",
      "((1, 5), (11, 10), (4, 6), (12, 8), (2, 3), (7, 9))\n",
      "((1, 6), (12, 10), (4, 5), (11, 8), (2, 3), (7, 9))\n",
      "((1, 5), (11, 12), (6, 4), (10, 8), (2, 3), (7, 9))\n",
      "((1, 6), (12, 11), (5, 4), (10, 8), (2, 3), (7, 9))\n",
      "((1, 3), (9, 10), (4, 5), (11, 12), (6, 2), (7, 8))\n",
      "((1, 3), (9, 10), (4, 6), (12, 11), (5, 2), (7, 8))\n",
      "((1, 3), (9, 11), (5, 4), (10, 12), (6, 2), (7, 8))\n",
      "((1, 3), (9, 12), (6, 4), (10, 11), (5, 2), (7, 8))\n",
      "((1, 3), (9, 11), (5, 6), (12, 10), (4, 2), (7, 8))\n",
      "((1, 3), (9, 12), (6, 5), (11, 10), (4, 2), (7, 8))\n",
      "((1, 4), (10, 9), (3, 5), (11, 12), (6, 2), (7, 8))\n",
      "((1, 4), (10, 9), (3, 6), (12, 11), (5, 2), (7, 8))\n",
      "((1, 5), (11, 9), (3, 4), (10, 12), (6, 2), (7, 8))\n",
      "((1, 6), (12, 9), (3, 4), (10, 11), (5, 2), (7, 8))\n",
      "((1, 5), (11, 9), (3, 6), (12, 10), (4, 2), (7, 8))\n",
      "((1, 6), (12, 9), (3, 5), (11, 10), (4, 2), (7, 8))\n",
      "((1, 4), (10, 11), (5, 3), (9, 12), (6, 2), (7, 8))\n",
      "((1, 4), (10, 12), (6, 3), (9, 11), (5, 2), (7, 8))\n",
      "((1, 5), (11, 10), (4, 3), (9, 12), (6, 2), (7, 8))\n",
      "((1, 6), (12, 10), (4, 3), (9, 11), (5, 2), (7, 8))\n",
      "((1, 5), (11, 12), (6, 3), (9, 10), (4, 2), (7, 8))\n",
      "((1, 6), (12, 11), (5, 3), (9, 10), (4, 2), (7, 8))\n",
      "((1, 4), (10, 11), (5, 6), (12, 9), (3, 2), (7, 8))\n",
      "((1, 4), (10, 12), (6, 5), (11, 9), (3, 2), (7, 8))\n",
      "((1, 5), (11, 10), (4, 6), (12, 9), (3, 2), (7, 8))\n",
      "((1, 6), (12, 10), (4, 5), (11, 9), (3, 2), (7, 8))\n",
      "((1, 5), (11, 12), (6, 4), (10, 9), (3, 2), (7, 8))\n",
      "((1, 6), (12, 11), (5, 4), (10, 9), (3, 2), (7, 8))\n",
      "120\n"
     ]
    }
   ],
   "source": [
    "n = 6\n",
    "print(tuple(range(1,2*n+1)))\n",
    "m=0\n",
    "for i in hpr(tuple(range(1,2*n+1))):\n",
    "    print(i)\n",
    "    m+=1\n",
    "\n",
    "print(m)"
   ]
  },
  {
   "cell_type": "code",
   "execution_count": 6,
   "metadata": {},
   "outputs": [
    {
     "name": "stdout",
     "output_type": "stream",
     "text": [
      "1 1\n",
      "2 2\n",
      "8 8\n",
      "48 48\n",
      "384 384\n",
      "3840 3840\n"
     ]
    }
   ],
   "source": [
    "for n in [1,2,3,4,5,6]:\n",
    "    print('pvr')\n",
    "    terms_theo = reduce(int.__mul__, range(2*n-2, 0, -2)) if n>1 else 1\n",
    "    terms_pmpr = len(list(pmpr(tuple(range(1,2*n+1)))))\n",
    "    print(terms_pmpr, terms_theo)"
   ]
  }
 ],
 "metadata": {
  "kernelspec": {
   "display_name": "GBS",
   "language": "python",
   "name": "python3"
  },
  "language_info": {
   "codemirror_mode": {
    "name": "ipython",
    "version": 3
   },
   "file_extension": ".py",
   "mimetype": "text/x-python",
   "name": "python",
   "nbconvert_exporter": "python",
   "pygments_lexer": "ipython3",
   "version": "3.8.13"
  },
  "orig_nbformat": 4
 },
 "nbformat": 4,
 "nbformat_minor": 2
}
