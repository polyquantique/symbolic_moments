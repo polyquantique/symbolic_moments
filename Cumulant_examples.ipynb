{
 "cells": [
  {
   "cell_type": "markdown",
   "metadata": {},
   "source": [
    "# Cumulant and Montrealer examples \n",
    "### Yanic Cardin - Polytechnique Montréal - December 12th 2022\n",
    "\n",
    "The following is used to output the analytic expression of the first few orders of cumulants and Montrealer. It also validates that the cumulant and mtl functions are in agreement."
   ]
  },
  {
   "cell_type": "code",
   "execution_count": 1,
   "metadata": {},
   "outputs": [],
   "source": [
    "from gbs_functions import montrealer, cumulant, symmetric_M\n",
    "from sympy import expand, simplify"
   ]
  },
  {
   "cell_type": "markdown",
   "metadata": {},
   "source": [
    "### Cumulants order 1 to 3\n",
    "\n",
    "General expression of the cumulant with displacement for an arbitrary matrix N."
   ]
  },
  {
   "cell_type": "code",
   "execution_count": 2,
   "metadata": {},
   "outputs": [
    {
     "name": "stdout",
     "output_type": "stream",
     "text": [
      "k(n1)\n"
     ]
    },
    {
     "data": {
      "text/latex": [
       "$\\displaystyle \\alpha_{1} \\overline{\\alpha_{1}} + N_{1, 1}$"
      ],
      "text/plain": [
       "alpha1*conjugate(alpha1) + N[1, 1]"
      ]
     },
     "metadata": {},
     "output_type": "display_data"
    },
    {
     "name": "stdout",
     "output_type": "stream",
     "text": [
      "k(n1,n2)\n"
     ]
    },
    {
     "data": {
      "text/latex": [
       "$\\displaystyle \\alpha_{1} \\alpha_{2} \\overline{M_{1, 2}} + \\alpha_{1} \\overline{\\alpha_{2}} N_{1, 2} + \\alpha_{2} \\overline{\\alpha_{1}} \\overline{N_{1, 2}} + \\overline{\\alpha_{1}} \\overline{\\alpha_{2}} M_{1, 2} + \\overline{M_{1, 2}} M_{1, 2} + \\overline{N_{1, 2}} N_{1, 2}$"
      ],
      "text/plain": [
       "alpha1*alpha2*conjugate(M[1, 2]) + alpha1*conjugate(alpha2)*N[1, 2] + alpha2*conjugate(alpha1)*conjugate(N[1, 2]) + conjugate(alpha1)*conjugate(alpha2)*M[1, 2] + conjugate(M[1, 2])*M[1, 2] + conjugate(N[1, 2])*N[1, 2]"
      ]
     },
     "metadata": {},
     "output_type": "display_data"
    },
    {
     "name": "stdout",
     "output_type": "stream",
     "text": [
      "k(n1,n2,n3)\n"
     ]
    },
    {
     "data": {
      "text/latex": [
       "$\\displaystyle \\alpha_{1} \\alpha_{2} \\overline{M_{1, 3}} N_{2, 3} + \\alpha_{1} \\alpha_{2} \\overline{M_{2, 3}} N_{1, 3} + \\alpha_{1} \\alpha_{3} \\overline{M_{1, 2}} \\overline{N_{2, 3}} + \\alpha_{1} \\alpha_{3} \\overline{M_{2, 3}} N_{1, 2} + \\alpha_{1} \\overline{\\alpha_{2}} \\overline{M_{1, 3}} M_{2, 3} + \\alpha_{1} \\overline{\\alpha_{2}} \\overline{N_{2, 3}} N_{1, 3} + \\alpha_{1} \\overline{\\alpha_{3}} \\overline{M_{1, 2}} M_{2, 3} + \\alpha_{1} \\overline{\\alpha_{3}} N_{1, 2} N_{2, 3} + \\alpha_{2} \\alpha_{3} \\overline{M_{1, 2}} \\overline{N_{1, 3}} + \\alpha_{2} \\alpha_{3} \\overline{M_{1, 3}} \\overline{N_{1, 2}} + \\alpha_{2} \\overline{\\alpha_{1}} \\overline{M_{2, 3}} M_{1, 3} + \\alpha_{2} \\overline{\\alpha_{1}} \\overline{N_{1, 3}} N_{2, 3} + \\alpha_{2} \\overline{\\alpha_{3}} \\overline{M_{1, 2}} M_{1, 3} + \\alpha_{2} \\overline{\\alpha_{3}} \\overline{N_{1, 2}} N_{1, 3} + \\alpha_{3} \\overline{\\alpha_{1}} \\overline{M_{2, 3}} M_{1, 2} + \\alpha_{3} \\overline{\\alpha_{1}} \\overline{N_{1, 2}} \\overline{N_{2, 3}} + \\alpha_{3} \\overline{\\alpha_{2}} \\overline{M_{1, 3}} M_{1, 2} + \\alpha_{3} \\overline{\\alpha_{2}} \\overline{N_{1, 3}} N_{1, 2} + \\overline{\\alpha_{1}} \\overline{\\alpha_{2}} \\overline{N_{1, 3}} M_{2, 3} + \\overline{\\alpha_{1}} \\overline{\\alpha_{2}} \\overline{N_{2, 3}} M_{1, 3} + \\overline{\\alpha_{1}} \\overline{\\alpha_{3}} \\overline{N_{1, 2}} M_{2, 3} + \\overline{\\alpha_{1}} \\overline{\\alpha_{3}} M_{1, 2} N_{2, 3} + \\overline{\\alpha_{2}} \\overline{\\alpha_{3}} M_{1, 2} N_{1, 3} + \\overline{\\alpha_{2}} \\overline{\\alpha_{3}} M_{1, 3} N_{1, 2} + \\overline{M_{1, 2}} \\overline{N_{1, 3}} M_{2, 3} + \\overline{M_{1, 2}} \\overline{N_{2, 3}} M_{1, 3} + \\overline{M_{1, 3}} \\overline{N_{1, 2}} M_{2, 3} + \\overline{M_{1, 3}} M_{1, 2} N_{2, 3} + \\overline{M_{2, 3}} M_{1, 2} N_{1, 3} + \\overline{M_{2, 3}} M_{1, 3} N_{1, 2} + \\overline{N_{1, 2}} \\overline{N_{2, 3}} N_{1, 3} + \\overline{N_{1, 3}} N_{1, 2} N_{2, 3}$"
      ],
      "text/plain": [
       "alpha1*alpha2*conjugate(M[1, 3])*N[2, 3] + alpha1*alpha2*conjugate(M[2, 3])*N[1, 3] + alpha1*alpha3*conjugate(M[1, 2])*conjugate(N[2, 3]) + alpha1*alpha3*conjugate(M[2, 3])*N[1, 2] + alpha1*conjugate(alpha2)*conjugate(M[1, 3])*M[2, 3] + alpha1*conjugate(alpha2)*conjugate(N[2, 3])*N[1, 3] + alpha1*conjugate(alpha3)*conjugate(M[1, 2])*M[2, 3] + alpha1*conjugate(alpha3)*N[1, 2]*N[2, 3] + alpha2*alpha3*conjugate(M[1, 2])*conjugate(N[1, 3]) + alpha2*alpha3*conjugate(M[1, 3])*conjugate(N[1, 2]) + alpha2*conjugate(alpha1)*conjugate(M[2, 3])*M[1, 3] + alpha2*conjugate(alpha1)*conjugate(N[1, 3])*N[2, 3] + alpha2*conjugate(alpha3)*conjugate(M[1, 2])*M[1, 3] + alpha2*conjugate(alpha3)*conjugate(N[1, 2])*N[1, 3] + alpha3*conjugate(alpha1)*conjugate(M[2, 3])*M[1, 2] + alpha3*conjugate(alpha1)*conjugate(N[1, 2])*conjugate(N[2, 3]) + alpha3*conjugate(alpha2)*conjugate(M[1, 3])*M[1, 2] + alpha3*conjugate(alpha2)*conjugate(N[1, 3])*N[1, 2] + conjugate(alpha1)*conjugate(alpha2)*conjugate(N[1, 3])*M[2, 3] + conjugate(alpha1)*conjugate(alpha2)*conjugate(N[2, 3])*M[1, 3] + conjugate(alpha1)*conjugate(alpha3)*conjugate(N[1, 2])*M[2, 3] + conjugate(alpha1)*conjugate(alpha3)*M[1, 2]*N[2, 3] + conjugate(alpha2)*conjugate(alpha3)*M[1, 2]*N[1, 3] + conjugate(alpha2)*conjugate(alpha3)*M[1, 3]*N[1, 2] + conjugate(M[1, 2])*conjugate(N[1, 3])*M[2, 3] + conjugate(M[1, 2])*conjugate(N[2, 3])*M[1, 3] + conjugate(M[1, 3])*conjugate(N[1, 2])*M[2, 3] + conjugate(M[1, 3])*M[1, 2]*N[2, 3] + conjugate(M[2, 3])*M[1, 2]*N[1, 3] + conjugate(M[2, 3])*M[1, 3]*N[1, 2] + conjugate(N[1, 2])*conjugate(N[2, 3])*N[1, 3] + conjugate(N[1, 3])*N[1, 2]*N[2, 3]"
      ]
     },
     "metadata": {},
     "output_type": "display_data"
    }
   ],
   "source": [
    "print('k(n1)')\n",
    "display(cumulant([1], N_nature = 'general', displacement=True))\n",
    "\n",
    "print('k(n1,n2)')\n",
    "display(cumulant(2*[1], N_nature = 'general', displacement=True))\n",
    "\n",
    "print('k(n1,n2,n3)')\n",
    "display(cumulant(3*[1], N_nature = 'general', displacement=True))"
   ]
  },
  {
   "cell_type": "markdown",
   "metadata": {},
   "source": [
    "### Cumulants with repetition"
   ]
  },
  {
   "cell_type": "code",
   "execution_count": 3,
   "metadata": {},
   "outputs": [
    {
     "name": "stdout",
     "output_type": "stream",
     "text": [
      "k(n1,n1)\n"
     ]
    },
    {
     "data": {
      "text/latex": [
       "$\\displaystyle \\alpha_{1}^{2} \\overline{M_{1, 1}} + 2 \\alpha_{1} \\overline{\\alpha_{1}} N_{1, 1} + \\alpha_{1} \\overline{\\alpha_{1}} + \\overline{\\alpha_{1}}^{2} M_{1, 1} + \\overline{M_{1, 1}} M_{1, 1} + N_{1, 1}^{2} + N_{1, 1}$"
      ],
      "text/plain": [
       "alpha1**2*conjugate(M[1, 1]) + 2*alpha1*conjugate(alpha1)*N[1, 1] + alpha1*conjugate(alpha1) + conjugate(alpha1)**2*M[1, 1] + conjugate(M[1, 1])*M[1, 1] + N[1, 1]**2 + N[1, 1]"
      ]
     },
     "metadata": {},
     "output_type": "display_data"
    },
    {
     "name": "stdout",
     "output_type": "stream",
     "text": [
      "k(n1,n1,n2)\n"
     ]
    },
    {
     "data": {
      "text/latex": [
       "$\\displaystyle 2 \\alpha_{1}^{2} \\overline{M_{1, 2}} N_{1, 2} + 2 \\alpha_{1} \\alpha_{2} \\overline{M_{1, 1}} \\overline{N_{1, 2}} + 2 \\alpha_{1} \\alpha_{2} \\overline{M_{1, 2}} N_{1, 1} + \\alpha_{1} \\alpha_{2} \\overline{M_{1, 2}} + 2 \\alpha_{1} \\overline{\\alpha_{1}} \\overline{M_{1, 2}} M_{1, 2} + 2 \\alpha_{1} \\overline{\\alpha_{1}} \\overline{N_{1, 2}} N_{1, 2} + 2 \\alpha_{1} \\overline{\\alpha_{2}} \\overline{M_{1, 1}} M_{1, 2} + 2 \\alpha_{1} \\overline{\\alpha_{2}} N_{1, 1} N_{1, 2} + \\alpha_{1} \\overline{\\alpha_{2}} N_{1, 2} + 2 \\alpha_{2} \\overline{\\alpha_{1}} \\overline{M_{1, 2}} M_{1, 1} + 2 \\alpha_{2} \\overline{\\alpha_{1}} \\overline{N_{1, 2}} N_{1, 1} + \\alpha_{2} \\overline{\\alpha_{1}} \\overline{N_{1, 2}} + 2 \\overline{\\alpha_{1}}^{2} \\overline{N_{1, 2}} M_{1, 2} + 2 \\overline{\\alpha_{1}} \\overline{\\alpha_{2}} M_{1, 1} N_{1, 2} + 2 \\overline{\\alpha_{1}} \\overline{\\alpha_{2}} M_{1, 2} N_{1, 1} + \\overline{\\alpha_{1}} \\overline{\\alpha_{2}} M_{1, 2} + 2 \\overline{M_{1, 1}} \\overline{N_{1, 2}} M_{1, 2} + 2 \\overline{M_{1, 2}} M_{1, 1} N_{1, 2} + 2 \\overline{M_{1, 2}} M_{1, 2} N_{1, 1} + \\overline{M_{1, 2}} M_{1, 2} + 2 \\overline{N_{1, 2}} N_{1, 1} N_{1, 2} + \\overline{N_{1, 2}} N_{1, 2}$"
      ],
      "text/plain": [
       "2*alpha1**2*conjugate(M[1, 2])*N[1, 2] + 2*alpha1*alpha2*conjugate(M[1, 1])*conjugate(N[1, 2]) + 2*alpha1*alpha2*conjugate(M[1, 2])*N[1, 1] + alpha1*alpha2*conjugate(M[1, 2]) + 2*alpha1*conjugate(alpha1)*conjugate(M[1, 2])*M[1, 2] + 2*alpha1*conjugate(alpha1)*conjugate(N[1, 2])*N[1, 2] + 2*alpha1*conjugate(alpha2)*conjugate(M[1, 1])*M[1, 2] + 2*alpha1*conjugate(alpha2)*N[1, 1]*N[1, 2] + alpha1*conjugate(alpha2)*N[1, 2] + 2*alpha2*conjugate(alpha1)*conjugate(M[1, 2])*M[1, 1] + 2*alpha2*conjugate(alpha1)*conjugate(N[1, 2])*N[1, 1] + alpha2*conjugate(alpha1)*conjugate(N[1, 2]) + 2*conjugate(alpha1)**2*conjugate(N[1, 2])*M[1, 2] + 2*conjugate(alpha1)*conjugate(alpha2)*M[1, 1]*N[1, 2] + 2*conjugate(alpha1)*conjugate(alpha2)*M[1, 2]*N[1, 1] + conjugate(alpha1)*conjugate(alpha2)*M[1, 2] + 2*conjugate(M[1, 1])*conjugate(N[1, 2])*M[1, 2] + 2*conjugate(M[1, 2])*M[1, 1]*N[1, 2] + 2*conjugate(M[1, 2])*M[1, 2]*N[1, 1] + conjugate(M[1, 2])*M[1, 2] + 2*conjugate(N[1, 2])*N[1, 1]*N[1, 2] + conjugate(N[1, 2])*N[1, 2]"
      ]
     },
     "metadata": {},
     "output_type": "display_data"
    },
    {
     "name": "stdout",
     "output_type": "stream",
     "text": [
      "k(n1,n1,n1)\n"
     ]
    },
    {
     "data": {
      "text/latex": [
       "$\\displaystyle 6 \\alpha_{1}^{2} \\overline{M_{1, 1}} N_{1, 1} + 3 \\alpha_{1}^{2} \\overline{M_{1, 1}} + 6 \\alpha_{1} \\overline{\\alpha_{1}} \\overline{M_{1, 1}} M_{1, 1} + 6 \\alpha_{1} \\overline{\\alpha_{1}} N_{1, 1}^{2} + 6 \\alpha_{1} \\overline{\\alpha_{1}} N_{1, 1} + \\alpha_{1} \\overline{\\alpha_{1}} + 6 \\overline{\\alpha_{1}}^{2} M_{1, 1} N_{1, 1} + 3 \\overline{\\alpha_{1}}^{2} M_{1, 1} + 6 \\overline{M_{1, 1}} M_{1, 1} N_{1, 1} + 3 \\overline{M_{1, 1}} M_{1, 1} + 2 N_{1, 1}^{3} + 3 N_{1, 1}^{2} + N_{1, 1}$"
      ],
      "text/plain": [
       "6*alpha1**2*conjugate(M[1, 1])*N[1, 1] + 3*alpha1**2*conjugate(M[1, 1]) + 6*alpha1*conjugate(alpha1)*conjugate(M[1, 1])*M[1, 1] + 6*alpha1*conjugate(alpha1)*N[1, 1]**2 + 6*alpha1*conjugate(alpha1)*N[1, 1] + alpha1*conjugate(alpha1) + 6*conjugate(alpha1)**2*M[1, 1]*N[1, 1] + 3*conjugate(alpha1)**2*M[1, 1] + 6*conjugate(M[1, 1])*M[1, 1]*N[1, 1] + 3*conjugate(M[1, 1])*M[1, 1] + 2*N[1, 1]**3 + 3*N[1, 1]**2 + N[1, 1]"
      ]
     },
     "metadata": {},
     "output_type": "display_data"
    }
   ],
   "source": [
    "print('k(n1,n1)')\n",
    "display(simplify(cumulant([2,0], N_nature = 'general', displacement=True)))\n",
    "\n",
    "print('k(n1,n1,n2)')\n",
    "display(simplify(cumulant([2,1], N_nature = 'general', displacement=True)))\n",
    "\n",
    "print('k(n1,n1,n1)')\n",
    "display(simplify(cumulant([3], N_nature = 'general', displacement=True)))\n"
   ]
  },
  {
   "cell_type": "markdown",
   "metadata": {},
   "source": [
    "### Fourth order cumulant without displacement\n",
    "\n",
    "The fourth order cumulant expression is too long with displacement. The matrix N remains general."
   ]
  },
  {
   "cell_type": "code",
   "execution_count": 4,
   "metadata": {},
   "outputs": [
    {
     "name": "stdout",
     "output_type": "stream",
     "text": [
      "k(n1,n2,n3, n4)\n"
     ]
    },
    {
     "data": {
      "text/latex": [
       "$\\displaystyle \\alpha_{1} \\alpha_{2} \\overline{M_{1, 3}} \\overline{M_{2, 4}} M_{3, 4} + \\alpha_{1} \\alpha_{2} \\overline{M_{1, 3}} \\overline{N_{3, 4}} N_{2, 4} + \\alpha_{1} \\alpha_{2} \\overline{M_{1, 4}} \\overline{M_{2, 3}} M_{3, 4} + \\alpha_{1} \\alpha_{2} \\overline{M_{1, 4}} N_{2, 3} N_{3, 4} + \\alpha_{1} \\alpha_{2} \\overline{M_{2, 3}} \\overline{N_{3, 4}} N_{1, 4} + \\alpha_{1} \\alpha_{2} \\overline{M_{2, 4}} N_{1, 3} N_{3, 4} + \\alpha_{1} \\alpha_{2} \\overline{M_{3, 4}} N_{1, 3} N_{2, 4} + \\alpha_{1} \\alpha_{2} \\overline{M_{3, 4}} N_{1, 4} N_{2, 3} + \\alpha_{1} \\alpha_{3} \\overline{M_{1, 2}} \\overline{M_{3, 4}} M_{2, 4} + \\alpha_{1} \\alpha_{3} \\overline{M_{1, 2}} \\overline{N_{2, 4}} N_{3, 4} + \\alpha_{1} \\alpha_{3} \\overline{M_{1, 4}} \\overline{M_{2, 3}} M_{2, 4} + \\alpha_{1} \\alpha_{3} \\overline{M_{1, 4}} \\overline{N_{2, 3}} N_{2, 4} + \\alpha_{1} \\alpha_{3} \\overline{M_{2, 3}} \\overline{N_{2, 4}} N_{1, 4} + \\alpha_{1} \\alpha_{3} \\overline{M_{2, 4}} \\overline{N_{2, 3}} N_{1, 4} + \\alpha_{1} \\alpha_{3} \\overline{M_{2, 4}} N_{1, 2} N_{3, 4} + \\alpha_{1} \\alpha_{3} \\overline{M_{3, 4}} N_{1, 2} N_{2, 4} + \\alpha_{1} \\alpha_{4} \\overline{M_{1, 2}} \\overline{M_{3, 4}} M_{2, 3} + \\alpha_{1} \\alpha_{4} \\overline{M_{1, 2}} \\overline{N_{2, 3}} \\overline{N_{3, 4}} + \\alpha_{1} \\alpha_{4} \\overline{M_{1, 3}} \\overline{M_{2, 4}} M_{2, 3} + \\alpha_{1} \\alpha_{4} \\overline{M_{1, 3}} \\overline{N_{2, 4}} N_{2, 3} + \\alpha_{1} \\alpha_{4} \\overline{M_{2, 3}} \\overline{N_{2, 4}} N_{1, 3} + \\alpha_{1} \\alpha_{4} \\overline{M_{2, 3}} \\overline{N_{3, 4}} N_{1, 2} + \\alpha_{1} \\alpha_{4} \\overline{M_{2, 4}} \\overline{N_{2, 3}} N_{1, 3} + \\alpha_{1} \\alpha_{4} \\overline{M_{3, 4}} N_{1, 2} N_{2, 3} + \\alpha_{1} \\overline{\\alpha_{2}} \\overline{M_{1, 3}} \\overline{N_{2, 4}} M_{3, 4} + \\alpha_{1} \\overline{\\alpha_{2}} \\overline{M_{1, 3}} \\overline{N_{3, 4}} M_{2, 4} + \\alpha_{1} \\overline{\\alpha_{2}} \\overline{M_{1, 4}} \\overline{N_{2, 3}} M_{3, 4} + \\alpha_{1} \\overline{\\alpha_{2}} \\overline{M_{1, 4}} M_{2, 3} N_{3, 4} + \\alpha_{1} \\overline{\\alpha_{2}} \\overline{M_{3, 4}} M_{2, 3} N_{1, 4} + \\alpha_{1} \\overline{\\alpha_{2}} \\overline{M_{3, 4}} M_{2, 4} N_{1, 3} + \\alpha_{1} \\overline{\\alpha_{2}} \\overline{N_{2, 3}} \\overline{N_{3, 4}} N_{1, 4} + \\alpha_{1} \\overline{\\alpha_{2}} \\overline{N_{2, 4}} N_{1, 3} N_{3, 4} + \\alpha_{1} \\overline{\\alpha_{3}} \\overline{M_{1, 2}} \\overline{N_{2, 4}} M_{3, 4} + \\alpha_{1} \\overline{\\alpha_{3}} \\overline{M_{1, 2}} \\overline{N_{3, 4}} M_{2, 4} + \\alpha_{1} \\overline{\\alpha_{3}} \\overline{M_{1, 4}} M_{2, 3} N_{2, 4} + \\alpha_{1} \\overline{\\alpha_{3}} \\overline{M_{1, 4}} M_{2, 4} N_{2, 3} + \\alpha_{1} \\overline{\\alpha_{3}} \\overline{M_{2, 4}} M_{2, 3} N_{1, 4} + \\alpha_{1} \\overline{\\alpha_{3}} \\overline{M_{2, 4}} M_{3, 4} N_{1, 2} + \\alpha_{1} \\overline{\\alpha_{3}} \\overline{N_{2, 4}} N_{1, 4} N_{2, 3} + \\alpha_{1} \\overline{\\alpha_{3}} \\overline{N_{3, 4}} N_{1, 2} N_{2, 4} + \\alpha_{1} \\overline{\\alpha_{4}} \\overline{M_{1, 2}} \\overline{N_{2, 3}} M_{3, 4} + \\alpha_{1} \\overline{\\alpha_{4}} \\overline{M_{1, 2}} M_{2, 3} N_{3, 4} + \\alpha_{1} \\overline{\\alpha_{4}} \\overline{M_{1, 3}} M_{2, 3} N_{2, 4} + \\alpha_{1} \\overline{\\alpha_{4}} \\overline{M_{1, 3}} M_{2, 4} N_{2, 3} + \\alpha_{1} \\overline{\\alpha_{4}} \\overline{M_{2, 3}} M_{2, 4} N_{1, 3} + \\alpha_{1} \\overline{\\alpha_{4}} \\overline{M_{2, 3}} M_{3, 4} N_{1, 2} + \\alpha_{1} \\overline{\\alpha_{4}} \\overline{N_{2, 3}} N_{1, 3} N_{2, 4} + \\alpha_{1} \\overline{\\alpha_{4}} N_{1, 2} N_{2, 3} N_{3, 4} + \\alpha_{2} \\alpha_{3} \\overline{M_{1, 2}} \\overline{M_{3, 4}} M_{1, 4} + \\alpha_{2} \\alpha_{3} \\overline{M_{1, 2}} \\overline{N_{1, 4}} N_{3, 4} + \\alpha_{2} \\alpha_{3} \\overline{M_{1, 3}} \\overline{M_{2, 4}} M_{1, 4} + \\alpha_{2} \\alpha_{3} \\overline{M_{1, 3}} \\overline{N_{1, 4}} N_{2, 4} + \\alpha_{2} \\alpha_{3} \\overline{M_{1, 4}} \\overline{N_{1, 2}} N_{3, 4} + \\alpha_{2} \\alpha_{3} \\overline{M_{1, 4}} \\overline{N_{1, 3}} N_{2, 4} + \\alpha_{2} \\alpha_{3} \\overline{M_{2, 4}} \\overline{N_{1, 3}} N_{1, 4} + \\alpha_{2} \\alpha_{3} \\overline{M_{3, 4}} \\overline{N_{1, 2}} N_{1, 4} + \\alpha_{2} \\alpha_{4} \\overline{M_{1, 2}} \\overline{M_{3, 4}} M_{1, 3} + \\alpha_{2} \\alpha_{4} \\overline{M_{1, 2}} \\overline{N_{1, 3}} \\overline{N_{3, 4}} + \\alpha_{2} \\alpha_{4} \\overline{M_{1, 3}} \\overline{N_{1, 2}} \\overline{N_{3, 4}} + \\alpha_{2} \\alpha_{4} \\overline{M_{1, 3}} \\overline{N_{1, 4}} N_{2, 3} + \\alpha_{2} \\alpha_{4} \\overline{M_{1, 4}} \\overline{M_{2, 3}} M_{1, 3} + \\alpha_{2} \\alpha_{4} \\overline{M_{1, 4}} \\overline{N_{1, 3}} N_{2, 3} + \\alpha_{2} \\alpha_{4} \\overline{M_{2, 3}} \\overline{N_{1, 4}} N_{1, 3} + \\alpha_{2} \\alpha_{4} \\overline{M_{3, 4}} \\overline{N_{1, 2}} N_{1, 3} + \\alpha_{2} \\overline{\\alpha_{1}} \\overline{M_{2, 3}} \\overline{N_{1, 4}} M_{3, 4} + \\alpha_{2} \\overline{\\alpha_{1}} \\overline{M_{2, 3}} \\overline{N_{3, 4}} M_{1, 4} + \\alpha_{2} \\overline{\\alpha_{1}} \\overline{M_{2, 4}} \\overline{N_{1, 3}} M_{3, 4} + \\alpha_{2} \\overline{\\alpha_{1}} \\overline{M_{2, 4}} M_{1, 3} N_{3, 4} + \\alpha_{2} \\overline{\\alpha_{1}} \\overline{M_{3, 4}} M_{1, 3} N_{2, 4} + \\alpha_{2} \\overline{\\alpha_{1}} \\overline{M_{3, 4}} M_{1, 4} N_{2, 3} + \\alpha_{2} \\overline{\\alpha_{1}} \\overline{N_{1, 3}} \\overline{N_{3, 4}} N_{2, 4} + \\alpha_{2} \\overline{\\alpha_{1}} \\overline{N_{1, 4}} N_{2, 3} N_{3, 4} + \\alpha_{2} \\overline{\\alpha_{3}} \\overline{M_{1, 2}} \\overline{N_{1, 4}} M_{3, 4} + \\alpha_{2} \\overline{\\alpha_{3}} \\overline{M_{1, 2}} \\overline{N_{3, 4}} M_{1, 4} + \\alpha_{2} \\overline{\\alpha_{3}} \\overline{M_{1, 4}} \\overline{N_{1, 2}} M_{3, 4} + \\alpha_{2} \\overline{\\alpha_{3}} \\overline{M_{1, 4}} M_{1, 3} N_{2, 4} + \\alpha_{2} \\overline{\\alpha_{3}} \\overline{M_{2, 4}} M_{1, 3} N_{1, 4} + \\alpha_{2} \\overline{\\alpha_{3}} \\overline{M_{2, 4}} M_{1, 4} N_{1, 3} + \\alpha_{2} \\overline{\\alpha_{3}} \\overline{N_{1, 2}} \\overline{N_{3, 4}} N_{1, 4} + \\alpha_{2} \\overline{\\alpha_{3}} \\overline{N_{1, 4}} N_{1, 3} N_{2, 4} + \\alpha_{2} \\overline{\\alpha_{4}} \\overline{M_{1, 2}} \\overline{N_{1, 3}} M_{3, 4} + \\alpha_{2} \\overline{\\alpha_{4}} \\overline{M_{1, 2}} M_{1, 3} N_{3, 4} + \\alpha_{2} \\overline{\\alpha_{4}} \\overline{M_{1, 3}} \\overline{N_{1, 2}} M_{3, 4} + \\alpha_{2} \\overline{\\alpha_{4}} \\overline{M_{1, 3}} M_{1, 4} N_{2, 3} + \\alpha_{2} \\overline{\\alpha_{4}} \\overline{M_{2, 3}} M_{1, 3} N_{1, 4} + \\alpha_{2} \\overline{\\alpha_{4}} \\overline{M_{2, 3}} M_{1, 4} N_{1, 3} + \\alpha_{2} \\overline{\\alpha_{4}} \\overline{N_{1, 2}} N_{1, 3} N_{3, 4} + \\alpha_{2} \\overline{\\alpha_{4}} \\overline{N_{1, 3}} N_{1, 4} N_{2, 3} + \\alpha_{3} \\alpha_{4} \\overline{M_{1, 2}} \\overline{N_{1, 3}} \\overline{N_{2, 4}} + \\alpha_{3} \\alpha_{4} \\overline{M_{1, 2}} \\overline{N_{1, 4}} \\overline{N_{2, 3}} + \\alpha_{3} \\alpha_{4} \\overline{M_{1, 3}} \\overline{M_{2, 4}} M_{1, 2} + \\alpha_{3} \\alpha_{4} \\overline{M_{1, 3}} \\overline{N_{1, 2}} \\overline{N_{2, 4}} + \\alpha_{3} \\alpha_{4} \\overline{M_{1, 4}} \\overline{M_{2, 3}} M_{1, 2} + \\alpha_{3} \\alpha_{4} \\overline{M_{1, 4}} \\overline{N_{1, 2}} \\overline{N_{2, 3}} + \\alpha_{3} \\alpha_{4} \\overline{M_{2, 3}} \\overline{N_{1, 4}} N_{1, 2} + \\alpha_{3} \\alpha_{4} \\overline{M_{2, 4}} \\overline{N_{1, 3}} N_{1, 2} + \\alpha_{3} \\overline{\\alpha_{1}} \\overline{M_{2, 3}} \\overline{N_{1, 4}} M_{2, 4} + \\alpha_{3} \\overline{\\alpha_{1}} \\overline{M_{2, 3}} \\overline{N_{2, 4}} M_{1, 4} + \\alpha_{3} \\overline{\\alpha_{1}} \\overline{M_{2, 4}} \\overline{N_{2, 3}} M_{1, 4} + \\alpha_{3} \\overline{\\alpha_{1}} \\overline{M_{2, 4}} M_{1, 2} N_{3, 4} + \\alpha_{3} \\overline{\\alpha_{1}} \\overline{M_{3, 4}} \\overline{N_{1, 2}} M_{2, 4} + \\alpha_{3} \\overline{\\alpha_{1}} \\overline{M_{3, 4}} M_{1, 2} N_{2, 4} + \\alpha_{3} \\overline{\\alpha_{1}} \\overline{N_{1, 2}} \\overline{N_{2, 4}} N_{3, 4} + \\alpha_{3} \\overline{\\alpha_{1}} \\overline{N_{1, 4}} \\overline{N_{2, 3}} N_{2, 4} + \\alpha_{3} \\overline{\\alpha_{2}} \\overline{M_{1, 3}} \\overline{N_{1, 4}} M_{2, 4} + \\alpha_{3} \\overline{\\alpha_{2}} \\overline{M_{1, 3}} \\overline{N_{2, 4}} M_{1, 4} + \\alpha_{3} \\overline{\\alpha_{2}} \\overline{M_{1, 4}} \\overline{N_{1, 3}} M_{2, 4} + \\alpha_{3} \\overline{\\alpha_{2}} \\overline{M_{1, 4}} M_{1, 2} N_{3, 4} + \\alpha_{3} \\overline{\\alpha_{2}} \\overline{M_{3, 4}} M_{1, 2} N_{1, 4} + \\alpha_{3} \\overline{\\alpha_{2}} \\overline{M_{3, 4}} M_{1, 4} N_{1, 2} + \\alpha_{3} \\overline{\\alpha_{2}} \\overline{N_{1, 3}} \\overline{N_{2, 4}} N_{1, 4} + \\alpha_{3} \\overline{\\alpha_{2}} \\overline{N_{1, 4}} N_{1, 2} N_{3, 4} + \\alpha_{3} \\overline{\\alpha_{4}} \\overline{M_{1, 2}} \\overline{N_{1, 3}} M_{2, 4} + \\alpha_{3} \\overline{\\alpha_{4}} \\overline{M_{1, 2}} \\overline{N_{2, 3}} M_{1, 4} + \\alpha_{3} \\overline{\\alpha_{4}} \\overline{M_{1, 3}} \\overline{N_{1, 2}} M_{2, 4} + \\alpha_{3} \\overline{\\alpha_{4}} \\overline{M_{1, 3}} M_{1, 2} N_{2, 4} + \\alpha_{3} \\overline{\\alpha_{4}} \\overline{M_{2, 3}} M_{1, 2} N_{1, 4} + \\alpha_{3} \\overline{\\alpha_{4}} \\overline{M_{2, 3}} M_{1, 4} N_{1, 2} + \\alpha_{3} \\overline{\\alpha_{4}} \\overline{N_{1, 2}} \\overline{N_{2, 3}} N_{1, 4} + \\alpha_{3} \\overline{\\alpha_{4}} \\overline{N_{1, 3}} N_{1, 2} N_{2, 4} + \\alpha_{4} \\overline{\\alpha_{1}} \\overline{M_{2, 3}} \\overline{N_{2, 4}} M_{1, 3} + \\alpha_{4} \\overline{\\alpha_{1}} \\overline{M_{2, 3}} \\overline{N_{3, 4}} M_{1, 2} + \\alpha_{4} \\overline{\\alpha_{1}} \\overline{M_{2, 4}} \\overline{N_{1, 3}} M_{2, 3} + \\alpha_{4} \\overline{\\alpha_{1}} \\overline{M_{2, 4}} \\overline{N_{2, 3}} M_{1, 3} + \\alpha_{4} \\overline{\\alpha_{1}} \\overline{M_{3, 4}} \\overline{N_{1, 2}} M_{2, 3} + \\alpha_{4} \\overline{\\alpha_{1}} \\overline{M_{3, 4}} M_{1, 2} N_{2, 3} + \\alpha_{4} \\overline{\\alpha_{1}} \\overline{N_{1, 2}} \\overline{N_{2, 3}} \\overline{N_{3, 4}} + \\alpha_{4} \\overline{\\alpha_{1}} \\overline{N_{1, 3}} \\overline{N_{2, 4}} N_{2, 3} + \\alpha_{4} \\overline{\\alpha_{2}} \\overline{M_{1, 3}} \\overline{N_{1, 4}} M_{2, 3} + \\alpha_{4} \\overline{\\alpha_{2}} \\overline{M_{1, 3}} \\overline{N_{3, 4}} M_{1, 2} + \\alpha_{4} \\overline{\\alpha_{2}} \\overline{M_{1, 4}} \\overline{N_{1, 3}} M_{2, 3} + \\alpha_{4} \\overline{\\alpha_{2}} \\overline{M_{1, 4}} \\overline{N_{2, 3}} M_{1, 3} + \\alpha_{4} \\overline{\\alpha_{2}} \\overline{M_{3, 4}} M_{1, 2} N_{1, 3} + \\alpha_{4} \\overline{\\alpha_{2}} \\overline{M_{3, 4}} M_{1, 3} N_{1, 2} + \\alpha_{4} \\overline{\\alpha_{2}} \\overline{N_{1, 3}} \\overline{N_{3, 4}} N_{1, 2} + \\alpha_{4} \\overline{\\alpha_{2}} \\overline{N_{1, 4}} \\overline{N_{2, 3}} N_{1, 3} + \\alpha_{4} \\overline{\\alpha_{3}} \\overline{M_{1, 2}} \\overline{N_{1, 4}} M_{2, 3} + \\alpha_{4} \\overline{\\alpha_{3}} \\overline{M_{1, 2}} \\overline{N_{2, 4}} M_{1, 3} + \\alpha_{4} \\overline{\\alpha_{3}} \\overline{M_{1, 4}} \\overline{N_{1, 2}} M_{2, 3} + \\alpha_{4} \\overline{\\alpha_{3}} \\overline{M_{1, 4}} M_{1, 2} N_{2, 3} + \\alpha_{4} \\overline{\\alpha_{3}} \\overline{M_{2, 4}} M_{1, 2} N_{1, 3} + \\alpha_{4} \\overline{\\alpha_{3}} \\overline{M_{2, 4}} M_{1, 3} N_{1, 2} + \\alpha_{4} \\overline{\\alpha_{3}} \\overline{N_{1, 2}} \\overline{N_{2, 4}} N_{1, 3} + \\alpha_{4} \\overline{\\alpha_{3}} \\overline{N_{1, 4}} N_{1, 2} N_{2, 3} + \\overline{\\alpha_{1}} \\overline{\\alpha_{2}} \\overline{M_{3, 4}} M_{1, 3} M_{2, 4} + \\overline{\\alpha_{1}} \\overline{\\alpha_{2}} \\overline{M_{3, 4}} M_{1, 4} M_{2, 3} + \\overline{\\alpha_{1}} \\overline{\\alpha_{2}} \\overline{N_{1, 3}} \\overline{N_{2, 4}} M_{3, 4} + \\overline{\\alpha_{1}} \\overline{\\alpha_{2}} \\overline{N_{1, 3}} \\overline{N_{3, 4}} M_{2, 4} + \\overline{\\alpha_{1}} \\overline{\\alpha_{2}} \\overline{N_{1, 4}} \\overline{N_{2, 3}} M_{3, 4} + \\overline{\\alpha_{1}} \\overline{\\alpha_{2}} \\overline{N_{1, 4}} M_{2, 3} N_{3, 4} + \\overline{\\alpha_{1}} \\overline{\\alpha_{2}} \\overline{N_{2, 3}} \\overline{N_{3, 4}} M_{1, 4} + \\overline{\\alpha_{1}} \\overline{\\alpha_{2}} \\overline{N_{2, 4}} M_{1, 3} N_{3, 4} + \\overline{\\alpha_{1}} \\overline{\\alpha_{3}} \\overline{M_{2, 4}} M_{1, 2} M_{3, 4} + \\overline{\\alpha_{1}} \\overline{\\alpha_{3}} \\overline{M_{2, 4}} M_{1, 4} M_{2, 3} + \\overline{\\alpha_{1}} \\overline{\\alpha_{3}} \\overline{N_{1, 2}} \\overline{N_{2, 4}} M_{3, 4} + \\overline{\\alpha_{1}} \\overline{\\alpha_{3}} \\overline{N_{1, 2}} \\overline{N_{3, 4}} M_{2, 4} + \\overline{\\alpha_{1}} \\overline{\\alpha_{3}} \\overline{N_{1, 4}} M_{2, 3} N_{2, 4} + \\overline{\\alpha_{1}} \\overline{\\alpha_{3}} \\overline{N_{1, 4}} M_{2, 4} N_{2, 3} + \\overline{\\alpha_{1}} \\overline{\\alpha_{3}} \\overline{N_{2, 4}} M_{1, 4} N_{2, 3} + \\overline{\\alpha_{1}} \\overline{\\alpha_{3}} \\overline{N_{3, 4}} M_{1, 2} N_{2, 4} + \\overline{\\alpha_{1}} \\overline{\\alpha_{4}} \\overline{M_{2, 3}} M_{1, 2} M_{3, 4} + \\overline{\\alpha_{1}} \\overline{\\alpha_{4}} \\overline{M_{2, 3}} M_{1, 3} M_{2, 4} + \\overline{\\alpha_{1}} \\overline{\\alpha_{4}} \\overline{N_{1, 2}} \\overline{N_{2, 3}} M_{3, 4} + \\overline{\\alpha_{1}} \\overline{\\alpha_{4}} \\overline{N_{1, 2}} M_{2, 3} N_{3, 4} + \\overline{\\alpha_{1}} \\overline{\\alpha_{4}} \\overline{N_{1, 3}} M_{2, 3} N_{2, 4} + \\overline{\\alpha_{1}} \\overline{\\alpha_{4}} \\overline{N_{1, 3}} M_{2, 4} N_{2, 3} + \\overline{\\alpha_{1}} \\overline{\\alpha_{4}} \\overline{N_{2, 3}} M_{1, 3} N_{2, 4} + \\overline{\\alpha_{1}} \\overline{\\alpha_{4}} M_{1, 2} N_{2, 3} N_{3, 4} + \\overline{\\alpha_{2}} \\overline{\\alpha_{3}} \\overline{M_{1, 4}} M_{1, 2} M_{3, 4} + \\overline{\\alpha_{2}} \\overline{\\alpha_{3}} \\overline{M_{1, 4}} M_{1, 3} M_{2, 4} + \\overline{\\alpha_{2}} \\overline{\\alpha_{3}} \\overline{N_{1, 4}} M_{2, 4} N_{1, 3} + \\overline{\\alpha_{2}} \\overline{\\alpha_{3}} \\overline{N_{1, 4}} M_{3, 4} N_{1, 2} + \\overline{\\alpha_{2}} \\overline{\\alpha_{3}} \\overline{N_{2, 4}} M_{1, 3} N_{1, 4} + \\overline{\\alpha_{2}} \\overline{\\alpha_{3}} \\overline{N_{2, 4}} M_{1, 4} N_{1, 3} + \\overline{\\alpha_{2}} \\overline{\\alpha_{3}} \\overline{N_{3, 4}} M_{1, 2} N_{1, 4} + \\overline{\\alpha_{2}} \\overline{\\alpha_{3}} \\overline{N_{3, 4}} M_{1, 4} N_{1, 2} + \\overline{\\alpha_{2}} \\overline{\\alpha_{4}} \\overline{M_{1, 3}} M_{1, 2} M_{3, 4} + \\overline{\\alpha_{2}} \\overline{\\alpha_{4}} \\overline{M_{1, 3}} M_{1, 4} M_{2, 3} + \\overline{\\alpha_{2}} \\overline{\\alpha_{4}} \\overline{N_{1, 3}} M_{2, 3} N_{1, 4} + \\overline{\\alpha_{2}} \\overline{\\alpha_{4}} \\overline{N_{1, 3}} M_{3, 4} N_{1, 2} + \\overline{\\alpha_{2}} \\overline{\\alpha_{4}} \\overline{N_{2, 3}} M_{1, 3} N_{1, 4} + \\overline{\\alpha_{2}} \\overline{\\alpha_{4}} \\overline{N_{2, 3}} M_{1, 4} N_{1, 3} + \\overline{\\alpha_{2}} \\overline{\\alpha_{4}} M_{1, 2} N_{1, 3} N_{3, 4} + \\overline{\\alpha_{2}} \\overline{\\alpha_{4}} M_{1, 3} N_{1, 2} N_{3, 4} + \\overline{\\alpha_{3}} \\overline{\\alpha_{4}} \\overline{M_{1, 2}} M_{1, 3} M_{2, 4} + \\overline{\\alpha_{3}} \\overline{\\alpha_{4}} \\overline{M_{1, 2}} M_{1, 4} M_{2, 3} + \\overline{\\alpha_{3}} \\overline{\\alpha_{4}} \\overline{N_{1, 2}} M_{2, 3} N_{1, 4} + \\overline{\\alpha_{3}} \\overline{\\alpha_{4}} \\overline{N_{1, 2}} M_{2, 4} N_{1, 3} + \\overline{\\alpha_{3}} \\overline{\\alpha_{4}} M_{1, 2} N_{1, 3} N_{2, 4} + \\overline{\\alpha_{3}} \\overline{\\alpha_{4}} M_{1, 2} N_{1, 4} N_{2, 3} + \\overline{\\alpha_{3}} \\overline{\\alpha_{4}} M_{1, 3} N_{1, 2} N_{2, 4} + \\overline{\\alpha_{3}} \\overline{\\alpha_{4}} M_{1, 4} N_{1, 2} N_{2, 3} + \\overline{M_{1, 2}} \\overline{M_{3, 4}} M_{1, 3} M_{2, 4} + \\overline{M_{1, 2}} \\overline{M_{3, 4}} M_{1, 4} M_{2, 3} + \\overline{M_{1, 2}} \\overline{N_{1, 3}} \\overline{N_{2, 4}} M_{3, 4} + \\overline{M_{1, 2}} \\overline{N_{1, 3}} \\overline{N_{3, 4}} M_{2, 4} + \\overline{M_{1, 2}} \\overline{N_{1, 4}} \\overline{N_{2, 3}} M_{3, 4} + \\overline{M_{1, 2}} \\overline{N_{1, 4}} M_{2, 3} N_{3, 4} + \\overline{M_{1, 2}} \\overline{N_{2, 3}} \\overline{N_{3, 4}} M_{1, 4} + \\overline{M_{1, 2}} \\overline{N_{2, 4}} M_{1, 3} N_{3, 4} + \\overline{M_{1, 3}} \\overline{M_{2, 4}} M_{1, 2} M_{3, 4} + \\overline{M_{1, 3}} \\overline{M_{2, 4}} M_{1, 4} M_{2, 3} + \\overline{M_{1, 3}} \\overline{N_{1, 2}} \\overline{N_{2, 4}} M_{3, 4} + \\overline{M_{1, 3}} \\overline{N_{1, 2}} \\overline{N_{3, 4}} M_{2, 4} + \\overline{M_{1, 3}} \\overline{N_{1, 4}} M_{2, 3} N_{2, 4} + \\overline{M_{1, 3}} \\overline{N_{1, 4}} M_{2, 4} N_{2, 3} + \\overline{M_{1, 3}} \\overline{N_{2, 4}} M_{1, 4} N_{2, 3} + \\overline{M_{1, 3}} \\overline{N_{3, 4}} M_{1, 2} N_{2, 4} + \\overline{M_{1, 4}} \\overline{M_{2, 3}} M_{1, 2} M_{3, 4} + \\overline{M_{1, 4}} \\overline{M_{2, 3}} M_{1, 3} M_{2, 4} + \\overline{M_{1, 4}} \\overline{N_{1, 2}} \\overline{N_{2, 3}} M_{3, 4} + \\overline{M_{1, 4}} \\overline{N_{1, 2}} M_{2, 3} N_{3, 4} + \\overline{M_{1, 4}} \\overline{N_{1, 3}} M_{2, 3} N_{2, 4} + \\overline{M_{1, 4}} \\overline{N_{1, 3}} M_{2, 4} N_{2, 3} + \\overline{M_{1, 4}} \\overline{N_{2, 3}} M_{1, 3} N_{2, 4} + \\overline{M_{1, 4}} M_{1, 2} N_{2, 3} N_{3, 4} + \\overline{M_{2, 3}} \\overline{N_{1, 4}} M_{2, 4} N_{1, 3} + \\overline{M_{2, 3}} \\overline{N_{1, 4}} M_{3, 4} N_{1, 2} + \\overline{M_{2, 3}} \\overline{N_{2, 4}} M_{1, 3} N_{1, 4} + \\overline{M_{2, 3}} \\overline{N_{2, 4}} M_{1, 4} N_{1, 3} + \\overline{M_{2, 3}} \\overline{N_{3, 4}} M_{1, 2} N_{1, 4} + \\overline{M_{2, 3}} \\overline{N_{3, 4}} M_{1, 4} N_{1, 2} + \\overline{M_{2, 4}} \\overline{N_{1, 3}} M_{2, 3} N_{1, 4} + \\overline{M_{2, 4}} \\overline{N_{1, 3}} M_{3, 4} N_{1, 2} + \\overline{M_{2, 4}} \\overline{N_{2, 3}} M_{1, 3} N_{1, 4} + \\overline{M_{2, 4}} \\overline{N_{2, 3}} M_{1, 4} N_{1, 3} + \\overline{M_{2, 4}} M_{1, 2} N_{1, 3} N_{3, 4} + \\overline{M_{2, 4}} M_{1, 3} N_{1, 2} N_{3, 4} + \\overline{M_{3, 4}} \\overline{N_{1, 2}} M_{2, 3} N_{1, 4} + \\overline{M_{3, 4}} \\overline{N_{1, 2}} M_{2, 4} N_{1, 3} + \\overline{M_{3, 4}} M_{1, 2} N_{1, 3} N_{2, 4} + \\overline{M_{3, 4}} M_{1, 2} N_{1, 4} N_{2, 3} + \\overline{M_{3, 4}} M_{1, 3} N_{1, 2} N_{2, 4} + \\overline{M_{3, 4}} M_{1, 4} N_{1, 2} N_{2, 3} + \\overline{N_{1, 2}} \\overline{N_{2, 3}} \\overline{N_{3, 4}} N_{1, 4} + \\overline{N_{1, 2}} \\overline{N_{2, 4}} N_{1, 3} N_{3, 4} + \\overline{N_{1, 3}} \\overline{N_{2, 4}} N_{1, 4} N_{2, 3} + \\overline{N_{1, 3}} \\overline{N_{3, 4}} N_{1, 2} N_{2, 4} + \\overline{N_{1, 4}} \\overline{N_{2, 3}} N_{1, 3} N_{2, 4} + \\overline{N_{1, 4}} N_{1, 2} N_{2, 3} N_{3, 4}$"
      ],
      "text/plain": [
       "alpha1*alpha2*conjugate(M[1, 3])*conjugate(M[2, 4])*M[3, 4] + alpha1*alpha2*conjugate(M[1, 3])*conjugate(N[3, 4])*N[2, 4] + alpha1*alpha2*conjugate(M[1, 4])*conjugate(M[2, 3])*M[3, 4] + alpha1*alpha2*conjugate(M[1, 4])*N[2, 3]*N[3, 4] + alpha1*alpha2*conjugate(M[2, 3])*conjugate(N[3, 4])*N[1, 4] + alpha1*alpha2*conjugate(M[2, 4])*N[1, 3]*N[3, 4] + alpha1*alpha2*conjugate(M[3, 4])*N[1, 3]*N[2, 4] + alpha1*alpha2*conjugate(M[3, 4])*N[1, 4]*N[2, 3] + alpha1*alpha3*conjugate(M[1, 2])*conjugate(M[3, 4])*M[2, 4] + alpha1*alpha3*conjugate(M[1, 2])*conjugate(N[2, 4])*N[3, 4] + alpha1*alpha3*conjugate(M[1, 4])*conjugate(M[2, 3])*M[2, 4] + alpha1*alpha3*conjugate(M[1, 4])*conjugate(N[2, 3])*N[2, 4] + alpha1*alpha3*conjugate(M[2, 3])*conjugate(N[2, 4])*N[1, 4] + alpha1*alpha3*conjugate(M[2, 4])*conjugate(N[2, 3])*N[1, 4] + alpha1*alpha3*conjugate(M[2, 4])*N[1, 2]*N[3, 4] + alpha1*alpha3*conjugate(M[3, 4])*N[1, 2]*N[2, 4] + alpha1*alpha4*conjugate(M[1, 2])*conjugate(M[3, 4])*M[2, 3] + alpha1*alpha4*conjugate(M[1, 2])*conjugate(N[2, 3])*conjugate(N[3, 4]) + alpha1*alpha4*conjugate(M[1, 3])*conjugate(M[2, 4])*M[2, 3] + alpha1*alpha4*conjugate(M[1, 3])*conjugate(N[2, 4])*N[2, 3] + alpha1*alpha4*conjugate(M[2, 3])*conjugate(N[2, 4])*N[1, 3] + alpha1*alpha4*conjugate(M[2, 3])*conjugate(N[3, 4])*N[1, 2] + alpha1*alpha4*conjugate(M[2, 4])*conjugate(N[2, 3])*N[1, 3] + alpha1*alpha4*conjugate(M[3, 4])*N[1, 2]*N[2, 3] + alpha1*conjugate(alpha2)*conjugate(M[1, 3])*conjugate(N[2, 4])*M[3, 4] + alpha1*conjugate(alpha2)*conjugate(M[1, 3])*conjugate(N[3, 4])*M[2, 4] + alpha1*conjugate(alpha2)*conjugate(M[1, 4])*conjugate(N[2, 3])*M[3, 4] + alpha1*conjugate(alpha2)*conjugate(M[1, 4])*M[2, 3]*N[3, 4] + alpha1*conjugate(alpha2)*conjugate(M[3, 4])*M[2, 3]*N[1, 4] + alpha1*conjugate(alpha2)*conjugate(M[3, 4])*M[2, 4]*N[1, 3] + alpha1*conjugate(alpha2)*conjugate(N[2, 3])*conjugate(N[3, 4])*N[1, 4] + alpha1*conjugate(alpha2)*conjugate(N[2, 4])*N[1, 3]*N[3, 4] + alpha1*conjugate(alpha3)*conjugate(M[1, 2])*conjugate(N[2, 4])*M[3, 4] + alpha1*conjugate(alpha3)*conjugate(M[1, 2])*conjugate(N[3, 4])*M[2, 4] + alpha1*conjugate(alpha3)*conjugate(M[1, 4])*M[2, 3]*N[2, 4] + alpha1*conjugate(alpha3)*conjugate(M[1, 4])*M[2, 4]*N[2, 3] + alpha1*conjugate(alpha3)*conjugate(M[2, 4])*M[2, 3]*N[1, 4] + alpha1*conjugate(alpha3)*conjugate(M[2, 4])*M[3, 4]*N[1, 2] + alpha1*conjugate(alpha3)*conjugate(N[2, 4])*N[1, 4]*N[2, 3] + alpha1*conjugate(alpha3)*conjugate(N[3, 4])*N[1, 2]*N[2, 4] + alpha1*conjugate(alpha4)*conjugate(M[1, 2])*conjugate(N[2, 3])*M[3, 4] + alpha1*conjugate(alpha4)*conjugate(M[1, 2])*M[2, 3]*N[3, 4] + alpha1*conjugate(alpha4)*conjugate(M[1, 3])*M[2, 3]*N[2, 4] + alpha1*conjugate(alpha4)*conjugate(M[1, 3])*M[2, 4]*N[2, 3] + alpha1*conjugate(alpha4)*conjugate(M[2, 3])*M[2, 4]*N[1, 3] + alpha1*conjugate(alpha4)*conjugate(M[2, 3])*M[3, 4]*N[1, 2] + alpha1*conjugate(alpha4)*conjugate(N[2, 3])*N[1, 3]*N[2, 4] + alpha1*conjugate(alpha4)*N[1, 2]*N[2, 3]*N[3, 4] + alpha2*alpha3*conjugate(M[1, 2])*conjugate(M[3, 4])*M[1, 4] + alpha2*alpha3*conjugate(M[1, 2])*conjugate(N[1, 4])*N[3, 4] + alpha2*alpha3*conjugate(M[1, 3])*conjugate(M[2, 4])*M[1, 4] + alpha2*alpha3*conjugate(M[1, 3])*conjugate(N[1, 4])*N[2, 4] + alpha2*alpha3*conjugate(M[1, 4])*conjugate(N[1, 2])*N[3, 4] + alpha2*alpha3*conjugate(M[1, 4])*conjugate(N[1, 3])*N[2, 4] + alpha2*alpha3*conjugate(M[2, 4])*conjugate(N[1, 3])*N[1, 4] + alpha2*alpha3*conjugate(M[3, 4])*conjugate(N[1, 2])*N[1, 4] + alpha2*alpha4*conjugate(M[1, 2])*conjugate(M[3, 4])*M[1, 3] + alpha2*alpha4*conjugate(M[1, 2])*conjugate(N[1, 3])*conjugate(N[3, 4]) + alpha2*alpha4*conjugate(M[1, 3])*conjugate(N[1, 2])*conjugate(N[3, 4]) + alpha2*alpha4*conjugate(M[1, 3])*conjugate(N[1, 4])*N[2, 3] + alpha2*alpha4*conjugate(M[1, 4])*conjugate(M[2, 3])*M[1, 3] + alpha2*alpha4*conjugate(M[1, 4])*conjugate(N[1, 3])*N[2, 3] + alpha2*alpha4*conjugate(M[2, 3])*conjugate(N[1, 4])*N[1, 3] + alpha2*alpha4*conjugate(M[3, 4])*conjugate(N[1, 2])*N[1, 3] + alpha2*conjugate(alpha1)*conjugate(M[2, 3])*conjugate(N[1, 4])*M[3, 4] + alpha2*conjugate(alpha1)*conjugate(M[2, 3])*conjugate(N[3, 4])*M[1, 4] + alpha2*conjugate(alpha1)*conjugate(M[2, 4])*conjugate(N[1, 3])*M[3, 4] + alpha2*conjugate(alpha1)*conjugate(M[2, 4])*M[1, 3]*N[3, 4] + alpha2*conjugate(alpha1)*conjugate(M[3, 4])*M[1, 3]*N[2, 4] + alpha2*conjugate(alpha1)*conjugate(M[3, 4])*M[1, 4]*N[2, 3] + alpha2*conjugate(alpha1)*conjugate(N[1, 3])*conjugate(N[3, 4])*N[2, 4] + alpha2*conjugate(alpha1)*conjugate(N[1, 4])*N[2, 3]*N[3, 4] + alpha2*conjugate(alpha3)*conjugate(M[1, 2])*conjugate(N[1, 4])*M[3, 4] + alpha2*conjugate(alpha3)*conjugate(M[1, 2])*conjugate(N[3, 4])*M[1, 4] + alpha2*conjugate(alpha3)*conjugate(M[1, 4])*conjugate(N[1, 2])*M[3, 4] + alpha2*conjugate(alpha3)*conjugate(M[1, 4])*M[1, 3]*N[2, 4] + alpha2*conjugate(alpha3)*conjugate(M[2, 4])*M[1, 3]*N[1, 4] + alpha2*conjugate(alpha3)*conjugate(M[2, 4])*M[1, 4]*N[1, 3] + alpha2*conjugate(alpha3)*conjugate(N[1, 2])*conjugate(N[3, 4])*N[1, 4] + alpha2*conjugate(alpha3)*conjugate(N[1, 4])*N[1, 3]*N[2, 4] + alpha2*conjugate(alpha4)*conjugate(M[1, 2])*conjugate(N[1, 3])*M[3, 4] + alpha2*conjugate(alpha4)*conjugate(M[1, 2])*M[1, 3]*N[3, 4] + alpha2*conjugate(alpha4)*conjugate(M[1, 3])*conjugate(N[1, 2])*M[3, 4] + alpha2*conjugate(alpha4)*conjugate(M[1, 3])*M[1, 4]*N[2, 3] + alpha2*conjugate(alpha4)*conjugate(M[2, 3])*M[1, 3]*N[1, 4] + alpha2*conjugate(alpha4)*conjugate(M[2, 3])*M[1, 4]*N[1, 3] + alpha2*conjugate(alpha4)*conjugate(N[1, 2])*N[1, 3]*N[3, 4] + alpha2*conjugate(alpha4)*conjugate(N[1, 3])*N[1, 4]*N[2, 3] + alpha3*alpha4*conjugate(M[1, 2])*conjugate(N[1, 3])*conjugate(N[2, 4]) + alpha3*alpha4*conjugate(M[1, 2])*conjugate(N[1, 4])*conjugate(N[2, 3]) + alpha3*alpha4*conjugate(M[1, 3])*conjugate(M[2, 4])*M[1, 2] + alpha3*alpha4*conjugate(M[1, 3])*conjugate(N[1, 2])*conjugate(N[2, 4]) + alpha3*alpha4*conjugate(M[1, 4])*conjugate(M[2, 3])*M[1, 2] + alpha3*alpha4*conjugate(M[1, 4])*conjugate(N[1, 2])*conjugate(N[2, 3]) + alpha3*alpha4*conjugate(M[2, 3])*conjugate(N[1, 4])*N[1, 2] + alpha3*alpha4*conjugate(M[2, 4])*conjugate(N[1, 3])*N[1, 2] + alpha3*conjugate(alpha1)*conjugate(M[2, 3])*conjugate(N[1, 4])*M[2, 4] + alpha3*conjugate(alpha1)*conjugate(M[2, 3])*conjugate(N[2, 4])*M[1, 4] + alpha3*conjugate(alpha1)*conjugate(M[2, 4])*conjugate(N[2, 3])*M[1, 4] + alpha3*conjugate(alpha1)*conjugate(M[2, 4])*M[1, 2]*N[3, 4] + alpha3*conjugate(alpha1)*conjugate(M[3, 4])*conjugate(N[1, 2])*M[2, 4] + alpha3*conjugate(alpha1)*conjugate(M[3, 4])*M[1, 2]*N[2, 4] + alpha3*conjugate(alpha1)*conjugate(N[1, 2])*conjugate(N[2, 4])*N[3, 4] + alpha3*conjugate(alpha1)*conjugate(N[1, 4])*conjugate(N[2, 3])*N[2, 4] + alpha3*conjugate(alpha2)*conjugate(M[1, 3])*conjugate(N[1, 4])*M[2, 4] + alpha3*conjugate(alpha2)*conjugate(M[1, 3])*conjugate(N[2, 4])*M[1, 4] + alpha3*conjugate(alpha2)*conjugate(M[1, 4])*conjugate(N[1, 3])*M[2, 4] + alpha3*conjugate(alpha2)*conjugate(M[1, 4])*M[1, 2]*N[3, 4] + alpha3*conjugate(alpha2)*conjugate(M[3, 4])*M[1, 2]*N[1, 4] + alpha3*conjugate(alpha2)*conjugate(M[3, 4])*M[1, 4]*N[1, 2] + alpha3*conjugate(alpha2)*conjugate(N[1, 3])*conjugate(N[2, 4])*N[1, 4] + alpha3*conjugate(alpha2)*conjugate(N[1, 4])*N[1, 2]*N[3, 4] + alpha3*conjugate(alpha4)*conjugate(M[1, 2])*conjugate(N[1, 3])*M[2, 4] + alpha3*conjugate(alpha4)*conjugate(M[1, 2])*conjugate(N[2, 3])*M[1, 4] + alpha3*conjugate(alpha4)*conjugate(M[1, 3])*conjugate(N[1, 2])*M[2, 4] + alpha3*conjugate(alpha4)*conjugate(M[1, 3])*M[1, 2]*N[2, 4] + alpha3*conjugate(alpha4)*conjugate(M[2, 3])*M[1, 2]*N[1, 4] + alpha3*conjugate(alpha4)*conjugate(M[2, 3])*M[1, 4]*N[1, 2] + alpha3*conjugate(alpha4)*conjugate(N[1, 2])*conjugate(N[2, 3])*N[1, 4] + alpha3*conjugate(alpha4)*conjugate(N[1, 3])*N[1, 2]*N[2, 4] + alpha4*conjugate(alpha1)*conjugate(M[2, 3])*conjugate(N[2, 4])*M[1, 3] + alpha4*conjugate(alpha1)*conjugate(M[2, 3])*conjugate(N[3, 4])*M[1, 2] + alpha4*conjugate(alpha1)*conjugate(M[2, 4])*conjugate(N[1, 3])*M[2, 3] + alpha4*conjugate(alpha1)*conjugate(M[2, 4])*conjugate(N[2, 3])*M[1, 3] + alpha4*conjugate(alpha1)*conjugate(M[3, 4])*conjugate(N[1, 2])*M[2, 3] + alpha4*conjugate(alpha1)*conjugate(M[3, 4])*M[1, 2]*N[2, 3] + alpha4*conjugate(alpha1)*conjugate(N[1, 2])*conjugate(N[2, 3])*conjugate(N[3, 4]) + alpha4*conjugate(alpha1)*conjugate(N[1, 3])*conjugate(N[2, 4])*N[2, 3] + alpha4*conjugate(alpha2)*conjugate(M[1, 3])*conjugate(N[1, 4])*M[2, 3] + alpha4*conjugate(alpha2)*conjugate(M[1, 3])*conjugate(N[3, 4])*M[1, 2] + alpha4*conjugate(alpha2)*conjugate(M[1, 4])*conjugate(N[1, 3])*M[2, 3] + alpha4*conjugate(alpha2)*conjugate(M[1, 4])*conjugate(N[2, 3])*M[1, 3] + alpha4*conjugate(alpha2)*conjugate(M[3, 4])*M[1, 2]*N[1, 3] + alpha4*conjugate(alpha2)*conjugate(M[3, 4])*M[1, 3]*N[1, 2] + alpha4*conjugate(alpha2)*conjugate(N[1, 3])*conjugate(N[3, 4])*N[1, 2] + alpha4*conjugate(alpha2)*conjugate(N[1, 4])*conjugate(N[2, 3])*N[1, 3] + alpha4*conjugate(alpha3)*conjugate(M[1, 2])*conjugate(N[1, 4])*M[2, 3] + alpha4*conjugate(alpha3)*conjugate(M[1, 2])*conjugate(N[2, 4])*M[1, 3] + alpha4*conjugate(alpha3)*conjugate(M[1, 4])*conjugate(N[1, 2])*M[2, 3] + alpha4*conjugate(alpha3)*conjugate(M[1, 4])*M[1, 2]*N[2, 3] + alpha4*conjugate(alpha3)*conjugate(M[2, 4])*M[1, 2]*N[1, 3] + alpha4*conjugate(alpha3)*conjugate(M[2, 4])*M[1, 3]*N[1, 2] + alpha4*conjugate(alpha3)*conjugate(N[1, 2])*conjugate(N[2, 4])*N[1, 3] + alpha4*conjugate(alpha3)*conjugate(N[1, 4])*N[1, 2]*N[2, 3] + conjugate(alpha1)*conjugate(alpha2)*conjugate(M[3, 4])*M[1, 3]*M[2, 4] + conjugate(alpha1)*conjugate(alpha2)*conjugate(M[3, 4])*M[1, 4]*M[2, 3] + conjugate(alpha1)*conjugate(alpha2)*conjugate(N[1, 3])*conjugate(N[2, 4])*M[3, 4] + conjugate(alpha1)*conjugate(alpha2)*conjugate(N[1, 3])*conjugate(N[3, 4])*M[2, 4] + conjugate(alpha1)*conjugate(alpha2)*conjugate(N[1, 4])*conjugate(N[2, 3])*M[3, 4] + conjugate(alpha1)*conjugate(alpha2)*conjugate(N[1, 4])*M[2, 3]*N[3, 4] + conjugate(alpha1)*conjugate(alpha2)*conjugate(N[2, 3])*conjugate(N[3, 4])*M[1, 4] + conjugate(alpha1)*conjugate(alpha2)*conjugate(N[2, 4])*M[1, 3]*N[3, 4] + conjugate(alpha1)*conjugate(alpha3)*conjugate(M[2, 4])*M[1, 2]*M[3, 4] + conjugate(alpha1)*conjugate(alpha3)*conjugate(M[2, 4])*M[1, 4]*M[2, 3] + conjugate(alpha1)*conjugate(alpha3)*conjugate(N[1, 2])*conjugate(N[2, 4])*M[3, 4] + conjugate(alpha1)*conjugate(alpha3)*conjugate(N[1, 2])*conjugate(N[3, 4])*M[2, 4] + conjugate(alpha1)*conjugate(alpha3)*conjugate(N[1, 4])*M[2, 3]*N[2, 4] + conjugate(alpha1)*conjugate(alpha3)*conjugate(N[1, 4])*M[2, 4]*N[2, 3] + conjugate(alpha1)*conjugate(alpha3)*conjugate(N[2, 4])*M[1, 4]*N[2, 3] + conjugate(alpha1)*conjugate(alpha3)*conjugate(N[3, 4])*M[1, 2]*N[2, 4] + conjugate(alpha1)*conjugate(alpha4)*conjugate(M[2, 3])*M[1, 2]*M[3, 4] + conjugate(alpha1)*conjugate(alpha4)*conjugate(M[2, 3])*M[1, 3]*M[2, 4] + conjugate(alpha1)*conjugate(alpha4)*conjugate(N[1, 2])*conjugate(N[2, 3])*M[3, 4] + conjugate(alpha1)*conjugate(alpha4)*conjugate(N[1, 2])*M[2, 3]*N[3, 4] + conjugate(alpha1)*conjugate(alpha4)*conjugate(N[1, 3])*M[2, 3]*N[2, 4] + conjugate(alpha1)*conjugate(alpha4)*conjugate(N[1, 3])*M[2, 4]*N[2, 3] + conjugate(alpha1)*conjugate(alpha4)*conjugate(N[2, 3])*M[1, 3]*N[2, 4] + conjugate(alpha1)*conjugate(alpha4)*M[1, 2]*N[2, 3]*N[3, 4] + conjugate(alpha2)*conjugate(alpha3)*conjugate(M[1, 4])*M[1, 2]*M[3, 4] + conjugate(alpha2)*conjugate(alpha3)*conjugate(M[1, 4])*M[1, 3]*M[2, 4] + conjugate(alpha2)*conjugate(alpha3)*conjugate(N[1, 4])*M[2, 4]*N[1, 3] + conjugate(alpha2)*conjugate(alpha3)*conjugate(N[1, 4])*M[3, 4]*N[1, 2] + conjugate(alpha2)*conjugate(alpha3)*conjugate(N[2, 4])*M[1, 3]*N[1, 4] + conjugate(alpha2)*conjugate(alpha3)*conjugate(N[2, 4])*M[1, 4]*N[1, 3] + conjugate(alpha2)*conjugate(alpha3)*conjugate(N[3, 4])*M[1, 2]*N[1, 4] + conjugate(alpha2)*conjugate(alpha3)*conjugate(N[3, 4])*M[1, 4]*N[1, 2] + conjugate(alpha2)*conjugate(alpha4)*conjugate(M[1, 3])*M[1, 2]*M[3, 4] + conjugate(alpha2)*conjugate(alpha4)*conjugate(M[1, 3])*M[1, 4]*M[2, 3] + conjugate(alpha2)*conjugate(alpha4)*conjugate(N[1, 3])*M[2, 3]*N[1, 4] + conjugate(alpha2)*conjugate(alpha4)*conjugate(N[1, 3])*M[3, 4]*N[1, 2] + conjugate(alpha2)*conjugate(alpha4)*conjugate(N[2, 3])*M[1, 3]*N[1, 4] + conjugate(alpha2)*conjugate(alpha4)*conjugate(N[2, 3])*M[1, 4]*N[1, 3] + conjugate(alpha2)*conjugate(alpha4)*M[1, 2]*N[1, 3]*N[3, 4] + conjugate(alpha2)*conjugate(alpha4)*M[1, 3]*N[1, 2]*N[3, 4] + conjugate(alpha3)*conjugate(alpha4)*conjugate(M[1, 2])*M[1, 3]*M[2, 4] + conjugate(alpha3)*conjugate(alpha4)*conjugate(M[1, 2])*M[1, 4]*M[2, 3] + conjugate(alpha3)*conjugate(alpha4)*conjugate(N[1, 2])*M[2, 3]*N[1, 4] + conjugate(alpha3)*conjugate(alpha4)*conjugate(N[1, 2])*M[2, 4]*N[1, 3] + conjugate(alpha3)*conjugate(alpha4)*M[1, 2]*N[1, 3]*N[2, 4] + conjugate(alpha3)*conjugate(alpha4)*M[1, 2]*N[1, 4]*N[2, 3] + conjugate(alpha3)*conjugate(alpha4)*M[1, 3]*N[1, 2]*N[2, 4] + conjugate(alpha3)*conjugate(alpha4)*M[1, 4]*N[1, 2]*N[2, 3] + conjugate(M[1, 2])*conjugate(M[3, 4])*M[1, 3]*M[2, 4] + conjugate(M[1, 2])*conjugate(M[3, 4])*M[1, 4]*M[2, 3] + conjugate(M[1, 2])*conjugate(N[1, 3])*conjugate(N[2, 4])*M[3, 4] + conjugate(M[1, 2])*conjugate(N[1, 3])*conjugate(N[3, 4])*M[2, 4] + conjugate(M[1, 2])*conjugate(N[1, 4])*conjugate(N[2, 3])*M[3, 4] + conjugate(M[1, 2])*conjugate(N[1, 4])*M[2, 3]*N[3, 4] + conjugate(M[1, 2])*conjugate(N[2, 3])*conjugate(N[3, 4])*M[1, 4] + conjugate(M[1, 2])*conjugate(N[2, 4])*M[1, 3]*N[3, 4] + conjugate(M[1, 3])*conjugate(M[2, 4])*M[1, 2]*M[3, 4] + conjugate(M[1, 3])*conjugate(M[2, 4])*M[1, 4]*M[2, 3] + conjugate(M[1, 3])*conjugate(N[1, 2])*conjugate(N[2, 4])*M[3, 4] + conjugate(M[1, 3])*conjugate(N[1, 2])*conjugate(N[3, 4])*M[2, 4] + conjugate(M[1, 3])*conjugate(N[1, 4])*M[2, 3]*N[2, 4] + conjugate(M[1, 3])*conjugate(N[1, 4])*M[2, 4]*N[2, 3] + conjugate(M[1, 3])*conjugate(N[2, 4])*M[1, 4]*N[2, 3] + conjugate(M[1, 3])*conjugate(N[3, 4])*M[1, 2]*N[2, 4] + conjugate(M[1, 4])*conjugate(M[2, 3])*M[1, 2]*M[3, 4] + conjugate(M[1, 4])*conjugate(M[2, 3])*M[1, 3]*M[2, 4] + conjugate(M[1, 4])*conjugate(N[1, 2])*conjugate(N[2, 3])*M[3, 4] + conjugate(M[1, 4])*conjugate(N[1, 2])*M[2, 3]*N[3, 4] + conjugate(M[1, 4])*conjugate(N[1, 3])*M[2, 3]*N[2, 4] + conjugate(M[1, 4])*conjugate(N[1, 3])*M[2, 4]*N[2, 3] + conjugate(M[1, 4])*conjugate(N[2, 3])*M[1, 3]*N[2, 4] + conjugate(M[1, 4])*M[1, 2]*N[2, 3]*N[3, 4] + conjugate(M[2, 3])*conjugate(N[1, 4])*M[2, 4]*N[1, 3] + conjugate(M[2, 3])*conjugate(N[1, 4])*M[3, 4]*N[1, 2] + conjugate(M[2, 3])*conjugate(N[2, 4])*M[1, 3]*N[1, 4] + conjugate(M[2, 3])*conjugate(N[2, 4])*M[1, 4]*N[1, 3] + conjugate(M[2, 3])*conjugate(N[3, 4])*M[1, 2]*N[1, 4] + conjugate(M[2, 3])*conjugate(N[3, 4])*M[1, 4]*N[1, 2] + conjugate(M[2, 4])*conjugate(N[1, 3])*M[2, 3]*N[1, 4] + conjugate(M[2, 4])*conjugate(N[1, 3])*M[3, 4]*N[1, 2] + conjugate(M[2, 4])*conjugate(N[2, 3])*M[1, 3]*N[1, 4] + conjugate(M[2, 4])*conjugate(N[2, 3])*M[1, 4]*N[1, 3] + conjugate(M[2, 4])*M[1, 2]*N[1, 3]*N[3, 4] + conjugate(M[2, 4])*M[1, 3]*N[1, 2]*N[3, 4] + conjugate(M[3, 4])*conjugate(N[1, 2])*M[2, 3]*N[1, 4] + conjugate(M[3, 4])*conjugate(N[1, 2])*M[2, 4]*N[1, 3] + conjugate(M[3, 4])*M[1, 2]*N[1, 3]*N[2, 4] + conjugate(M[3, 4])*M[1, 2]*N[1, 4]*N[2, 3] + conjugate(M[3, 4])*M[1, 3]*N[1, 2]*N[2, 4] + conjugate(M[3, 4])*M[1, 4]*N[1, 2]*N[2, 3] + conjugate(N[1, 2])*conjugate(N[2, 3])*conjugate(N[3, 4])*N[1, 4] + conjugate(N[1, 2])*conjugate(N[2, 4])*N[1, 3]*N[3, 4] + conjugate(N[1, 3])*conjugate(N[2, 4])*N[1, 4]*N[2, 3] + conjugate(N[1, 3])*conjugate(N[3, 4])*N[1, 2]*N[2, 4] + conjugate(N[1, 4])*conjugate(N[2, 3])*N[1, 3]*N[2, 4] + conjugate(N[1, 4])*N[1, 2]*N[2, 3]*N[3, 4]"
      ]
     },
     "metadata": {},
     "output_type": "display_data"
    }
   ],
   "source": [
    "print('k(n1,n2,n3, n4)')\n",
    "display(cumulant(4*[1], N_nature = 'general', displacement=True))"
   ]
  },
  {
   "cell_type": "markdown",
   "metadata": {},
   "source": [
    "### First two orders of Montrealer"
   ]
  },
  {
   "cell_type": "code",
   "execution_count": 4,
   "metadata": {},
   "outputs": [
    {
     "name": "stdout",
     "output_type": "stream",
     "text": [
      "Second order Montrealer :\n"
     ]
    },
    {
     "data": {
      "text/latex": [
       "$\\displaystyle \\overline{M_{1, 2}} M_{1, 2}$"
      ],
      "text/plain": [
       "conjugate(M[1, 2])*M[1, 2]"
      ]
     },
     "metadata": {},
     "output_type": "display_data"
    },
    {
     "name": "stdout",
     "output_type": "stream",
     "text": [
      "Third order Montrealer :\n"
     ]
    },
    {
     "data": {
      "text/plain": [
       "0"
      ]
     },
     "metadata": {},
     "output_type": "display_data"
    },
    {
     "name": "stdout",
     "output_type": "stream",
     "text": [
      "Fourth order Montrealer :\n"
     ]
    },
    {
     "data": {
      "text/latex": [
       "$\\displaystyle \\overline{M_{1, 2}} \\overline{M_{3, 4}} M_{1, 3} M_{2, 4} + \\overline{M_{1, 2}} \\overline{M_{3, 4}} M_{1, 4} M_{2, 3} + \\overline{M_{1, 3}} \\overline{M_{2, 4}} M_{1, 2} M_{3, 4} + \\overline{M_{1, 3}} \\overline{M_{2, 4}} M_{1, 4} M_{2, 3} + \\overline{M_{1, 4}} \\overline{M_{2, 3}} M_{1, 2} M_{3, 4} + \\overline{M_{1, 4}} \\overline{M_{2, 3}} M_{1, 3} M_{2, 4}$"
      ],
      "text/plain": [
       "conjugate(M[1, 2])*conjugate(M[3, 4])*M[1, 3]*M[2, 4] + conjugate(M[1, 2])*conjugate(M[3, 4])*M[1, 4]*M[2, 3] + conjugate(M[1, 3])*conjugate(M[2, 4])*M[1, 2]*M[3, 4] + conjugate(M[1, 3])*conjugate(M[2, 4])*M[1, 4]*M[2, 3] + conjugate(M[1, 4])*conjugate(M[2, 3])*M[1, 2]*M[3, 4] + conjugate(M[1, 4])*conjugate(M[2, 3])*M[1, 3]*M[2, 4]"
      ]
     },
     "metadata": {},
     "output_type": "display_data"
    },
    {
     "name": "stdout",
     "output_type": "stream",
     "text": [
      "Fifth order Montrealer :\n"
     ]
    },
    {
     "data": {
      "text/latex": [
       "$\\displaystyle 0$"
      ],
      "text/plain": [
       "0"
      ]
     },
     "metadata": {},
     "output_type": "display_data"
    }
   ],
   "source": [
    "mtl_2 = montrealer(symmetric_M(2))\n",
    "mtl_3 = montrealer(symmetric_M(3))\n",
    "mtl_4 = montrealer(symmetric_M(4))\n",
    "mtl_5 = montrealer(symmetric_M(5))\n",
    "print('Second order Montrealer :')\n",
    "display(mtl_2)\n",
    "print('Third order Montrealer :')\n",
    "display(mtl_3)\n",
    "print('Fourth order Montrealer :')\n",
    "display(expand(mtl_4))\n",
    "print('Fifth order Montrealer :')\n",
    "display(expand(mtl_5))\n"
   ]
  },
  {
   "cell_type": "markdown",
   "metadata": {},
   "source": [
    "### Reconciliation of the Montrealer and cumulant functions"
   ]
  },
  {
   "cell_type": "code",
   "execution_count": 5,
   "metadata": {},
   "outputs": [
    {
     "name": "stdout",
     "output_type": "stream",
     "text": [
      "True\n",
      "True\n",
      "True\n",
      "True\n"
     ]
    }
   ],
   "source": [
    "mtl_cum_2 = expand(cumulant(2*[1], N_nature=\"diagonal\", displacement=False))\n",
    "print(mtl_cum_2.equals(mtl_2))\n",
    "\n",
    "mtl_cum_3 = expand(cumulant(3*[1], N_nature=\"diagonal\", displacement=False))\n",
    "print(mtl_cum_3.equals(mtl_3))\n",
    "\n",
    "mtl_cum_4 = expand(cumulant(4*[1], N_nature=\"diagonal\", displacement=False))\n",
    "print(mtl_cum_4.equals(mtl_4))\n",
    "\n",
    "mtl_cum_6 = expand(cumulant(6*[1], N_nature=\"diagonal\", displacement=False))\n",
    "mtl_6 = montrealer(symmetric_M(6))\n",
    "print(mtl_cum_6.equals(mtl_6))"
   ]
  }
 ],
 "metadata": {
  "kernelspec": {
   "display_name": "Python 3.8.13 ('GBS')",
   "language": "python",
   "name": "python3"
  },
  "language_info": {
   "codemirror_mode": {
    "name": "ipython",
    "version": 3
   },
   "file_extension": ".py",
   "mimetype": "text/x-python",
   "name": "python",
   "nbconvert_exporter": "python",
   "pygments_lexer": "ipython3",
   "version": "3.8.13"
  },
  "orig_nbformat": 4,
  "vscode": {
   "interpreter": {
    "hash": "b9da7cac117a6ecebdac47a9ebe9814a7ac3b718953c12b180cf4daab6903cd1"
   }
  }
 },
 "nbformat": 4,
 "nbformat_minor": 2
}
