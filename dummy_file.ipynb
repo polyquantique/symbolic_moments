{
 "cells": [
  {
   "cell_type": "code",
   "execution_count": 26,
   "metadata": {},
   "outputs": [],
   "source": [
    "import symbolic_cumulants as gbs\n",
    "from sympy import Matrix, MatrixSymbol, symbols, simplify, expand\n",
    "from math import factorial\n",
    "from itertools import product, permutations\n",
    "from functools import reduce\n",
    "from operator import mul\n",
    "from math import fsum\n",
    "from thewalrus.reference import hafnian\n",
    "import numpy as np"
   ]
  },
  {
   "attachments": {},
   "cell_type": "markdown",
   "metadata": {},
   "source": [
    "### symmetric_M"
   ]
  },
  {
   "cell_type": "code",
   "execution_count": 14,
   "metadata": {},
   "outputs": [
    {
     "data": {
      "text/latex": [
       "$\\displaystyle \\left[\\begin{matrix}M_{2, 2} & M_{2, 3} & M_{2, 4} & M_{2, 5}\\\\M_{2, 3} & M_{3, 3} & M_{3, 4} & M_{3, 5}\\\\M_{2, 4} & M_{3, 4} & M_{4, 4} & M_{4, 5}\\\\M_{2, 5} & M_{3, 5} & M_{4, 5} & M_{5, 5}\\end{matrix}\\right]$"
      ],
      "text/plain": [
       "Matrix([\n",
       "[M[2, 2], M[2, 3], M[2, 4], M[2, 5]],\n",
       "[M[2, 3], M[3, 3], M[3, 4], M[3, 5]],\n",
       "[M[2, 4], M[3, 4], M[4, 4], M[4, 5]],\n",
       "[M[2, 5], M[3, 5], M[4, 5], M[5, 5]]])"
      ]
     },
     "metadata": {},
     "output_type": "display_data"
    },
    {
     "name": "stdout",
     "output_type": "stream",
     "text": [
      "(4, 4)\n",
      "True\n"
     ]
    }
   ],
   "source": [
    "M = gbs.symmetric_M(4, initial_index=2)\n",
    "display(Matrix(M))\n",
    "\n",
    "print(M.shape)\n",
    "print(np.array_equal(M, M.T))"
   ]
  },
  {
   "attachments": {},
   "cell_type": "markdown",
   "metadata": {},
   "source": [
    "### hermitian_N"
   ]
  },
  {
   "cell_type": "code",
   "execution_count": 5,
   "metadata": {},
   "outputs": [
    {
     "data": {
      "text/latex": [
       "$\\displaystyle \\left[\\begin{matrix}N_{2, 2} & N_{2, 3} & N_{2, 4} & N_{2, 5}\\\\\\overline{N_{2, 3}} & N_{3, 3} & N_{3, 4} & N_{3, 5}\\\\\\overline{N_{2, 4}} & \\overline{N_{3, 4}} & N_{4, 4} & N_{4, 5}\\\\\\overline{N_{2, 5}} & \\overline{N_{3, 5}} & \\overline{N_{4, 5}} & N_{5, 5}\\end{matrix}\\right]$"
      ],
      "text/plain": [
       "Matrix([\n",
       "[           N[2, 2],            N[2, 3],            N[2, 4], N[2, 5]],\n",
       "[conjugate(N[2, 3]),            N[3, 3],            N[3, 4], N[3, 5]],\n",
       "[conjugate(N[2, 4]), conjugate(N[3, 4]),            N[4, 4], N[4, 5]],\n",
       "[conjugate(N[2, 5]), conjugate(N[3, 5]), conjugate(N[4, 5]), N[5, 5]]])"
      ]
     },
     "metadata": {},
     "output_type": "display_data"
    },
    {
     "data": {
      "text/latex": [
       "$\\displaystyle \\left[\\begin{matrix}\\overline{N_{2, 2}} & N_{2, 3} & N_{2, 4} & N_{2, 5}\\\\\\overline{N_{2, 3}} & N_{3, 3} & N_{3, 4} & N_{3, 5}\\\\\\overline{N_{2, 4}} & \\overline{N_{3, 4}} & \\overline{N_{4, 4}} & N_{4, 5}\\\\\\overline{N_{2, 5}} & \\overline{N_{3, 5}} & \\overline{N_{4, 5}} & \\overline{N_{5, 5}}\\end{matrix}\\right]$"
      ],
      "text/plain": [
       "Matrix([\n",
       "[conjugate(N[2, 2]),            N[2, 3],            N[2, 4],            N[2, 5]],\n",
       "[conjugate(N[2, 3]),            N[3, 3],            N[3, 4],            N[3, 5]],\n",
       "[conjugate(N[2, 4]), conjugate(N[3, 4]), conjugate(N[4, 4]),            N[4, 5]],\n",
       "[conjugate(N[2, 5]), conjugate(N[3, 5]), conjugate(N[4, 5]), conjugate(N[5, 5])]])"
      ]
     },
     "metadata": {},
     "output_type": "display_data"
    }
   ],
   "source": [
    "N = gbs.hermitian_N(4, initial_index=2)\n",
    "display(Matrix(N))\n",
    "Nconj = N.T.conj()\n",
    "Nconj[1,1] = np.conjugate(Nconj[1,1])\n",
    "display(Matrix(Nconj))"
   ]
  },
  {
   "attachments": {},
   "cell_type": "markdown",
   "metadata": {},
   "source": [
    "### diagonal_N"
   ]
  },
  {
   "cell_type": "code",
   "execution_count": 21,
   "metadata": {},
   "outputs": [
    {
     "data": {
      "text/latex": [
       "$\\displaystyle \\left[\\begin{matrix}n_{3} & 0 & 0\\\\0 & n_{4} & 0\\\\0 & 0 & n_{5}\\end{matrix}\\right]$"
      ],
      "text/plain": [
       "Matrix([\n",
       "[n3,  0,  0],\n",
       "[ 0, n4,  0],\n",
       "[ 0,  0, n5]])"
      ]
     },
     "metadata": {},
     "output_type": "display_data"
    },
    {
     "data": {
      "text/latex": [
       "$\\displaystyle \\left[\\begin{matrix}0 & 0 & 0\\\\0 & 0 & 0\\\\0 & 0 & 0\\end{matrix}\\right]$"
      ],
      "text/plain": [
       "Matrix([\n",
       "[0, 0, 0],\n",
       "[0, 0, 0],\n",
       "[0, 0, 0]])"
      ]
     },
     "metadata": {},
     "output_type": "display_data"
    }
   ],
   "source": [
    "n = 3\n",
    "initial_index = 3\n",
    "N = np.diag(symbols(\"n\"+str(initial_index)+\":%d\" % (n + initial_index)))\n",
    "display(Matrix(N))\n",
    "\n",
    "np.fill_diagonal(N, 0)\n",
    "display(Matrix(N))"
   ]
  },
  {
   "attachments": {},
   "cell_type": "markdown",
   "metadata": {},
   "source": [
    "### symmetric_A"
   ]
  },
  {
   "cell_type": "code",
   "execution_count": 4,
   "metadata": {},
   "outputs": [
    {
     "data": {
      "text/latex": [
       "$\\displaystyle \\left[\\begin{matrix}A_{3, 3} & A_{3, 4} & A_{3, 5} & A_{3, 6} & A_{3, 7} & A_{3, 8} & A_{3, 9} & A_{3, 10}\\\\A_{3, 4} & A_{4, 4} & A_{4, 5} & A_{4, 6} & A_{4, 7} & A_{4, 8} & A_{4, 9} & A_{4, 10}\\\\A_{3, 5} & A_{4, 5} & A_{5, 5} & A_{5, 6} & A_{5, 7} & A_{5, 8} & A_{5, 9} & A_{5, 10}\\\\A_{3, 6} & A_{4, 6} & A_{5, 6} & A_{6, 6} & A_{6, 7} & A_{6, 8} & A_{6, 9} & A_{6, 10}\\\\A_{3, 7} & A_{4, 7} & A_{5, 7} & A_{6, 7} & A_{7, 7} & A_{7, 8} & A_{7, 9} & A_{7, 10}\\\\A_{3, 8} & A_{4, 8} & A_{5, 8} & A_{6, 8} & A_{7, 8} & A_{8, 8} & A_{8, 9} & A_{8, 10}\\\\A_{3, 9} & A_{4, 9} & A_{5, 9} & A_{6, 9} & A_{7, 9} & A_{8, 9} & A_{9, 9} & A_{9, 10}\\\\A_{3, 10} & A_{4, 10} & A_{5, 10} & A_{6, 10} & A_{7, 10} & A_{8, 10} & A_{9, 10} & A_{10, 10}\\end{matrix}\\right]$"
      ],
      "text/plain": [
       "Matrix([\n",
       "[ A[3, 3],  A[3, 4],  A[3, 5],  A[3, 6],  A[3, 7],  A[3, 8],  A[3, 9],  A[3, 10]],\n",
       "[ A[3, 4],  A[4, 4],  A[4, 5],  A[4, 6],  A[4, 7],  A[4, 8],  A[4, 9],  A[4, 10]],\n",
       "[ A[3, 5],  A[4, 5],  A[5, 5],  A[5, 6],  A[5, 7],  A[5, 8],  A[5, 9],  A[5, 10]],\n",
       "[ A[3, 6],  A[4, 6],  A[5, 6],  A[6, 6],  A[6, 7],  A[6, 8],  A[6, 9],  A[6, 10]],\n",
       "[ A[3, 7],  A[4, 7],  A[5, 7],  A[6, 7],  A[7, 7],  A[7, 8],  A[7, 9],  A[7, 10]],\n",
       "[ A[3, 8],  A[4, 8],  A[5, 8],  A[6, 8],  A[7, 8],  A[8, 8],  A[8, 9],  A[8, 10]],\n",
       "[ A[3, 9],  A[4, 9],  A[5, 9],  A[6, 9],  A[7, 9],  A[8, 9],  A[9, 9],  A[9, 10]],\n",
       "[A[3, 10], A[4, 10], A[5, 10], A[6, 10], A[7, 10], A[8, 10], A[9, 10], A[10, 10]]])"
      ]
     },
     "metadata": {},
     "output_type": "display_data"
    },
    {
     "name": "stdout",
     "output_type": "stream",
     "text": [
      "True\n"
     ]
    }
   ],
   "source": [
    "n = 4\n",
    "initial_index = 3\n",
    "A = gbs.symmetric_A(n, initial_index)\n",
    "display(Matrix(A))\n",
    "\n",
    "print(np.array_equal(A, A.T))"
   ]
  },
  {
   "attachments": {},
   "cell_type": "markdown",
   "metadata": {},
   "source": [
    "### block_A"
   ]
  },
  {
   "cell_type": "code",
   "execution_count": 19,
   "metadata": {},
   "outputs": [
    {
     "data": {
      "text/latex": [
       "$\\displaystyle \\left[\\begin{matrix}\\overline{M_{2, 2}} & \\overline{M_{2, 3}} & \\overline{M_{2, 4}} & \\overline{M_{2, 5}} & N_{2, 2} & N_{2, 3} & N_{2, 4} & N_{2, 5}\\\\\\overline{M_{2, 3}} & \\overline{M_{3, 3}} & \\overline{M_{3, 4}} & \\overline{M_{3, 5}} & \\overline{N_{2, 3}} & N_{3, 3} & N_{3, 4} & N_{3, 5}\\\\\\overline{M_{2, 4}} & \\overline{M_{3, 4}} & \\overline{M_{4, 4}} & \\overline{M_{4, 5}} & \\overline{N_{2, 4}} & \\overline{N_{3, 4}} & N_{4, 4} & N_{4, 5}\\\\\\overline{M_{2, 5}} & \\overline{M_{3, 5}} & \\overline{M_{4, 5}} & \\overline{M_{5, 5}} & \\overline{N_{2, 5}} & \\overline{N_{3, 5}} & \\overline{N_{4, 5}} & N_{5, 5}\\\\\\overline{N_{2, 2}} & \\overline{N_{2, 3}} & \\overline{N_{2, 4}} & \\overline{N_{2, 5}} & M_{2, 2} & M_{2, 3} & M_{2, 4} & M_{2, 5}\\\\N_{2, 3} & \\overline{N_{3, 3}} & \\overline{N_{3, 4}} & \\overline{N_{3, 5}} & M_{2, 3} & M_{3, 3} & M_{3, 4} & M_{3, 5}\\\\N_{2, 4} & N_{3, 4} & \\overline{N_{4, 4}} & \\overline{N_{4, 5}} & M_{2, 4} & M_{3, 4} & M_{4, 4} & M_{4, 5}\\\\N_{2, 5} & N_{3, 5} & N_{4, 5} & \\overline{N_{5, 5}} & M_{2, 5} & M_{3, 5} & M_{4, 5} & M_{5, 5}\\end{matrix}\\right]$"
      ],
      "text/plain": [
       "Matrix([\n",
       "[conjugate(M[2, 2]), conjugate(M[2, 3]), conjugate(M[2, 4]), conjugate(M[2, 5]),            N[2, 2],            N[2, 3],            N[2, 4], N[2, 5]],\n",
       "[conjugate(M[2, 3]), conjugate(M[3, 3]), conjugate(M[3, 4]), conjugate(M[3, 5]), conjugate(N[2, 3]),            N[3, 3],            N[3, 4], N[3, 5]],\n",
       "[conjugate(M[2, 4]), conjugate(M[3, 4]), conjugate(M[4, 4]), conjugate(M[4, 5]), conjugate(N[2, 4]), conjugate(N[3, 4]),            N[4, 4], N[4, 5]],\n",
       "[conjugate(M[2, 5]), conjugate(M[3, 5]), conjugate(M[4, 5]), conjugate(M[5, 5]), conjugate(N[2, 5]), conjugate(N[3, 5]), conjugate(N[4, 5]), N[5, 5]],\n",
       "[conjugate(N[2, 2]), conjugate(N[2, 3]), conjugate(N[2, 4]), conjugate(N[2, 5]),            M[2, 2],            M[2, 3],            M[2, 4], M[2, 5]],\n",
       "[           N[2, 3], conjugate(N[3, 3]), conjugate(N[3, 4]), conjugate(N[3, 5]),            M[2, 3],            M[3, 3],            M[3, 4], M[3, 5]],\n",
       "[           N[2, 4],            N[3, 4], conjugate(N[4, 4]), conjugate(N[4, 5]),            M[2, 4],            M[3, 4],            M[4, 4], M[4, 5]],\n",
       "[           N[2, 5],            N[3, 5],            N[4, 5], conjugate(N[5, 5]),            M[2, 5],            M[3, 5],            M[4, 5], M[5, 5]]])"
      ]
     },
     "metadata": {},
     "output_type": "display_data"
    },
    {
     "data": {
      "text/latex": [
       "$\\displaystyle \\left[\\begin{matrix}\\overline{M_{2, 2}} & \\overline{M_{2, 3}} & \\overline{M_{2, 4}} & \\overline{M_{2, 5}} & N_{2, 2} & N_{2, 3} & N_{2, 4} & N_{2, 5}\\\\\\overline{M_{2, 3}} & \\overline{M_{3, 3}} & \\overline{M_{3, 4}} & \\overline{M_{3, 5}} & \\overline{N_{2, 3}} & N_{3, 3} & N_{3, 4} & N_{3, 5}\\\\\\overline{M_{2, 4}} & \\overline{M_{3, 4}} & \\overline{M_{4, 4}} & \\overline{M_{4, 5}} & \\overline{N_{2, 4}} & \\overline{N_{3, 4}} & N_{4, 4} & N_{4, 5}\\\\\\overline{M_{2, 5}} & \\overline{M_{3, 5}} & \\overline{M_{4, 5}} & \\overline{M_{5, 5}} & \\overline{N_{2, 5}} & \\overline{N_{3, 5}} & \\overline{N_{4, 5}} & N_{5, 5}\\\\N_{2, 2} & \\overline{N_{2, 3}} & \\overline{N_{2, 4}} & \\overline{N_{2, 5}} & M_{2, 2} & M_{2, 3} & M_{2, 4} & M_{2, 5}\\\\N_{2, 3} & N_{3, 3} & \\overline{N_{3, 4}} & \\overline{N_{3, 5}} & M_{2, 3} & M_{3, 3} & M_{3, 4} & M_{3, 5}\\\\N_{2, 4} & N_{3, 4} & N_{4, 4} & \\overline{N_{4, 5}} & M_{2, 4} & M_{3, 4} & M_{4, 4} & M_{4, 5}\\\\N_{2, 5} & N_{3, 5} & N_{4, 5} & N_{5, 5} & M_{2, 5} & M_{3, 5} & M_{4, 5} & M_{5, 5}\\end{matrix}\\right]$"
      ],
      "text/plain": [
       "Matrix([\n",
       "[conjugate(M[2, 2]), conjugate(M[2, 3]), conjugate(M[2, 4]), conjugate(M[2, 5]),            N[2, 2],            N[2, 3],            N[2, 4], N[2, 5]],\n",
       "[conjugate(M[2, 3]), conjugate(M[3, 3]), conjugate(M[3, 4]), conjugate(M[3, 5]), conjugate(N[2, 3]),            N[3, 3],            N[3, 4], N[3, 5]],\n",
       "[conjugate(M[2, 4]), conjugate(M[3, 4]), conjugate(M[4, 4]), conjugate(M[4, 5]), conjugate(N[2, 4]), conjugate(N[3, 4]),            N[4, 4], N[4, 5]],\n",
       "[conjugate(M[2, 5]), conjugate(M[3, 5]), conjugate(M[4, 5]), conjugate(M[5, 5]), conjugate(N[2, 5]), conjugate(N[3, 5]), conjugate(N[4, 5]), N[5, 5]],\n",
       "[           N[2, 2], conjugate(N[2, 3]), conjugate(N[2, 4]), conjugate(N[2, 5]),            M[2, 2],            M[2, 3],            M[2, 4], M[2, 5]],\n",
       "[           N[2, 3],            N[3, 3], conjugate(N[3, 4]), conjugate(N[3, 5]),            M[2, 3],            M[3, 3],            M[3, 4], M[3, 5]],\n",
       "[           N[2, 4],            N[3, 4],            N[4, 4], conjugate(N[4, 5]),            M[2, 4],            M[3, 4],            M[4, 4], M[4, 5]],\n",
       "[           N[2, 5],            N[3, 5],            N[4, 5],            N[5, 5],            M[2, 5],            M[3, 5],            M[4, 5], M[5, 5]]])"
      ]
     },
     "metadata": {},
     "output_type": "display_data"
    },
    {
     "name": "stdout",
     "output_type": "stream",
     "text": [
      "[[ True  True  True  True  True  True  True  True]\n",
      " [ True  True  True  True  True  True  True  True]\n",
      " [ True  True  True  True  True  True  True  True]\n",
      " [ True  True  True  True  True  True  True  True]\n",
      " [ True  True  True  True  True  True  True  True]\n",
      " [ True  True  True  True  True  True  True  True]\n",
      " [ True  True  True  True  True  True  True  True]\n",
      " [ True  True  True  True  True  True  True  True]]\n"
     ]
    }
   ],
   "source": [
    "n = 4\n",
    "initial_index = 2\n",
    "A = gbs.block_A(n, initial_index)\n",
    "display(Matrix(A))\n",
    "\n",
    "#is block\n",
    "#is shape\n",
    "#is symetri\n",
    "\n",
    "A_conj = A.T\n",
    "for i in range(n):\n",
    "\tA_conj[i, n+i] = np.conjugate(A_conj[i, n+i])\n",
    "\t#A_conj[n+i, i] = np.conjugate(A_conj[n+i, i])\n",
    "    #A_conj[i, n+i] = A_conj[n+i, i]\n",
    "    #A_conj[n+i, i] = np.conjugate(A_conj[i, n+i])\n",
    "    #pass\n",
    "\n",
    "display(Matrix(A_conj))\n",
    "\n",
    "#A_conj[4,0] = np.conjugate(A_conj[4,0])\n",
    "print(np.equal(A, A_conj))\n",
    "\n",
    "#a1 = A[4,1]\n",
    "#a2 = A[]"
   ]
  },
  {
   "cell_type": "code",
   "execution_count": 32,
   "metadata": {},
   "outputs": [
    {
     "data": {
      "text/latex": [
       "$\\displaystyle \\left[\\begin{matrix}N_{2, 2} & N_{2, 3} & N_{2, 4} & N_{2, 5}\\\\\\overline{N_{2, 3}} & N_{3, 3} & N_{3, 4} & N_{3, 5}\\\\\\overline{N_{2, 4}} & \\overline{N_{3, 4}} & N_{4, 4} & N_{4, 5}\\\\\\overline{N_{2, 5}} & \\overline{N_{3, 5}} & \\overline{N_{4, 5}} & N_{5, 5}\\end{matrix}\\right]$"
      ],
      "text/plain": [
       "Matrix([\n",
       "[           N[2, 2],            N[2, 3],            N[2, 4], N[2, 5]],\n",
       "[conjugate(N[2, 3]),            N[3, 3],            N[3, 4], N[3, 5]],\n",
       "[conjugate(N[2, 4]), conjugate(N[3, 4]),            N[4, 4], N[4, 5]],\n",
       "[conjugate(N[2, 5]), conjugate(N[3, 5]), conjugate(N[4, 5]), N[5, 5]]])"
      ]
     },
     "metadata": {},
     "output_type": "display_data"
    },
    {
     "name": "stdout",
     "output_type": "stream",
     "text": [
      "True\n",
      "True\n"
     ]
    }
   ],
   "source": [
    "n = 4\n",
    "initial_index = 2\n",
    "A = gbs.block_A(n, initial_index)\n",
    "M = A[n:2*n, n:2*n]\n",
    "M_conj = A[:n,:n]\n",
    "N = A[:n,n:2*n]\n",
    "N_conj = A[n:2*n,:n]\n",
    "display(Matrix(N))\n",
    "\n",
    "print(np.array_equal(M.conj(), M_conj))\n",
    "print(np.array_equal(N.conj(), N_conj))"
   ]
  },
  {
   "attachments": {},
   "cell_type": "markdown",
   "metadata": {},
   "source": [
    "### Montrealer"
   ]
  },
  {
   "cell_type": "code",
   "execution_count": 6,
   "metadata": {},
   "outputs": [
    {
     "name": "stdout",
     "output_type": "stream",
     "text": [
      "384\n",
      "8\n"
     ]
    },
    {
     "data": {
      "text/latex": [
       "$\\displaystyle \\overline{M_{0, 1}} \\overline{N_{0, 2}} M_{1, 2} + \\overline{M_{0, 1}} \\overline{N_{1, 2}} M_{0, 2} + \\overline{M_{0, 2}} \\overline{N_{0, 1}} M_{1, 2} + \\overline{M_{0, 2}} M_{0, 1} N_{1, 2} + \\overline{M_{1, 2}} M_{0, 1} N_{0, 2} + \\overline{M_{1, 2}} M_{0, 2} N_{0, 1} + \\overline{N_{0, 1}} \\overline{N_{1, 2}} N_{0, 2} + \\overline{N_{0, 2}} N_{0, 1} N_{1, 2}$"
      ],
      "text/plain": [
       "conjugate(M[0, 1])*conjugate(N[0, 2])*M[1, 2] + conjugate(M[0, 1])*conjugate(N[1, 2])*M[0, 2] + conjugate(M[0, 2])*conjugate(N[0, 1])*M[1, 2] + conjugate(M[0, 2])*M[0, 1]*N[1, 2] + conjugate(M[1, 2])*M[0, 1]*N[0, 2] + conjugate(M[1, 2])*M[0, 2]*N[0, 1] + conjugate(N[0, 1])*conjugate(N[1, 2])*N[0, 2] + conjugate(N[0, 2])*N[0, 1]*N[1, 2]"
      ]
     },
     "metadata": {},
     "output_type": "display_data"
    }
   ],
   "source": [
    "A = gbs.block_A(5)\n",
    "mtl = gbs.montrealer(A)\n",
    "print(len(mtl.args))\n",
    "\n",
    "A = gbs.block_A(3)\n",
    "mtl = gbs.montrealer(A)\n",
    "print(len(mtl.args))\n",
    "display(mtl)"
   ]
  },
  {
   "attachments": {},
   "cell_type": "markdown",
   "metadata": {},
   "source": [
    "### photon_number_moment\n",
    "\n",
    "Equation (20) and (21)"
   ]
  },
  {
   "cell_type": "code",
   "execution_count": 3,
   "metadata": {},
   "outputs": [],
   "source": [
    "def moment_coefficients(vector_J, vector_K):\n",
    "    \"\"\"\n",
    "    Returns the coefficient associated with the values of j and k given.\n",
    "\n",
    "    Args:\n",
    "        vector_J (list) : List of values of j indices for summation. Ex. [1,0,3,4,1]\n",
    "        vector_K (list) : List of values of k indices for summation. Ex. [1,2,5,4,3]\n",
    "            Should always be lower than vector_j\n",
    "\n",
    "    Returns:\n",
    "        (int) : The coefficient associated with the values of j and k given.\n",
    "    \"\"\"\n",
    "    coef = 1  # multiplication of coefficients from all modes\n",
    "\n",
    "    for s, _ in enumerate(vector_J):\n",
    "        js = vector_J[s]\n",
    "        ks = vector_K[s]\n",
    "        cs = 0  # single mode coefficient\n",
    "\n",
    "        for l in range(1, js + 1):\n",
    "            cs += (-1) ** (js - l) * l**ks / factorial(js - l) / factorial(l)\n",
    "\n",
    "        coef *= cs if cs != 0 else 1  # to take into acount the possibility that js is 0\n",
    "\n",
    "    return int(coef)\n",
    "\n",
    "\n",
    "def moment(vector_K, displacement=False):\n",
    "    \"\"\"\n",
    "    Returns the photon-number moment for a specific vector of powers.\n",
    "    This is the most general version of the moment calculation.\n",
    "    It allows for repetition of powers. There is no constraint on N\n",
    "    except that it is hermitian and there is no dipslacement constrait.\n",
    "    Arg:\n",
    "        vector_K (list): Vector of powers of the moment. Ex. [1,2,5,4,3]\n",
    "        displacement (bool): Boolean stating if there is displacement or not. False by default.\n",
    "\n",
    "    Returns:\n",
    "        (sympy.core.mul.Mul) : Symbolic moment of given power.\n",
    "    \"\"\"\n",
    "    dummy = [list(range(1, i + 1)) if i != 0 else [0] for i in vector_K]\n",
    "    indice = product(*dummy)\n",
    "\n",
    "    m = len(vector_K)\n",
    "    matrix_A = gbs.symmetric_A(m)\n",
    "\n",
    "    gamma = symbols(\"alpha1:%d\" % (m + 1)) if displacement else m * [0]\n",
    "    gamma = np.array(gamma)\n",
    "    gamma_conj = np.concatenate((gamma.conj(), gamma))\n",
    "\n",
    "    moment_val = 0\n",
    "\n",
    "    for vector_J in indice:\n",
    "        slicing = []\n",
    "\n",
    "        for s, j in enumerate(\n",
    "            vector_J\n",
    "        ):  # Ex [1,2,0,4,0,1] -> [0,1,1,3,3,3,3,5] used for slicing\n",
    "            slicing.extend(j * [s])\n",
    "\n",
    "        slicing = slicing + [i + m for i in slicing]\n",
    "        local_A = matrix_A[slicing][:, slicing]\n",
    "        local_gamma = gamma_conj[slicing]\n",
    "        np.fill_diagonal(local_A, local_gamma)\n",
    "\n",
    "        coef = moment_coefficients(vector_J, vector_K)\n",
    "        moment_val += coef * hafnian(local_A, loop=displacement)\n",
    "\n",
    "    return moment_val"
   ]
  },
  {
   "cell_type": "code",
   "execution_count": 6,
   "metadata": {},
   "outputs": [
    {
     "name": "stdout",
     "output_type": "stream",
     "text": [
      "[[1], [1, 2, 3], [1, 2]]\n",
      "a\n",
      "(1, 1, 1)\n",
      "(1, 1, 2)\n",
      "(1, 2, 1)\n",
      "(1, 2, 2)\n",
      "(1, 3, 1)\n",
      "(1, 3, 2)\n"
     ]
    }
   ],
   "source": [
    "vector_K = [1,3,2]\n",
    "dummy = [list(range(1, i + 1)) if i != 0 else [0] for i in vector_K]\n",
    "indice = product(*dummy)\n",
    "\n",
    "print(dummy)\n",
    "print('a')\n",
    "for i in indice:\n",
    "    print(i)"
   ]
  },
  {
   "cell_type": "code",
   "execution_count": 55,
   "metadata": {},
   "outputs": [
    {
     "name": "stdout",
     "output_type": "stream",
     "text": [
      "A[1, 2]*A[3, 4]*A[5, 6] + A[1, 2]*A[3, 5]*A[4, 6] + A[1, 2]*A[3, 6]*A[4, 5] + A[1, 3]*A[2, 4]*A[5, 6] + A[1, 3]*A[2, 5]*A[4, 6] + A[1, 3]*A[2, 6]*A[4, 5] + A[1, 4]*A[2, 3]*A[5, 6] + A[1, 4]*A[2, 5]*A[3, 6] + A[1, 4]*A[2, 6]*A[3, 5] + A[1, 5]*A[2, 3]*A[4, 6] + A[1, 5]*A[2, 4]*A[3, 6] + A[1, 5]*A[2, 6]*A[3, 4] + A[1, 6]*A[2, 3]*A[4, 5] + A[1, 6]*A[2, 4]*A[3, 5] + A[1, 6]*A[2, 5]*A[3, 4]\n"
     ]
    }
   ],
   "source": [
    "from gbs_functions import moment as momo\n",
    "vector_t = [1,1,1]\n",
    "print(momo(vector_t))"
   ]
  },
  {
   "cell_type": "code",
   "execution_count": 11,
   "metadata": {},
   "outputs": [
    {
     "name": "stdout",
     "output_type": "stream",
     "text": [
      "(1, 1, 1)\n",
      "[1, 1, 1]\n"
     ]
    },
    {
     "data": {
      "text/latex": [
       "$\\displaystyle \\alpha_{2} \\alpha_{3} \\alpha_{4} \\overline{\\alpha_{2}} \\overline{\\alpha_{3}} \\overline{\\alpha_{4}} + \\alpha_{2} \\alpha_{3} \\alpha_{4} \\overline{\\alpha_{2}} \\overline{M_{3, 4}} + \\alpha_{2} \\alpha_{3} \\alpha_{4} \\overline{\\alpha_{3}} \\overline{M_{2, 4}} + \\alpha_{2} \\alpha_{3} \\alpha_{4} \\overline{\\alpha_{4}} \\overline{M_{2, 3}} + \\alpha_{2} \\alpha_{3} \\overline{\\alpha_{2}} \\overline{\\alpha_{3}} N_{4, 4} + \\alpha_{2} \\alpha_{3} \\overline{\\alpha_{2}} \\overline{\\alpha_{4}} N_{3, 4} + \\alpha_{2} \\alpha_{3} \\overline{\\alpha_{3}} \\overline{\\alpha_{4}} N_{2, 4} + \\alpha_{2} \\alpha_{3} \\overline{M_{2, 3}} N_{4, 4} + \\alpha_{2} \\alpha_{3} \\overline{M_{2, 4}} N_{3, 4} + \\alpha_{2} \\alpha_{3} \\overline{M_{3, 4}} N_{2, 4} + \\alpha_{2} \\alpha_{4} \\overline{\\alpha_{2}} \\overline{\\alpha_{3}} \\overline{N_{3, 4}} + \\alpha_{2} \\alpha_{4} \\overline{\\alpha_{2}} \\overline{\\alpha_{4}} N_{3, 3} + \\alpha_{2} \\alpha_{4} \\overline{\\alpha_{3}} \\overline{\\alpha_{4}} N_{2, 3} + \\alpha_{2} \\alpha_{4} \\overline{M_{2, 3}} \\overline{N_{3, 4}} + \\alpha_{2} \\alpha_{4} \\overline{M_{2, 4}} N_{3, 3} + \\alpha_{2} \\alpha_{4} \\overline{M_{3, 4}} N_{2, 3} + \\alpha_{2} \\overline{\\alpha_{2}} \\overline{\\alpha_{3}} \\overline{\\alpha_{4}} M_{3, 4} + \\alpha_{2} \\overline{\\alpha_{2}} \\overline{M_{3, 4}} M_{3, 4} + \\alpha_{2} \\overline{\\alpha_{2}} \\overline{N_{3, 4}} N_{3, 4} + \\alpha_{2} \\overline{\\alpha_{2}} N_{3, 3} N_{4, 4} + \\alpha_{2} \\overline{\\alpha_{3}} \\overline{M_{2, 4}} M_{3, 4} + \\alpha_{2} \\overline{\\alpha_{3}} \\overline{N_{3, 4}} N_{2, 4} + \\alpha_{2} \\overline{\\alpha_{3}} N_{2, 3} N_{4, 4} + \\alpha_{2} \\overline{\\alpha_{4}} \\overline{M_{2, 3}} M_{3, 4} + \\alpha_{2} \\overline{\\alpha_{4}} N_{2, 3} N_{3, 4} + \\alpha_{2} \\overline{\\alpha_{4}} N_{2, 4} N_{3, 3} + \\alpha_{3} \\alpha_{4} \\overline{\\alpha_{2}} \\overline{\\alpha_{3}} \\overline{N_{2, 4}} + \\alpha_{3} \\alpha_{4} \\overline{\\alpha_{2}} \\overline{\\alpha_{4}} \\overline{N_{2, 3}} + \\alpha_{3} \\alpha_{4} \\overline{\\alpha_{3}} \\overline{\\alpha_{4}} N_{2, 2} + \\alpha_{3} \\alpha_{4} \\overline{M_{2, 3}} \\overline{N_{2, 4}} + \\alpha_{3} \\alpha_{4} \\overline{M_{2, 4}} \\overline{N_{2, 3}} + \\alpha_{3} \\alpha_{4} \\overline{M_{3, 4}} N_{2, 2} + \\alpha_{3} \\overline{\\alpha_{2}} \\overline{\\alpha_{3}} \\overline{\\alpha_{4}} M_{2, 4} + \\alpha_{3} \\overline{\\alpha_{2}} \\overline{M_{3, 4}} M_{2, 4} + \\alpha_{3} \\overline{\\alpha_{2}} \\overline{N_{2, 3}} N_{4, 4} + \\alpha_{3} \\overline{\\alpha_{2}} \\overline{N_{2, 4}} N_{3, 4} + \\alpha_{3} \\overline{\\alpha_{3}} \\overline{M_{2, 4}} M_{2, 4} + \\alpha_{3} \\overline{\\alpha_{3}} \\overline{N_{2, 4}} N_{2, 4} + \\alpha_{3} \\overline{\\alpha_{3}} N_{2, 2} N_{4, 4} + \\alpha_{3} \\overline{\\alpha_{4}} \\overline{M_{2, 3}} M_{2, 4} + \\alpha_{3} \\overline{\\alpha_{4}} \\overline{N_{2, 3}} N_{2, 4} + \\alpha_{3} \\overline{\\alpha_{4}} N_{2, 2} N_{3, 4} + \\alpha_{4} \\overline{\\alpha_{2}} \\overline{\\alpha_{3}} \\overline{\\alpha_{4}} M_{2, 3} + \\alpha_{4} \\overline{\\alpha_{2}} \\overline{M_{3, 4}} M_{2, 3} + \\alpha_{4} \\overline{\\alpha_{2}} \\overline{N_{2, 3}} \\overline{N_{3, 4}} + \\alpha_{4} \\overline{\\alpha_{2}} \\overline{N_{2, 4}} N_{3, 3} + \\alpha_{4} \\overline{\\alpha_{3}} \\overline{M_{2, 4}} M_{2, 3} + \\alpha_{4} \\overline{\\alpha_{3}} \\overline{N_{2, 4}} N_{2, 3} + \\alpha_{4} \\overline{\\alpha_{3}} \\overline{N_{3, 4}} N_{2, 2} + \\alpha_{4} \\overline{\\alpha_{4}} \\overline{M_{2, 3}} M_{2, 3} + \\alpha_{4} \\overline{\\alpha_{4}} \\overline{N_{2, 3}} N_{2, 3} + \\alpha_{4} \\overline{\\alpha_{4}} N_{2, 2} N_{3, 3} + \\overline{\\alpha_{2}} \\overline{\\alpha_{3}} \\overline{N_{2, 4}} M_{3, 4} + \\overline{\\alpha_{2}} \\overline{\\alpha_{3}} \\overline{N_{3, 4}} M_{2, 4} + \\overline{\\alpha_{2}} \\overline{\\alpha_{3}} M_{2, 3} N_{4, 4} + \\overline{\\alpha_{2}} \\overline{\\alpha_{4}} \\overline{N_{2, 3}} M_{3, 4} + \\overline{\\alpha_{2}} \\overline{\\alpha_{4}} M_{2, 3} N_{3, 4} + \\overline{\\alpha_{2}} \\overline{\\alpha_{4}} M_{2, 4} N_{3, 3} + \\overline{\\alpha_{3}} \\overline{\\alpha_{4}} M_{2, 3} N_{2, 4} + \\overline{\\alpha_{3}} \\overline{\\alpha_{4}} M_{2, 4} N_{2, 3} + \\overline{\\alpha_{3}} \\overline{\\alpha_{4}} M_{3, 4} N_{2, 2} + \\overline{M_{2, 3}} \\overline{N_{2, 4}} M_{3, 4} + \\overline{M_{2, 3}} \\overline{N_{3, 4}} M_{2, 4} + \\overline{M_{2, 3}} M_{2, 3} N_{4, 4} + \\overline{M_{2, 4}} \\overline{N_{2, 3}} M_{3, 4} + \\overline{M_{2, 4}} M_{2, 3} N_{3, 4} + \\overline{M_{2, 4}} M_{2, 4} N_{3, 3} + \\overline{M_{3, 4}} M_{2, 3} N_{2, 4} + \\overline{M_{3, 4}} M_{2, 4} N_{2, 3} + \\overline{M_{3, 4}} M_{3, 4} N_{2, 2} + \\overline{N_{2, 3}} \\overline{N_{3, 4}} N_{2, 4} + \\overline{N_{2, 3}} N_{2, 3} N_{4, 4} + \\overline{N_{2, 4}} N_{2, 3} N_{3, 4} + \\overline{N_{2, 4}} N_{2, 4} N_{3, 3} + \\overline{N_{3, 4}} N_{2, 2} N_{3, 4} + N_{2, 2} N_{3, 3} N_{4, 4}$"
      ],
      "text/plain": [
       "alpha2*alpha3*alpha4*conjugate(alpha2)*conjugate(alpha3)*conjugate(alpha4) + alpha2*alpha3*alpha4*conjugate(alpha2)*conjugate(M[3, 4]) + alpha2*alpha3*alpha4*conjugate(alpha3)*conjugate(M[2, 4]) + alpha2*alpha3*alpha4*conjugate(alpha4)*conjugate(M[2, 3]) + alpha2*alpha3*conjugate(alpha2)*conjugate(alpha3)*N[4, 4] + alpha2*alpha3*conjugate(alpha2)*conjugate(alpha4)*N[3, 4] + alpha2*alpha3*conjugate(alpha3)*conjugate(alpha4)*N[2, 4] + alpha2*alpha3*conjugate(M[2, 3])*N[4, 4] + alpha2*alpha3*conjugate(M[2, 4])*N[3, 4] + alpha2*alpha3*conjugate(M[3, 4])*N[2, 4] + alpha2*alpha4*conjugate(alpha2)*conjugate(alpha3)*conjugate(N[3, 4]) + alpha2*alpha4*conjugate(alpha2)*conjugate(alpha4)*N[3, 3] + alpha2*alpha4*conjugate(alpha3)*conjugate(alpha4)*N[2, 3] + alpha2*alpha4*conjugate(M[2, 3])*conjugate(N[3, 4]) + alpha2*alpha4*conjugate(M[2, 4])*N[3, 3] + alpha2*alpha4*conjugate(M[3, 4])*N[2, 3] + alpha2*conjugate(alpha2)*conjugate(alpha3)*conjugate(alpha4)*M[3, 4] + alpha2*conjugate(alpha2)*conjugate(M[3, 4])*M[3, 4] + alpha2*conjugate(alpha2)*conjugate(N[3, 4])*N[3, 4] + alpha2*conjugate(alpha2)*N[3, 3]*N[4, 4] + alpha2*conjugate(alpha3)*conjugate(M[2, 4])*M[3, 4] + alpha2*conjugate(alpha3)*conjugate(N[3, 4])*N[2, 4] + alpha2*conjugate(alpha3)*N[2, 3]*N[4, 4] + alpha2*conjugate(alpha4)*conjugate(M[2, 3])*M[3, 4] + alpha2*conjugate(alpha4)*N[2, 3]*N[3, 4] + alpha2*conjugate(alpha4)*N[2, 4]*N[3, 3] + alpha3*alpha4*conjugate(alpha2)*conjugate(alpha3)*conjugate(N[2, 4]) + alpha3*alpha4*conjugate(alpha2)*conjugate(alpha4)*conjugate(N[2, 3]) + alpha3*alpha4*conjugate(alpha3)*conjugate(alpha4)*N[2, 2] + alpha3*alpha4*conjugate(M[2, 3])*conjugate(N[2, 4]) + alpha3*alpha4*conjugate(M[2, 4])*conjugate(N[2, 3]) + alpha3*alpha4*conjugate(M[3, 4])*N[2, 2] + alpha3*conjugate(alpha2)*conjugate(alpha3)*conjugate(alpha4)*M[2, 4] + alpha3*conjugate(alpha2)*conjugate(M[3, 4])*M[2, 4] + alpha3*conjugate(alpha2)*conjugate(N[2, 3])*N[4, 4] + alpha3*conjugate(alpha2)*conjugate(N[2, 4])*N[3, 4] + alpha3*conjugate(alpha3)*conjugate(M[2, 4])*M[2, 4] + alpha3*conjugate(alpha3)*conjugate(N[2, 4])*N[2, 4] + alpha3*conjugate(alpha3)*N[2, 2]*N[4, 4] + alpha3*conjugate(alpha4)*conjugate(M[2, 3])*M[2, 4] + alpha3*conjugate(alpha4)*conjugate(N[2, 3])*N[2, 4] + alpha3*conjugate(alpha4)*N[2, 2]*N[3, 4] + alpha4*conjugate(alpha2)*conjugate(alpha3)*conjugate(alpha4)*M[2, 3] + alpha4*conjugate(alpha2)*conjugate(M[3, 4])*M[2, 3] + alpha4*conjugate(alpha2)*conjugate(N[2, 3])*conjugate(N[3, 4]) + alpha4*conjugate(alpha2)*conjugate(N[2, 4])*N[3, 3] + alpha4*conjugate(alpha3)*conjugate(M[2, 4])*M[2, 3] + alpha4*conjugate(alpha3)*conjugate(N[2, 4])*N[2, 3] + alpha4*conjugate(alpha3)*conjugate(N[3, 4])*N[2, 2] + alpha4*conjugate(alpha4)*conjugate(M[2, 3])*M[2, 3] + alpha4*conjugate(alpha4)*conjugate(N[2, 3])*N[2, 3] + alpha4*conjugate(alpha4)*N[2, 2]*N[3, 3] + conjugate(alpha2)*conjugate(alpha3)*conjugate(N[2, 4])*M[3, 4] + conjugate(alpha2)*conjugate(alpha3)*conjugate(N[3, 4])*M[2, 4] + conjugate(alpha2)*conjugate(alpha3)*M[2, 3]*N[4, 4] + conjugate(alpha2)*conjugate(alpha4)*conjugate(N[2, 3])*M[3, 4] + conjugate(alpha2)*conjugate(alpha4)*M[2, 3]*N[3, 4] + conjugate(alpha2)*conjugate(alpha4)*M[2, 4]*N[3, 3] + conjugate(alpha3)*conjugate(alpha4)*M[2, 3]*N[2, 4] + conjugate(alpha3)*conjugate(alpha4)*M[2, 4]*N[2, 3] + conjugate(alpha3)*conjugate(alpha4)*M[3, 4]*N[2, 2] + conjugate(M[2, 3])*conjugate(N[2, 4])*M[3, 4] + conjugate(M[2, 3])*conjugate(N[3, 4])*M[2, 4] + conjugate(M[2, 3])*M[2, 3]*N[4, 4] + conjugate(M[2, 4])*conjugate(N[2, 3])*M[3, 4] + conjugate(M[2, 4])*M[2, 3]*N[3, 4] + conjugate(M[2, 4])*M[2, 4]*N[3, 3] + conjugate(M[3, 4])*M[2, 3]*N[2, 4] + conjugate(M[3, 4])*M[2, 4]*N[2, 3] + conjugate(M[3, 4])*M[3, 4]*N[2, 2] + conjugate(N[2, 3])*conjugate(N[3, 4])*N[2, 4] + conjugate(N[2, 3])*N[2, 3]*N[4, 4] + conjugate(N[2, 4])*N[2, 3]*N[3, 4] + conjugate(N[2, 4])*N[2, 4]*N[3, 3] + conjugate(N[3, 4])*N[2, 2]*N[3, 4] + N[2, 2]*N[3, 3]*N[4, 4]"
      ]
     },
     "metadata": {},
     "output_type": "display_data"
    }
   ],
   "source": [
    "n = 4\n",
    "A = gbs.block_A(n, initial_index=1)\n",
    "dico = {3:1, 2:1, 1:0, 4:1}\n",
    "zeta = symbols(\"alpha1:%d\" % (n + 1))\n",
    "zeta = np.array(zeta)\n",
    "zeta = np.concatenate((zeta, zeta.conj()))\n",
    "\n",
    "#starts here\n",
    "order = int(A.shape[0]/2)\n",
    "\n",
    "keys = [i-1 for i,j  in dico.items() if j != 0]\n",
    "keys = keys + [i+order for i in keys]\n",
    "A = A[keys][:,keys]\n",
    "zeta = zeta[keys]\n",
    "\n",
    "power = [i for i in dico.values() if i != 0]\n",
    "m = len(power)\n",
    "dummy = [list(range(1, i + 1)) for i in power]\n",
    "indice = product(*dummy)\n",
    "\n",
    "moment_val = 0\n",
    "\n",
    "for vector_J in indice:\n",
    "    slicing = []\n",
    "\n",
    "    for s, j in enumerate(\n",
    "        vector_J\n",
    "    ):  # Ex [1,2,0,4,0,1] -> [0,1,1,3,3,3,3,5] used for slicing\n",
    "        slicing.extend(j * [s])\n",
    "\n",
    "    slicing = slicing + [i + m for i in slicing]\n",
    "    local_A = A[slicing][:, slicing]\n",
    "    local_zeta = zeta[slicing]\n",
    "    np.fill_diagonal(local_A, local_zeta.conj())\n",
    "    print(vector_J)\n",
    "    print(power)\n",
    "\n",
    "    coef = moment_coefficients(vector_J, power)\n",
    "    moment_val += coef * hafnian(local_A, loop=True)\n",
    "\n",
    "display(simplify(moment_val))"
   ]
  },
  {
   "attachments": {},
   "cell_type": "markdown",
   "metadata": {},
   "source": [
    "### Montrealer"
   ]
  },
  {
   "cell_type": "code",
   "execution_count": 6,
   "metadata": {},
   "outputs": [
    {
     "data": {
      "text/latex": [
       "$\\displaystyle \\overline{M_{0, 1}} \\overline{N_{0, 2}} M_{1, 2} + \\overline{M_{0, 1}} \\overline{N_{1, 2}} M_{0, 2} + \\overline{M_{0, 2}} \\overline{N_{0, 1}} M_{1, 2} + \\overline{M_{0, 2}} M_{0, 1} N_{1, 2} + \\overline{M_{1, 2}} M_{0, 1} N_{0, 2} + \\overline{M_{1, 2}} M_{0, 2} N_{0, 1} + \\overline{N_{0, 1}} \\overline{N_{1, 2}} N_{0, 2} + \\overline{N_{0, 2}} N_{0, 1} N_{1, 2}$"
      ],
      "text/plain": [
       "conjugate(M[0, 1])*conjugate(N[0, 2])*M[1, 2] + conjugate(M[0, 1])*conjugate(N[1, 2])*M[0, 2] + conjugate(M[0, 2])*conjugate(N[0, 1])*M[1, 2] + conjugate(M[0, 2])*M[0, 1]*N[1, 2] + conjugate(M[1, 2])*M[0, 1]*N[0, 2] + conjugate(M[1, 2])*M[0, 2]*N[0, 1] + conjugate(N[0, 1])*conjugate(N[1, 2])*N[0, 2] + conjugate(N[0, 2])*N[0, 1]*N[1, 2]"
      ]
     },
     "metadata": {},
     "output_type": "display_data"
    },
    {
     "data": {
      "text/latex": [
       "$\\displaystyle \\overline{M_{0, 1}} \\overline{M_{2, 3}} M_{0, 2} M_{1, 3} + \\overline{M_{0, 1}} \\overline{M_{2, 3}} M_{0, 3} M_{1, 2} + \\overline{M_{0, 1}} \\overline{N_{0, 2}} \\overline{N_{1, 3}} M_{2, 3} + \\overline{M_{0, 1}} \\overline{N_{0, 2}} \\overline{N_{2, 3}} M_{1, 3} + \\overline{M_{0, 1}} \\overline{N_{0, 3}} \\overline{N_{1, 2}} M_{2, 3} + \\overline{M_{0, 1}} \\overline{N_{0, 3}} M_{1, 2} N_{2, 3} + \\overline{M_{0, 1}} \\overline{N_{1, 2}} \\overline{N_{2, 3}} M_{0, 3} + \\overline{M_{0, 1}} \\overline{N_{1, 3}} M_{0, 2} N_{2, 3} + \\overline{M_{0, 2}} \\overline{M_{1, 3}} M_{0, 1} M_{2, 3} + \\overline{M_{0, 2}} \\overline{M_{1, 3}} M_{0, 3} M_{1, 2} + \\overline{M_{0, 2}} \\overline{N_{0, 1}} \\overline{N_{1, 3}} M_{2, 3} + \\overline{M_{0, 2}} \\overline{N_{0, 1}} \\overline{N_{2, 3}} M_{1, 3} + \\overline{M_{0, 2}} \\overline{N_{0, 3}} M_{1, 2} N_{1, 3} + \\overline{M_{0, 2}} \\overline{N_{0, 3}} M_{1, 3} N_{1, 2} + \\overline{M_{0, 2}} \\overline{N_{1, 3}} M_{0, 3} N_{1, 2} + \\overline{M_{0, 2}} \\overline{N_{2, 3}} M_{0, 1} N_{1, 3} + \\overline{M_{0, 3}} \\overline{M_{1, 2}} M_{0, 1} M_{2, 3} + \\overline{M_{0, 3}} \\overline{M_{1, 2}} M_{0, 2} M_{1, 3} + \\overline{M_{0, 3}} \\overline{N_{0, 1}} \\overline{N_{1, 2}} M_{2, 3} + \\overline{M_{0, 3}} \\overline{N_{0, 1}} M_{1, 2} N_{2, 3} + \\overline{M_{0, 3}} \\overline{N_{0, 2}} M_{1, 2} N_{1, 3} + \\overline{M_{0, 3}} \\overline{N_{0, 2}} M_{1, 3} N_{1, 2} + \\overline{M_{0, 3}} \\overline{N_{1, 2}} M_{0, 2} N_{1, 3} + \\overline{M_{0, 3}} M_{0, 1} N_{1, 2} N_{2, 3} + \\overline{M_{1, 2}} \\overline{N_{0, 3}} M_{1, 3} N_{0, 2} + \\overline{M_{1, 2}} \\overline{N_{0, 3}} M_{2, 3} N_{0, 1} + \\overline{M_{1, 2}} \\overline{N_{1, 3}} M_{0, 2} N_{0, 3} + \\overline{M_{1, 2}} \\overline{N_{1, 3}} M_{0, 3} N_{0, 2} + \\overline{M_{1, 2}} \\overline{N_{2, 3}} M_{0, 1} N_{0, 3} + \\overline{M_{1, 2}} \\overline{N_{2, 3}} M_{0, 3} N_{0, 1} + \\overline{M_{1, 3}} \\overline{N_{0, 2}} M_{1, 2} N_{0, 3} + \\overline{M_{1, 3}} \\overline{N_{0, 2}} M_{2, 3} N_{0, 1} + \\overline{M_{1, 3}} \\overline{N_{1, 2}} M_{0, 2} N_{0, 3} + \\overline{M_{1, 3}} \\overline{N_{1, 2}} M_{0, 3} N_{0, 2} + \\overline{M_{1, 3}} M_{0, 1} N_{0, 2} N_{2, 3} + \\overline{M_{1, 3}} M_{0, 2} N_{0, 1} N_{2, 3} + \\overline{M_{2, 3}} \\overline{N_{0, 1}} M_{1, 2} N_{0, 3} + \\overline{M_{2, 3}} \\overline{N_{0, 1}} M_{1, 3} N_{0, 2} + \\overline{M_{2, 3}} M_{0, 1} N_{0, 2} N_{1, 3} + \\overline{M_{2, 3}} M_{0, 1} N_{0, 3} N_{1, 2} + \\overline{M_{2, 3}} M_{0, 2} N_{0, 1} N_{1, 3} + \\overline{M_{2, 3}} M_{0, 3} N_{0, 1} N_{1, 2} + \\overline{N_{0, 1}} \\overline{N_{1, 2}} \\overline{N_{2, 3}} N_{0, 3} + \\overline{N_{0, 1}} \\overline{N_{1, 3}} N_{0, 2} N_{2, 3} + \\overline{N_{0, 2}} \\overline{N_{1, 3}} N_{0, 3} N_{1, 2} + \\overline{N_{0, 2}} \\overline{N_{2, 3}} N_{0, 1} N_{1, 3} + \\overline{N_{0, 3}} \\overline{N_{1, 2}} N_{0, 2} N_{1, 3} + \\overline{N_{0, 3}} N_{0, 1} N_{1, 2} N_{2, 3}$"
      ],
      "text/plain": [
       "conjugate(M[0, 1])*conjugate(M[2, 3])*M[0, 2]*M[1, 3] + conjugate(M[0, 1])*conjugate(M[2, 3])*M[0, 3]*M[1, 2] + conjugate(M[0, 1])*conjugate(N[0, 2])*conjugate(N[1, 3])*M[2, 3] + conjugate(M[0, 1])*conjugate(N[0, 2])*conjugate(N[2, 3])*M[1, 3] + conjugate(M[0, 1])*conjugate(N[0, 3])*conjugate(N[1, 2])*M[2, 3] + conjugate(M[0, 1])*conjugate(N[0, 3])*M[1, 2]*N[2, 3] + conjugate(M[0, 1])*conjugate(N[1, 2])*conjugate(N[2, 3])*M[0, 3] + conjugate(M[0, 1])*conjugate(N[1, 3])*M[0, 2]*N[2, 3] + conjugate(M[0, 2])*conjugate(M[1, 3])*M[0, 1]*M[2, 3] + conjugate(M[0, 2])*conjugate(M[1, 3])*M[0, 3]*M[1, 2] + conjugate(M[0, 2])*conjugate(N[0, 1])*conjugate(N[1, 3])*M[2, 3] + conjugate(M[0, 2])*conjugate(N[0, 1])*conjugate(N[2, 3])*M[1, 3] + conjugate(M[0, 2])*conjugate(N[0, 3])*M[1, 2]*N[1, 3] + conjugate(M[0, 2])*conjugate(N[0, 3])*M[1, 3]*N[1, 2] + conjugate(M[0, 2])*conjugate(N[1, 3])*M[0, 3]*N[1, 2] + conjugate(M[0, 2])*conjugate(N[2, 3])*M[0, 1]*N[1, 3] + conjugate(M[0, 3])*conjugate(M[1, 2])*M[0, 1]*M[2, 3] + conjugate(M[0, 3])*conjugate(M[1, 2])*M[0, 2]*M[1, 3] + conjugate(M[0, 3])*conjugate(N[0, 1])*conjugate(N[1, 2])*M[2, 3] + conjugate(M[0, 3])*conjugate(N[0, 1])*M[1, 2]*N[2, 3] + conjugate(M[0, 3])*conjugate(N[0, 2])*M[1, 2]*N[1, 3] + conjugate(M[0, 3])*conjugate(N[0, 2])*M[1, 3]*N[1, 2] + conjugate(M[0, 3])*conjugate(N[1, 2])*M[0, 2]*N[1, 3] + conjugate(M[0, 3])*M[0, 1]*N[1, 2]*N[2, 3] + conjugate(M[1, 2])*conjugate(N[0, 3])*M[1, 3]*N[0, 2] + conjugate(M[1, 2])*conjugate(N[0, 3])*M[2, 3]*N[0, 1] + conjugate(M[1, 2])*conjugate(N[1, 3])*M[0, 2]*N[0, 3] + conjugate(M[1, 2])*conjugate(N[1, 3])*M[0, 3]*N[0, 2] + conjugate(M[1, 2])*conjugate(N[2, 3])*M[0, 1]*N[0, 3] + conjugate(M[1, 2])*conjugate(N[2, 3])*M[0, 3]*N[0, 1] + conjugate(M[1, 3])*conjugate(N[0, 2])*M[1, 2]*N[0, 3] + conjugate(M[1, 3])*conjugate(N[0, 2])*M[2, 3]*N[0, 1] + conjugate(M[1, 3])*conjugate(N[1, 2])*M[0, 2]*N[0, 3] + conjugate(M[1, 3])*conjugate(N[1, 2])*M[0, 3]*N[0, 2] + conjugate(M[1, 3])*M[0, 1]*N[0, 2]*N[2, 3] + conjugate(M[1, 3])*M[0, 2]*N[0, 1]*N[2, 3] + conjugate(M[2, 3])*conjugate(N[0, 1])*M[1, 2]*N[0, 3] + conjugate(M[2, 3])*conjugate(N[0, 1])*M[1, 3]*N[0, 2] + conjugate(M[2, 3])*M[0, 1]*N[0, 2]*N[1, 3] + conjugate(M[2, 3])*M[0, 1]*N[0, 3]*N[1, 2] + conjugate(M[2, 3])*M[0, 2]*N[0, 1]*N[1, 3] + conjugate(M[2, 3])*M[0, 3]*N[0, 1]*N[1, 2] + conjugate(N[0, 1])*conjugate(N[1, 2])*conjugate(N[2, 3])*N[0, 3] + conjugate(N[0, 1])*conjugate(N[1, 3])*N[0, 2]*N[2, 3] + conjugate(N[0, 2])*conjugate(N[1, 3])*N[0, 3]*N[1, 2] + conjugate(N[0, 2])*conjugate(N[2, 3])*N[0, 1]*N[1, 3] + conjugate(N[0, 3])*conjugate(N[1, 2])*N[0, 2]*N[1, 3] + conjugate(N[0, 3])*N[0, 1]*N[1, 2]*N[2, 3]"
      ]
     },
     "metadata": {},
     "output_type": "display_data"
    }
   ],
   "source": [
    "A = gbs.block_A(3)\n",
    "test = gbs.montrealer(A)\n",
    "display(test)\n",
    "\n",
    "A = gbs.block_A(4)\n",
    "test = gbs.montrealer(A)\n",
    "display(test)"
   ]
  },
  {
   "attachments": {},
   "cell_type": "markdown",
   "metadata": {},
   "source": [
    "### Laurentienne"
   ]
  },
  {
   "cell_type": "code",
   "execution_count": 7,
   "metadata": {},
   "outputs": [
    {
     "data": {
      "text/latex": [
       "$\\displaystyle \\overline{M_{0, 1}} M_{0, 1}$"
      ],
      "text/plain": [
       "conjugate(M[0, 1])*M[0, 1]"
      ]
     },
     "metadata": {},
     "output_type": "display_data"
    },
    {
     "data": {
      "text/latex": [
       "$\\displaystyle \\overline{M_{0, 1}} M_{0, 1}$"
      ],
      "text/plain": [
       "conjugate(M[0, 1])*M[0, 1]"
      ]
     },
     "metadata": {},
     "output_type": "display_data"
    },
    {
     "data": {
      "text/plain": [
       "True"
      ]
     },
     "execution_count": 7,
     "metadata": {},
     "output_type": "execute_result"
    }
   ],
   "source": [
    "M = gbs.symmetric_M(1)\n",
    "N = gbs.diagonal_N(1)\n",
    "A = np.block([[M.conj(), N], [N.conj(), M]])\n",
    "\n",
    "lau = gbs.laurentienne(M)\n",
    "mon = gbs.montrealer(A)\n",
    "\n",
    "display(lau)\n",
    "display(mon)\n",
    "lau == mon"
   ]
  },
  {
   "attachments": {},
   "cell_type": "markdown",
   "metadata": {},
   "source": [
    "### Lavalois\n",
    "\n",
    "Equation (25) with (26)"
   ]
  },
  {
   "cell_type": "code",
   "execution_count": 21,
   "metadata": {},
   "outputs": [
    {
     "data": {
      "text/latex": [
       "$\\displaystyle n_{0} n_{1} n_{2} n_{3} n_{4}$"
      ],
      "text/plain": [
       "n0*n1*n2*n3*n4"
      ]
     },
     "execution_count": 21,
     "metadata": {},
     "output_type": "execute_result"
    }
   ],
   "source": [
    "def permanent(A):\n",
    "    n = len(A)\n",
    "    r = range(n)\n",
    "    s = permutations(r)\n",
    "    prod = lambda lst : reduce(mul, lst, 1)\n",
    "    return sum(prod(A[i][sigma[i]] for i in r) for sigma in s)\n",
    "\n",
    "N = gbs.diagonal_N(5)\n",
    "permanent(N)"
   ]
  },
  {
   "cell_type": "code",
   "execution_count": 28,
   "metadata": {},
   "outputs": [],
   "source": [
    "from symbolic_cumulants import partition\n",
    "\n",
    "def lavalois(N):\n",
    "    \"\"\"Calculates the lavalois of a square hermitian matrix.\n",
    "\n",
    "    Args:\n",
    "            M (array): square hermitrian matrix representing the phase-insensitive quadrature moments of the Gaussian state.\n",
    "\n",
    "    Returns:\n",
    "            (complex): the value of the lavalois\n",
    "    \"\"\"\n",
    "    order = N.shape[0]\n",
    "    laval = 0\n",
    "    for party in partition(list(range(order))):\n",
    "        size = len(party)-1\n",
    "        coef = factorial(size)*(-1)**size #prefactor\n",
    "\n",
    "        for part in party:\n",
    "            coef *= permanent(N[part][:,part])\n",
    "        \n",
    "        laval += coef\n",
    "    \n",
    "    return expand(laval)\n"
   ]
  },
  {
   "cell_type": "code",
   "execution_count": 40,
   "metadata": {},
   "outputs": [
    {
     "data": {
      "text/latex": [
       "$\\displaystyle \\overline{N_{0, 0}}$"
      ],
      "text/plain": [
       "conjugate(N[0, 0])"
      ]
     },
     "metadata": {},
     "output_type": "display_data"
    },
    {
     "data": {
      "text/latex": [
       "$\\displaystyle \\overline{N_{0, 0}}$"
      ],
      "text/plain": [
       "conjugate(N[0, 0])"
      ]
     },
     "metadata": {},
     "output_type": "display_data"
    }
   ],
   "source": [
    "n=1\n",
    "N = gbs.hermitian_N(n)\n",
    "M = np.zeros((n,n))\n",
    "A = np.block([[M.conj(), N], [N.conj(), M]])\n",
    "\n",
    "laval = np.conjugate(lavalois(N))\n",
    "display(laval)\n",
    "display(gbs.montrealer(A))"
   ]
  }
 ],
 "metadata": {
  "kernelspec": {
   "display_name": "GBS",
   "language": "python",
   "name": "python3"
  },
  "language_info": {
   "codemirror_mode": {
    "name": "ipython",
    "version": 3
   },
   "file_extension": ".py",
   "mimetype": "text/x-python",
   "name": "python",
   "nbconvert_exporter": "python",
   "pygments_lexer": "ipython3",
   "version": "3.8.13"
  },
  "orig_nbformat": 4,
  "vscode": {
   "interpreter": {
    "hash": "b9da7cac117a6ecebdac47a9ebe9814a7ac3b718953c12b180cf4daab6903cd1"
   }
  }
 },
 "nbformat": 4,
 "nbformat_minor": 2
}
