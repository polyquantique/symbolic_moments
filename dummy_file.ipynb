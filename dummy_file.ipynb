{
 "cells": [
  {
   "cell_type": "code",
   "execution_count": 1,
   "metadata": {},
   "outputs": [],
   "source": [
    "import symbolic_cumulants as gbs\n",
    "from sympy import Matrix, MatrixSymbol, symbols\n",
    "from itertools import product\n",
    "import numpy as np"
   ]
  },
  {
   "attachments": {},
   "cell_type": "markdown",
   "metadata": {},
   "source": [
    "### symmetric_M"
   ]
  },
  {
   "cell_type": "code",
   "execution_count": 14,
   "metadata": {},
   "outputs": [
    {
     "data": {
      "text/latex": [
       "$\\displaystyle \\left[\\begin{matrix}M_{2, 2} & M_{2, 3} & M_{2, 4} & M_{2, 5}\\\\M_{2, 3} & M_{3, 3} & M_{3, 4} & M_{3, 5}\\\\M_{2, 4} & M_{3, 4} & M_{4, 4} & M_{4, 5}\\\\M_{2, 5} & M_{3, 5} & M_{4, 5} & M_{5, 5}\\end{matrix}\\right]$"
      ],
      "text/plain": [
       "Matrix([\n",
       "[M[2, 2], M[2, 3], M[2, 4], M[2, 5]],\n",
       "[M[2, 3], M[3, 3], M[3, 4], M[3, 5]],\n",
       "[M[2, 4], M[3, 4], M[4, 4], M[4, 5]],\n",
       "[M[2, 5], M[3, 5], M[4, 5], M[5, 5]]])"
      ]
     },
     "metadata": {},
     "output_type": "display_data"
    },
    {
     "name": "stdout",
     "output_type": "stream",
     "text": [
      "(4, 4)\n",
      "True\n"
     ]
    }
   ],
   "source": [
    "M = gbs.symmetric_M(4, initial_index=2)\n",
    "display(Matrix(M))\n",
    "\n",
    "print(M.shape)\n",
    "print(np.array_equal(M, M.T))"
   ]
  },
  {
   "attachments": {},
   "cell_type": "markdown",
   "metadata": {},
   "source": [
    "### hermitian_N"
   ]
  },
  {
   "cell_type": "code",
   "execution_count": 5,
   "metadata": {},
   "outputs": [
    {
     "data": {
      "text/latex": [
       "$\\displaystyle \\left[\\begin{matrix}N_{2, 2} & N_{2, 3} & N_{2, 4} & N_{2, 5}\\\\\\overline{N_{2, 3}} & N_{3, 3} & N_{3, 4} & N_{3, 5}\\\\\\overline{N_{2, 4}} & \\overline{N_{3, 4}} & N_{4, 4} & N_{4, 5}\\\\\\overline{N_{2, 5}} & \\overline{N_{3, 5}} & \\overline{N_{4, 5}} & N_{5, 5}\\end{matrix}\\right]$"
      ],
      "text/plain": [
       "Matrix([\n",
       "[           N[2, 2],            N[2, 3],            N[2, 4], N[2, 5]],\n",
       "[conjugate(N[2, 3]),            N[3, 3],            N[3, 4], N[3, 5]],\n",
       "[conjugate(N[2, 4]), conjugate(N[3, 4]),            N[4, 4], N[4, 5]],\n",
       "[conjugate(N[2, 5]), conjugate(N[3, 5]), conjugate(N[4, 5]), N[5, 5]]])"
      ]
     },
     "metadata": {},
     "output_type": "display_data"
    },
    {
     "data": {
      "text/latex": [
       "$\\displaystyle \\left[\\begin{matrix}\\overline{N_{2, 2}} & N_{2, 3} & N_{2, 4} & N_{2, 5}\\\\\\overline{N_{2, 3}} & N_{3, 3} & N_{3, 4} & N_{3, 5}\\\\\\overline{N_{2, 4}} & \\overline{N_{3, 4}} & \\overline{N_{4, 4}} & N_{4, 5}\\\\\\overline{N_{2, 5}} & \\overline{N_{3, 5}} & \\overline{N_{4, 5}} & \\overline{N_{5, 5}}\\end{matrix}\\right]$"
      ],
      "text/plain": [
       "Matrix([\n",
       "[conjugate(N[2, 2]),            N[2, 3],            N[2, 4],            N[2, 5]],\n",
       "[conjugate(N[2, 3]),            N[3, 3],            N[3, 4],            N[3, 5]],\n",
       "[conjugate(N[2, 4]), conjugate(N[3, 4]), conjugate(N[4, 4]),            N[4, 5]],\n",
       "[conjugate(N[2, 5]), conjugate(N[3, 5]), conjugate(N[4, 5]), conjugate(N[5, 5])]])"
      ]
     },
     "metadata": {},
     "output_type": "display_data"
    }
   ],
   "source": [
    "N = gbs.hermitian_N(4, initial_index=2)\n",
    "display(Matrix(N))\n",
    "Nconj = N.T.conj()\n",
    "Nconj[1,1] = np.conjugate(Nconj[1,1])\n",
    "display(Matrix(Nconj))"
   ]
  },
  {
   "attachments": {},
   "cell_type": "markdown",
   "metadata": {},
   "source": [
    "### diagonal_N"
   ]
  },
  {
   "cell_type": "code",
   "execution_count": 21,
   "metadata": {},
   "outputs": [
    {
     "data": {
      "text/latex": [
       "$\\displaystyle \\left[\\begin{matrix}n_{3} & 0 & 0\\\\0 & n_{4} & 0\\\\0 & 0 & n_{5}\\end{matrix}\\right]$"
      ],
      "text/plain": [
       "Matrix([\n",
       "[n3,  0,  0],\n",
       "[ 0, n4,  0],\n",
       "[ 0,  0, n5]])"
      ]
     },
     "metadata": {},
     "output_type": "display_data"
    },
    {
     "data": {
      "text/latex": [
       "$\\displaystyle \\left[\\begin{matrix}0 & 0 & 0\\\\0 & 0 & 0\\\\0 & 0 & 0\\end{matrix}\\right]$"
      ],
      "text/plain": [
       "Matrix([\n",
       "[0, 0, 0],\n",
       "[0, 0, 0],\n",
       "[0, 0, 0]])"
      ]
     },
     "metadata": {},
     "output_type": "display_data"
    }
   ],
   "source": [
    "n = 3\n",
    "initial_index = 3\n",
    "N = np.diag(symbols(\"n\"+str(initial_index)+\":%d\" % (n + initial_index)))\n",
    "display(Matrix(N))\n",
    "\n",
    "np.fill_diagonal(N, 0)\n",
    "display(Matrix(N))"
   ]
  },
  {
   "attachments": {},
   "cell_type": "markdown",
   "metadata": {},
   "source": [
    "### symmetric_A"
   ]
  },
  {
   "cell_type": "code",
   "execution_count": 4,
   "metadata": {},
   "outputs": [
    {
     "data": {
      "text/latex": [
       "$\\displaystyle \\left[\\begin{matrix}A_{3, 3} & A_{3, 4} & A_{3, 5} & A_{3, 6} & A_{3, 7} & A_{3, 8} & A_{3, 9} & A_{3, 10}\\\\A_{3, 4} & A_{4, 4} & A_{4, 5} & A_{4, 6} & A_{4, 7} & A_{4, 8} & A_{4, 9} & A_{4, 10}\\\\A_{3, 5} & A_{4, 5} & A_{5, 5} & A_{5, 6} & A_{5, 7} & A_{5, 8} & A_{5, 9} & A_{5, 10}\\\\A_{3, 6} & A_{4, 6} & A_{5, 6} & A_{6, 6} & A_{6, 7} & A_{6, 8} & A_{6, 9} & A_{6, 10}\\\\A_{3, 7} & A_{4, 7} & A_{5, 7} & A_{6, 7} & A_{7, 7} & A_{7, 8} & A_{7, 9} & A_{7, 10}\\\\A_{3, 8} & A_{4, 8} & A_{5, 8} & A_{6, 8} & A_{7, 8} & A_{8, 8} & A_{8, 9} & A_{8, 10}\\\\A_{3, 9} & A_{4, 9} & A_{5, 9} & A_{6, 9} & A_{7, 9} & A_{8, 9} & A_{9, 9} & A_{9, 10}\\\\A_{3, 10} & A_{4, 10} & A_{5, 10} & A_{6, 10} & A_{7, 10} & A_{8, 10} & A_{9, 10} & A_{10, 10}\\end{matrix}\\right]$"
      ],
      "text/plain": [
       "Matrix([\n",
       "[ A[3, 3],  A[3, 4],  A[3, 5],  A[3, 6],  A[3, 7],  A[3, 8],  A[3, 9],  A[3, 10]],\n",
       "[ A[3, 4],  A[4, 4],  A[4, 5],  A[4, 6],  A[4, 7],  A[4, 8],  A[4, 9],  A[4, 10]],\n",
       "[ A[3, 5],  A[4, 5],  A[5, 5],  A[5, 6],  A[5, 7],  A[5, 8],  A[5, 9],  A[5, 10]],\n",
       "[ A[3, 6],  A[4, 6],  A[5, 6],  A[6, 6],  A[6, 7],  A[6, 8],  A[6, 9],  A[6, 10]],\n",
       "[ A[3, 7],  A[4, 7],  A[5, 7],  A[6, 7],  A[7, 7],  A[7, 8],  A[7, 9],  A[7, 10]],\n",
       "[ A[3, 8],  A[4, 8],  A[5, 8],  A[6, 8],  A[7, 8],  A[8, 8],  A[8, 9],  A[8, 10]],\n",
       "[ A[3, 9],  A[4, 9],  A[5, 9],  A[6, 9],  A[7, 9],  A[8, 9],  A[9, 9],  A[9, 10]],\n",
       "[A[3, 10], A[4, 10], A[5, 10], A[6, 10], A[7, 10], A[8, 10], A[9, 10], A[10, 10]]])"
      ]
     },
     "metadata": {},
     "output_type": "display_data"
    },
    {
     "name": "stdout",
     "output_type": "stream",
     "text": [
      "True\n"
     ]
    }
   ],
   "source": [
    "n = 4\n",
    "initial_index = 3\n",
    "A = gbs.symmetric_A(n, initial_index)\n",
    "display(Matrix(A))\n",
    "\n",
    "print(np.array_equal(A, A.T))"
   ]
  },
  {
   "attachments": {},
   "cell_type": "markdown",
   "metadata": {},
   "source": [
    "### block_A"
   ]
  },
  {
   "cell_type": "code",
   "execution_count": 19,
   "metadata": {},
   "outputs": [
    {
     "data": {
      "text/latex": [
       "$\\displaystyle \\left[\\begin{matrix}\\overline{M_{2, 2}} & \\overline{M_{2, 3}} & \\overline{M_{2, 4}} & \\overline{M_{2, 5}} & N_{2, 2} & N_{2, 3} & N_{2, 4} & N_{2, 5}\\\\\\overline{M_{2, 3}} & \\overline{M_{3, 3}} & \\overline{M_{3, 4}} & \\overline{M_{3, 5}} & \\overline{N_{2, 3}} & N_{3, 3} & N_{3, 4} & N_{3, 5}\\\\\\overline{M_{2, 4}} & \\overline{M_{3, 4}} & \\overline{M_{4, 4}} & \\overline{M_{4, 5}} & \\overline{N_{2, 4}} & \\overline{N_{3, 4}} & N_{4, 4} & N_{4, 5}\\\\\\overline{M_{2, 5}} & \\overline{M_{3, 5}} & \\overline{M_{4, 5}} & \\overline{M_{5, 5}} & \\overline{N_{2, 5}} & \\overline{N_{3, 5}} & \\overline{N_{4, 5}} & N_{5, 5}\\\\\\overline{N_{2, 2}} & \\overline{N_{2, 3}} & \\overline{N_{2, 4}} & \\overline{N_{2, 5}} & M_{2, 2} & M_{2, 3} & M_{2, 4} & M_{2, 5}\\\\N_{2, 3} & \\overline{N_{3, 3}} & \\overline{N_{3, 4}} & \\overline{N_{3, 5}} & M_{2, 3} & M_{3, 3} & M_{3, 4} & M_{3, 5}\\\\N_{2, 4} & N_{3, 4} & \\overline{N_{4, 4}} & \\overline{N_{4, 5}} & M_{2, 4} & M_{3, 4} & M_{4, 4} & M_{4, 5}\\\\N_{2, 5} & N_{3, 5} & N_{4, 5} & \\overline{N_{5, 5}} & M_{2, 5} & M_{3, 5} & M_{4, 5} & M_{5, 5}\\end{matrix}\\right]$"
      ],
      "text/plain": [
       "Matrix([\n",
       "[conjugate(M[2, 2]), conjugate(M[2, 3]), conjugate(M[2, 4]), conjugate(M[2, 5]),            N[2, 2],            N[2, 3],            N[2, 4], N[2, 5]],\n",
       "[conjugate(M[2, 3]), conjugate(M[3, 3]), conjugate(M[3, 4]), conjugate(M[3, 5]), conjugate(N[2, 3]),            N[3, 3],            N[3, 4], N[3, 5]],\n",
       "[conjugate(M[2, 4]), conjugate(M[3, 4]), conjugate(M[4, 4]), conjugate(M[4, 5]), conjugate(N[2, 4]), conjugate(N[3, 4]),            N[4, 4], N[4, 5]],\n",
       "[conjugate(M[2, 5]), conjugate(M[3, 5]), conjugate(M[4, 5]), conjugate(M[5, 5]), conjugate(N[2, 5]), conjugate(N[3, 5]), conjugate(N[4, 5]), N[5, 5]],\n",
       "[conjugate(N[2, 2]), conjugate(N[2, 3]), conjugate(N[2, 4]), conjugate(N[2, 5]),            M[2, 2],            M[2, 3],            M[2, 4], M[2, 5]],\n",
       "[           N[2, 3], conjugate(N[3, 3]), conjugate(N[3, 4]), conjugate(N[3, 5]),            M[2, 3],            M[3, 3],            M[3, 4], M[3, 5]],\n",
       "[           N[2, 4],            N[3, 4], conjugate(N[4, 4]), conjugate(N[4, 5]),            M[2, 4],            M[3, 4],            M[4, 4], M[4, 5]],\n",
       "[           N[2, 5],            N[3, 5],            N[4, 5], conjugate(N[5, 5]),            M[2, 5],            M[3, 5],            M[4, 5], M[5, 5]]])"
      ]
     },
     "metadata": {},
     "output_type": "display_data"
    },
    {
     "data": {
      "text/latex": [
       "$\\displaystyle \\left[\\begin{matrix}\\overline{M_{2, 2}} & \\overline{M_{2, 3}} & \\overline{M_{2, 4}} & \\overline{M_{2, 5}} & N_{2, 2} & N_{2, 3} & N_{2, 4} & N_{2, 5}\\\\\\overline{M_{2, 3}} & \\overline{M_{3, 3}} & \\overline{M_{3, 4}} & \\overline{M_{3, 5}} & \\overline{N_{2, 3}} & N_{3, 3} & N_{3, 4} & N_{3, 5}\\\\\\overline{M_{2, 4}} & \\overline{M_{3, 4}} & \\overline{M_{4, 4}} & \\overline{M_{4, 5}} & \\overline{N_{2, 4}} & \\overline{N_{3, 4}} & N_{4, 4} & N_{4, 5}\\\\\\overline{M_{2, 5}} & \\overline{M_{3, 5}} & \\overline{M_{4, 5}} & \\overline{M_{5, 5}} & \\overline{N_{2, 5}} & \\overline{N_{3, 5}} & \\overline{N_{4, 5}} & N_{5, 5}\\\\N_{2, 2} & \\overline{N_{2, 3}} & \\overline{N_{2, 4}} & \\overline{N_{2, 5}} & M_{2, 2} & M_{2, 3} & M_{2, 4} & M_{2, 5}\\\\N_{2, 3} & N_{3, 3} & \\overline{N_{3, 4}} & \\overline{N_{3, 5}} & M_{2, 3} & M_{3, 3} & M_{3, 4} & M_{3, 5}\\\\N_{2, 4} & N_{3, 4} & N_{4, 4} & \\overline{N_{4, 5}} & M_{2, 4} & M_{3, 4} & M_{4, 4} & M_{4, 5}\\\\N_{2, 5} & N_{3, 5} & N_{4, 5} & N_{5, 5} & M_{2, 5} & M_{3, 5} & M_{4, 5} & M_{5, 5}\\end{matrix}\\right]$"
      ],
      "text/plain": [
       "Matrix([\n",
       "[conjugate(M[2, 2]), conjugate(M[2, 3]), conjugate(M[2, 4]), conjugate(M[2, 5]),            N[2, 2],            N[2, 3],            N[2, 4], N[2, 5]],\n",
       "[conjugate(M[2, 3]), conjugate(M[3, 3]), conjugate(M[3, 4]), conjugate(M[3, 5]), conjugate(N[2, 3]),            N[3, 3],            N[3, 4], N[3, 5]],\n",
       "[conjugate(M[2, 4]), conjugate(M[3, 4]), conjugate(M[4, 4]), conjugate(M[4, 5]), conjugate(N[2, 4]), conjugate(N[3, 4]),            N[4, 4], N[4, 5]],\n",
       "[conjugate(M[2, 5]), conjugate(M[3, 5]), conjugate(M[4, 5]), conjugate(M[5, 5]), conjugate(N[2, 5]), conjugate(N[3, 5]), conjugate(N[4, 5]), N[5, 5]],\n",
       "[           N[2, 2], conjugate(N[2, 3]), conjugate(N[2, 4]), conjugate(N[2, 5]),            M[2, 2],            M[2, 3],            M[2, 4], M[2, 5]],\n",
       "[           N[2, 3],            N[3, 3], conjugate(N[3, 4]), conjugate(N[3, 5]),            M[2, 3],            M[3, 3],            M[3, 4], M[3, 5]],\n",
       "[           N[2, 4],            N[3, 4],            N[4, 4], conjugate(N[4, 5]),            M[2, 4],            M[3, 4],            M[4, 4], M[4, 5]],\n",
       "[           N[2, 5],            N[3, 5],            N[4, 5],            N[5, 5],            M[2, 5],            M[3, 5],            M[4, 5], M[5, 5]]])"
      ]
     },
     "metadata": {},
     "output_type": "display_data"
    },
    {
     "name": "stdout",
     "output_type": "stream",
     "text": [
      "[[ True  True  True  True  True  True  True  True]\n",
      " [ True  True  True  True  True  True  True  True]\n",
      " [ True  True  True  True  True  True  True  True]\n",
      " [ True  True  True  True  True  True  True  True]\n",
      " [ True  True  True  True  True  True  True  True]\n",
      " [ True  True  True  True  True  True  True  True]\n",
      " [ True  True  True  True  True  True  True  True]\n",
      " [ True  True  True  True  True  True  True  True]]\n"
     ]
    }
   ],
   "source": [
    "n = 4\n",
    "initial_index = 2\n",
    "A = gbs.block_A(n, initial_index)\n",
    "display(Matrix(A))\n",
    "\n",
    "#is block\n",
    "#is shape\n",
    "#is symetri\n",
    "\n",
    "A_conj = A.T\n",
    "for i in range(n):\n",
    "\tA_conj[i, n+i] = np.conjugate(A_conj[i, n+i])\n",
    "\t#A_conj[n+i, i] = np.conjugate(A_conj[n+i, i])\n",
    "    #A_conj[i, n+i] = A_conj[n+i, i]\n",
    "    #A_conj[n+i, i] = np.conjugate(A_conj[i, n+i])\n",
    "    #pass\n",
    "\n",
    "display(Matrix(A_conj))\n",
    "\n",
    "#A_conj[4,0] = np.conjugate(A_conj[4,0])\n",
    "print(np.equal(A, A_conj))\n",
    "\n",
    "#a1 = A[4,1]\n",
    "#a2 = A[]"
   ]
  },
  {
   "cell_type": "code",
   "execution_count": 32,
   "metadata": {},
   "outputs": [
    {
     "data": {
      "text/latex": [
       "$\\displaystyle \\left[\\begin{matrix}N_{2, 2} & N_{2, 3} & N_{2, 4} & N_{2, 5}\\\\\\overline{N_{2, 3}} & N_{3, 3} & N_{3, 4} & N_{3, 5}\\\\\\overline{N_{2, 4}} & \\overline{N_{3, 4}} & N_{4, 4} & N_{4, 5}\\\\\\overline{N_{2, 5}} & \\overline{N_{3, 5}} & \\overline{N_{4, 5}} & N_{5, 5}\\end{matrix}\\right]$"
      ],
      "text/plain": [
       "Matrix([\n",
       "[           N[2, 2],            N[2, 3],            N[2, 4], N[2, 5]],\n",
       "[conjugate(N[2, 3]),            N[3, 3],            N[3, 4], N[3, 5]],\n",
       "[conjugate(N[2, 4]), conjugate(N[3, 4]),            N[4, 4], N[4, 5]],\n",
       "[conjugate(N[2, 5]), conjugate(N[3, 5]), conjugate(N[4, 5]), N[5, 5]]])"
      ]
     },
     "metadata": {},
     "output_type": "display_data"
    },
    {
     "name": "stdout",
     "output_type": "stream",
     "text": [
      "True\n",
      "True\n"
     ]
    }
   ],
   "source": [
    "n = 4\n",
    "initial_index = 2\n",
    "A = gbs.block_A(n, initial_index)\n",
    "M = A[n:2*n, n:2*n]\n",
    "M_conj = A[:n,:n]\n",
    "N = A[:n,n:2*n]\n",
    "N_conj = A[n:2*n,:n]\n",
    "display(Matrix(N))\n",
    "\n",
    "print(np.array_equal(M.conj(), M_conj))\n",
    "print(np.array_equal(N.conj(), N_conj))"
   ]
  },
  {
   "attachments": {},
   "cell_type": "markdown",
   "metadata": {},
   "source": [
    "### Montrealer"
   ]
  },
  {
   "cell_type": "code",
   "execution_count": 6,
   "metadata": {},
   "outputs": [
    {
     "name": "stdout",
     "output_type": "stream",
     "text": [
      "384\n",
      "8\n"
     ]
    },
    {
     "data": {
      "text/latex": [
       "$\\displaystyle \\overline{M_{0, 1}} \\overline{N_{0, 2}} M_{1, 2} + \\overline{M_{0, 1}} \\overline{N_{1, 2}} M_{0, 2} + \\overline{M_{0, 2}} \\overline{N_{0, 1}} M_{1, 2} + \\overline{M_{0, 2}} M_{0, 1} N_{1, 2} + \\overline{M_{1, 2}} M_{0, 1} N_{0, 2} + \\overline{M_{1, 2}} M_{0, 2} N_{0, 1} + \\overline{N_{0, 1}} \\overline{N_{1, 2}} N_{0, 2} + \\overline{N_{0, 2}} N_{0, 1} N_{1, 2}$"
      ],
      "text/plain": [
       "conjugate(M[0, 1])*conjugate(N[0, 2])*M[1, 2] + conjugate(M[0, 1])*conjugate(N[1, 2])*M[0, 2] + conjugate(M[0, 2])*conjugate(N[0, 1])*M[1, 2] + conjugate(M[0, 2])*M[0, 1]*N[1, 2] + conjugate(M[1, 2])*M[0, 1]*N[0, 2] + conjugate(M[1, 2])*M[0, 2]*N[0, 1] + conjugate(N[0, 1])*conjugate(N[1, 2])*N[0, 2] + conjugate(N[0, 2])*N[0, 1]*N[1, 2]"
      ]
     },
     "metadata": {},
     "output_type": "display_data"
    }
   ],
   "source": [
    "A = gbs.block_A(5)\n",
    "mtl = gbs.montrealer(A)\n",
    "print(len(mtl.args))\n",
    "\n",
    "A = gbs.block_A(3)\n",
    "mtl = gbs.montrealer(A)\n",
    "print(len(mtl.args))\n",
    "display(mtl)"
   ]
  },
  {
   "attachments": {},
   "cell_type": "markdown",
   "metadata": {},
   "source": [
    "### photon_number_moment\n",
    "\n",
    "Equation (20) and (21)"
   ]
  }
 ],
 "metadata": {
  "kernelspec": {
   "display_name": "GBS",
   "language": "python",
   "name": "python3"
  },
  "language_info": {
   "codemirror_mode": {
    "name": "ipython",
    "version": 3
   },
   "file_extension": ".py",
   "mimetype": "text/x-python",
   "name": "python",
   "nbconvert_exporter": "python",
   "pygments_lexer": "ipython3",
   "version": "3.8.13"
  },
  "orig_nbformat": 4,
  "vscode": {
   "interpreter": {
    "hash": "b9da7cac117a6ecebdac47a9ebe9814a7ac3b718953c12b180cf4daab6903cd1"
   }
  }
 },
 "nbformat": 4,
 "nbformat_minor": 2
}
