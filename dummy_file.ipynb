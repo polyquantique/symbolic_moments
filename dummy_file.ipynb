{
 "cells": [
  {
   "cell_type": "code",
   "execution_count": 6,
   "metadata": {},
   "outputs": [],
   "source": [
    "import symbolic_cumulants as gbs\n",
    "from sympy import Matrix, MatrixSymbol, symbols\n",
    "import numpy as np"
   ]
  },
  {
   "attachments": {},
   "cell_type": "markdown",
   "metadata": {},
   "source": [
    "### symmetric_M"
   ]
  },
  {
   "cell_type": "code",
   "execution_count": 14,
   "metadata": {},
   "outputs": [
    {
     "data": {
      "text/latex": [
       "$\\displaystyle \\left[\\begin{matrix}M_{2, 2} & M_{2, 3} & M_{2, 4} & M_{2, 5}\\\\M_{2, 3} & M_{3, 3} & M_{3, 4} & M_{3, 5}\\\\M_{2, 4} & M_{3, 4} & M_{4, 4} & M_{4, 5}\\\\M_{2, 5} & M_{3, 5} & M_{4, 5} & M_{5, 5}\\end{matrix}\\right]$"
      ],
      "text/plain": [
       "Matrix([\n",
       "[M[2, 2], M[2, 3], M[2, 4], M[2, 5]],\n",
       "[M[2, 3], M[3, 3], M[3, 4], M[3, 5]],\n",
       "[M[2, 4], M[3, 4], M[4, 4], M[4, 5]],\n",
       "[M[2, 5], M[3, 5], M[4, 5], M[5, 5]]])"
      ]
     },
     "metadata": {},
     "output_type": "display_data"
    },
    {
     "name": "stdout",
     "output_type": "stream",
     "text": [
      "(4, 4)\n",
      "True\n"
     ]
    }
   ],
   "source": [
    "M = gbs.symmetric_M(4, initial_index=2)\n",
    "display(Matrix(M))\n",
    "\n",
    "print(M.shape)\n",
    "print(np.array_equal(M, M.T))"
   ]
  },
  {
   "attachments": {},
   "cell_type": "markdown",
   "metadata": {},
   "source": [
    "### hermitian_N"
   ]
  },
  {
   "cell_type": "code",
   "execution_count": 5,
   "metadata": {},
   "outputs": [
    {
     "data": {
      "text/latex": [
       "$\\displaystyle \\left[\\begin{matrix}N_{2, 2} & N_{2, 3} & N_{2, 4} & N_{2, 5}\\\\\\overline{N_{2, 3}} & N_{3, 3} & N_{3, 4} & N_{3, 5}\\\\\\overline{N_{2, 4}} & \\overline{N_{3, 4}} & N_{4, 4} & N_{4, 5}\\\\\\overline{N_{2, 5}} & \\overline{N_{3, 5}} & \\overline{N_{4, 5}} & N_{5, 5}\\end{matrix}\\right]$"
      ],
      "text/plain": [
       "Matrix([\n",
       "[           N[2, 2],            N[2, 3],            N[2, 4], N[2, 5]],\n",
       "[conjugate(N[2, 3]),            N[3, 3],            N[3, 4], N[3, 5]],\n",
       "[conjugate(N[2, 4]), conjugate(N[3, 4]),            N[4, 4], N[4, 5]],\n",
       "[conjugate(N[2, 5]), conjugate(N[3, 5]), conjugate(N[4, 5]), N[5, 5]]])"
      ]
     },
     "metadata": {},
     "output_type": "display_data"
    },
    {
     "data": {
      "text/latex": [
       "$\\displaystyle \\left[\\begin{matrix}\\overline{N_{2, 2}} & N_{2, 3} & N_{2, 4} & N_{2, 5}\\\\\\overline{N_{2, 3}} & N_{3, 3} & N_{3, 4} & N_{3, 5}\\\\\\overline{N_{2, 4}} & \\overline{N_{3, 4}} & \\overline{N_{4, 4}} & N_{4, 5}\\\\\\overline{N_{2, 5}} & \\overline{N_{3, 5}} & \\overline{N_{4, 5}} & \\overline{N_{5, 5}}\\end{matrix}\\right]$"
      ],
      "text/plain": [
       "Matrix([\n",
       "[conjugate(N[2, 2]),            N[2, 3],            N[2, 4],            N[2, 5]],\n",
       "[conjugate(N[2, 3]),            N[3, 3],            N[3, 4],            N[3, 5]],\n",
       "[conjugate(N[2, 4]), conjugate(N[3, 4]), conjugate(N[4, 4]),            N[4, 5]],\n",
       "[conjugate(N[2, 5]), conjugate(N[3, 5]), conjugate(N[4, 5]), conjugate(N[5, 5])]])"
      ]
     },
     "metadata": {},
     "output_type": "display_data"
    }
   ],
   "source": [
    "N = gbs.hermitian_N(4, initial_index=2)\n",
    "display(Matrix(N))\n",
    "Nconj = N.T.conj()\n",
    "Nconj[1,1] = np.conjugate(Nconj[1,1])\n",
    "display(Matrix(Nconj))"
   ]
  },
  {
   "attachments": {},
   "cell_type": "markdown",
   "metadata": {},
   "source": [
    "### diagonal_N"
   ]
  },
  {
   "cell_type": "code",
   "execution_count": 21,
   "metadata": {},
   "outputs": [
    {
     "data": {
      "text/latex": [
       "$\\displaystyle \\left[\\begin{matrix}n_{3} & 0 & 0\\\\0 & n_{4} & 0\\\\0 & 0 & n_{5}\\end{matrix}\\right]$"
      ],
      "text/plain": [
       "Matrix([\n",
       "[n3,  0,  0],\n",
       "[ 0, n4,  0],\n",
       "[ 0,  0, n5]])"
      ]
     },
     "metadata": {},
     "output_type": "display_data"
    },
    {
     "data": {
      "text/latex": [
       "$\\displaystyle \\left[\\begin{matrix}0 & 0 & 0\\\\0 & 0 & 0\\\\0 & 0 & 0\\end{matrix}\\right]$"
      ],
      "text/plain": [
       "Matrix([\n",
       "[0, 0, 0],\n",
       "[0, 0, 0],\n",
       "[0, 0, 0]])"
      ]
     },
     "metadata": {},
     "output_type": "display_data"
    }
   ],
   "source": [
    "n = 3\n",
    "initial_index = 3\n",
    "N = np.diag(symbols(\"n\"+str(initial_index)+\":%d\" % (n + initial_index)))\n",
    "display(Matrix(N))\n",
    "\n",
    "np.fill_diagonal(N, 0)\n",
    "display(Matrix(N))"
   ]
  }
 ],
 "metadata": {
  "kernelspec": {
   "display_name": "GBS",
   "language": "python",
   "name": "python3"
  },
  "language_info": {
   "codemirror_mode": {
    "name": "ipython",
    "version": 3
   },
   "file_extension": ".py",
   "mimetype": "text/x-python",
   "name": "python",
   "nbconvert_exporter": "python",
   "pygments_lexer": "ipython3",
   "version": "3.8.13"
  },
  "orig_nbformat": 4,
  "vscode": {
   "interpreter": {
    "hash": "b9da7cac117a6ecebdac47a9ebe9814a7ac3b718953c12b180cf4daab6903cd1"
   }
  }
 },
 "nbformat": 4,
 "nbformat_minor": 2
}
