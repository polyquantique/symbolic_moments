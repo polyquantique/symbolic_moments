{
 "cells": [
  {
   "cell_type": "code",
   "execution_count": 2,
   "id": "a0ced333-1bcd-47b5-933c-2d0050326eb5",
   "metadata": {},
   "outputs": [],
   "source": [
    "from gbs_functions import montrealer, cumulant_calculator, symmetric_M, hermitian_N\n",
    "from sympy import expand, simplify"
   ]
  },
  {
   "cell_type": "code",
   "execution_count": 3,
   "id": "78728a4b-8c88-4a0f-ad4a-d7dbd4e3dffc",
   "metadata": {},
   "outputs": [],
   "source": [
    "import numpy as np\n",
    "np.set_printoptions(linewidth=200)"
   ]
  },
  {
   "cell_type": "code",
   "execution_count": 4,
   "id": "70059f65-47d1-44ad-a47e-fd8de026ff10",
   "metadata": {},
   "outputs": [],
   "source": [
    "from gbs_functions_A import moment as moment_A # Moments in terms of the A matrix\n",
    "from gbs_functions_A import cumulant as cumulant_A # Cumulants in terms of the A matrix"
   ]
  },
  {
   "cell_type": "code",
   "execution_count": 5,
   "id": "7e96e874-f64f-467d-80f8-5a973818f748",
   "metadata": {},
   "outputs": [
    {
     "data": {
      "text/latex": [
       "$\\displaystyle A_{1, 2} A_{3, 4} A_{5, 6} + A_{1, 2} A_{3, 5} A_{4, 6} + A_{1, 2} A_{3, 6} A_{4, 5} + A_{1, 3} A_{2, 4} A_{5, 6} + A_{1, 3} A_{2, 5} A_{4, 6} + A_{1, 3} A_{2, 6} A_{4, 5} + A_{1, 4} A_{2, 3} A_{5, 6} + A_{1, 4} A_{2, 5} A_{3, 6} + A_{1, 4} A_{2, 6} A_{3, 5} + A_{1, 5} A_{2, 3} A_{4, 6} + A_{1, 5} A_{2, 4} A_{3, 6} + A_{1, 5} A_{2, 6} A_{3, 4} + A_{1, 6} A_{2, 3} A_{4, 5} + A_{1, 6} A_{2, 4} A_{3, 5} + A_{1, 6} A_{2, 5} A_{3, 4}$"
      ],
      "text/plain": [
       "A[1, 2]*A[3, 4]*A[5, 6] + A[1, 2]*A[3, 5]*A[4, 6] + A[1, 2]*A[3, 6]*A[4, 5] + A[1, 3]*A[2, 4]*A[5, 6] + A[1, 3]*A[2, 5]*A[4, 6] + A[1, 3]*A[2, 6]*A[4, 5] + A[1, 4]*A[2, 3]*A[5, 6] + A[1, 4]*A[2, 5]*A[3, 6] + A[1, 4]*A[2, 6]*A[3, 5] + A[1, 5]*A[2, 3]*A[4, 6] + A[1, 5]*A[2, 4]*A[3, 6] + A[1, 5]*A[2, 6]*A[3, 4] + A[1, 6]*A[2, 3]*A[4, 5] + A[1, 6]*A[2, 4]*A[3, 5] + A[1, 6]*A[2, 5]*A[3, 4]"
      ]
     },
     "execution_count": 5,
     "metadata": {},
     "output_type": "execute_result"
    }
   ],
   "source": [
    "moment_A([1,1,1],displacement=False)"
   ]
  },
  {
   "cell_type": "code",
   "execution_count": 6,
   "id": "b5db4940-53aa-4598-83ff-1f0d1987e9cd",
   "metadata": {},
   "outputs": [],
   "source": [
    "c4 = cumulant_A([1,1,1,1],displacement=False)"
   ]
  },
  {
   "cell_type": "code",
   "execution_count": 7,
   "id": "5fda9fda-7b09-4b0d-9233-ebf282e9c572",
   "metadata": {},
   "outputs": [],
   "source": [
    "c3 = cumulant_A([1,1,1],displacement=False)"
   ]
  },
  {
   "cell_type": "code",
   "execution_count": 8,
   "id": "691f86ac-bc8e-4b02-8ad0-7199b8b7824d",
   "metadata": {},
   "outputs": [],
   "source": [
    "c5 = cumulant_A([1,1,1,1,1],displacement=False)"
   ]
  },
  {
   "cell_type": "code",
   "execution_count": 9,
   "id": "619f035c-cd0f-4470-a7ed-5254440f2d8a",
   "metadata": {},
   "outputs": [],
   "source": [
    "c2 = cumulant_A([1,1],displacement=False)"
   ]
  },
  {
   "cell_type": "code",
   "execution_count": 10,
   "id": "c613cebb-04bf-45fc-89d9-e86b29ef4522",
   "metadata": {},
   "outputs": [],
   "source": [
    "c1 = cumulant_A([1],displacement=False)"
   ]
  },
  {
   "cell_type": "code",
   "execution_count": 11,
   "id": "ea3c32ad-fcd2-4f0b-8057-61e17dedeec2",
   "metadata": {},
   "outputs": [],
   "source": [
    "m1 = moment_A([1],displacement=False)"
   ]
  },
  {
   "cell_type": "code",
   "execution_count": 12,
   "id": "7f833e46-2711-41c3-b0db-80c1b05bde36",
   "metadata": {},
   "outputs": [],
   "source": [
    "m2 = moment_A([1,1],displacement=False) "
   ]
  },
  {
   "cell_type": "code",
   "execution_count": 13,
   "id": "39dc9b2a-3241-4aa3-b3b6-c1a6d7994ed1",
   "metadata": {},
   "outputs": [],
   "source": [
    "m3 = moment_A([1,1,1],displacement=False)"
   ]
  },
  {
   "cell_type": "code",
   "execution_count": 14,
   "id": "5c50cc70-ffe7-48eb-a90e-b22699b30dc2",
   "metadata": {},
   "outputs": [],
   "source": [
    "m4 = moment_A([1,1,1,1],displacement=False)"
   ]
  },
  {
   "cell_type": "code",
   "execution_count": 15,
   "id": "0e39a9f3-efd6-4fd3-9cca-a2575a771a8e",
   "metadata": {},
   "outputs": [],
   "source": [
    "m5 = moment_A([1,1,1,1,1],displacement=False)"
   ]
  },
  {
   "cell_type": "code",
   "execution_count": 16,
   "id": "8a7478c8-1b69-4197-8ced-01d3d7144b0e",
   "metadata": {},
   "outputs": [
    {
     "data": {
      "text/plain": [
       "1"
      ]
     },
     "execution_count": 16,
     "metadata": {},
     "output_type": "execute_result"
    }
   ],
   "source": [
    "len(c1.as_terms()[0])"
   ]
  },
  {
   "cell_type": "code",
   "execution_count": 17,
   "id": "a7a88490-306a-4c5f-a2cf-dfdfb46aba8b",
   "metadata": {},
   "outputs": [],
   "source": [
    "ms = [m1,m2,m3,m4,m5]\n",
    "cs = [c1,c2,c3,c4,c5]"
   ]
  },
  {
   "cell_type": "code",
   "execution_count": 19,
   "id": "497bee36-b6dd-4e26-b561-1bd00f26ab93",
   "metadata": {},
   "outputs": [],
   "source": [
    "from scipy.special import factorial, factorial2"
   ]
  },
  {
   "cell_type": "code",
   "execution_count": null,
   "id": "c8fcdd6f-45ab-4b2c-99de-47381d444ed5",
   "metadata": {},
   "outputs": [],
   "source": []
  },
  {
   "cell_type": "code",
   "execution_count": 20,
   "id": "a31ed741-0517-44bf-a6b5-b48eb37edeb4",
   "metadata": {},
   "outputs": [
    {
     "name": "stdout",
     "output_type": "stream",
     "text": [
      "1 1 1 1.0\n",
      "2 3 2 2.0\n",
      "3 15 8 8.0\n",
      "4 105 48 48.0\n",
      "5 945 384 384.0\n"
     ]
    }
   ],
   "source": [
    "for i in range(5):\n",
    "    lm = len(ms[i].as_terms()[0])\n",
    "    lc = len(cs[i].as_terms()[0])\n",
    "    print(str(i+1) + \" \" + str(lm) + \" \" + str(lc) +\" \"+ str(factorial(i)*2**i))"
   ]
  },
  {
   "cell_type": "markdown",
   "id": "6e72868b-f3c7-4404-89c5-95e4fbbd27ca",
   "metadata": {},
   "source": [
    "# The things below are more speculative"
   ]
  },
  {
   "cell_type": "code",
   "execution_count": 64,
   "id": "1518c953-6d67-4e1c-9121-364cfb1f331c",
   "metadata": {},
   "outputs": [],
   "source": [
    "from thewalrus.reference import pmp\n",
    "from itertools import product, permutations"
   ]
  },
  {
   "cell_type": "code",
   "execution_count": 65,
   "id": "42d7e04c-89da-49d1-903d-5d7e02a6fb89",
   "metadata": {},
   "outputs": [],
   "source": [
    "def pair_selection(n):\n",
    "    for binary in map(''.join, product('01', repeat=int(n/2)-1)):\n",
    "        yield '0'+binary"
   ]
  },
  {
   "cell_type": "code",
   "execution_count": 66,
   "id": "14e28139-fc12-4b3d-8ab0-4da6a24f4c2a",
   "metadata": {},
   "outputs": [],
   "source": [
    "def flip(l):\n",
    "    return [l[1],l[0]]"
   ]
  },
  {
   "cell_type": "code",
   "execution_count": 67,
   "id": "41b53b55-4711-4889-a4a7-5ff3b3ee7b73",
   "metadata": {},
   "outputs": [],
   "source": [
    "def cyclic_permutation(n):\n",
    "    iterable = permutations(range(int(n/2)-1))\n",
    "    for iter in iterable:\n",
    "        yield iter + (int(n/2)-1,iter[0])"
   ]
  },
  {
   "cell_type": "code",
   "execution_count": 68,
   "id": "a21fccff-2828-4d58-895b-7415de3acd6b",
   "metadata": {},
   "outputs": [],
   "source": [
    "def dicting(x):\n",
    "    return {x[i]:x[i+1] for i in range(len(x)-1) }"
   ]
  },
  {
   "cell_type": "code",
   "execution_count": 69,
   "id": "0e8e3eee-671c-40bb-911c-ad0e8409af19",
   "metadata": {},
   "outputs": [],
   "source": [
    "def cycle_to_permutation(cycle):\n",
    "    n = len(cycle)-1\n",
    "    return np.array([dicting(cycle)[i] for i in range(n)])"
   ]
  },
  {
   "cell_type": "code",
   "execution_count": 75,
   "id": "51fd53a6-0d40-43c0-8c68-b735b7d48dd6",
   "metadata": {},
   "outputs": [],
   "source": [
    "n =6\n",
    "p = [[2*i+1,2*i+2] for i in range(n//2)]\n"
   ]
  },
  {
   "cell_type": "code",
   "execution_count": 76,
   "id": "34d3ea4f-2b17-4c15-8eaa-7f6d85c0ddb7",
   "metadata": {},
   "outputs": [
    {
     "data": {
      "text/plain": [
       "[[1, 2], [3, 4], [5, 6]]"
      ]
     },
     "execution_count": 76,
     "metadata": {},
     "output_type": "execute_result"
    }
   ],
   "source": [
    "p"
   ]
  },
  {
   "cell_type": "code",
   "execution_count": 77,
   "id": "0a85f80f-ab83-4622-bea0-996b01b1ea2b",
   "metadata": {},
   "outputs": [],
   "source": [
    "import numpy as np"
   ]
  },
  {
   "cell_type": "code",
   "execution_count": 78,
   "id": "e80b0eda-e4f8-4ce8-bdbe-fc2ba55d127f",
   "metadata": {},
   "outputs": [
    {
     "name": "stdout",
     "output_type": "stream",
     "text": [
      "[[1 4]\n",
      " [3 6]\n",
      " [5 2]]\n",
      "[[1 6]\n",
      " [3 2]\n",
      " [5 4]]\n",
      "[[1 4]\n",
      " [3 6]\n",
      " [5 2]]\n",
      "[[1 6]\n",
      " [3 2]\n",
      " [5 4]]\n",
      "[[1 4]\n",
      " [3 6]\n",
      " [5 2]]\n",
      "[[1 6]\n",
      " [3 2]\n",
      " [5 4]]\n",
      "[[1 4]\n",
      " [3 6]\n",
      " [5 2]]\n",
      "[[1 6]\n",
      " [3 2]\n",
      " [5 4]]\n"
     ]
    }
   ],
   "source": [
    "for x in pair_selection(n):\n",
    "    pp = np.array([flip(p[i]) if digit==1 else p[i] for i,digit in enumerate(x)]).T\n",
    "    indices = np.copy(pp)\n",
    "    for cycle in cyclic_permutation(n):\n",
    "        perm = cycle_to_permutation(cycle)\n",
    "        print(np.array([indices[0],indices[1][perm]]).T)"
   ]
  },
  {
   "cell_type": "code",
   "execution_count": 79,
   "id": "8613f333-e431-4cbe-a14a-381d09df1bfd",
   "metadata": {},
   "outputs": [
    {
     "data": {
      "text/latex": [
       "$\\displaystyle A_{1, 2} A_{3, 4} A_{5, 6} + A_{1, 2} A_{3, 5} A_{4, 6} + A_{1, 3} A_{2, 4} A_{5, 6} + A_{1, 3} A_{2, 6} A_{4, 5} + A_{1, 5} A_{2, 3} A_{4, 6} + A_{1, 5} A_{2, 6} A_{3, 4} + A_{1, 6} A_{2, 3} A_{4, 5} + A_{1, 6} A_{2, 4} A_{3, 5}$"
      ],
      "text/plain": [
       "A[1, 2]*A[3, 4]*A[5, 6] + A[1, 2]*A[3, 5]*A[4, 6] + A[1, 3]*A[2, 4]*A[5, 6] + A[1, 3]*A[2, 6]*A[4, 5] + A[1, 5]*A[2, 3]*A[4, 6] + A[1, 5]*A[2, 6]*A[3, 4] + A[1, 6]*A[2, 3]*A[4, 5] + A[1, 6]*A[2, 4]*A[3, 5]"
      ]
     },
     "execution_count": 79,
     "metadata": {},
     "output_type": "execute_result"
    }
   ],
   "source": [
    "c3"
   ]
  },
  {
   "cell_type": "code",
   "execution_count": 80,
   "id": "0392674b-fb65-4d98-ad1d-9361c2f0fa72",
   "metadata": {},
   "outputs": [],
   "source": [
    "from thewalrus.reference import pmp\n",
    "from itertools import product, permutations\n",
    "from gbs_functions import symmetric_M\n",
    "from sympy import Matrix, expand\n",
    "from operator import itemgetter\n",
    "from gbs_functions import montrealer\n",
    "import copy\n",
    "from time import time\n",
    "import numpy as np"
   ]
  },
  {
   "cell_type": "code",
   "execution_count": 81,
   "id": "2da4a9f6-37ee-43b3-af3a-e6db71bf2b9c",
   "metadata": {},
   "outputs": [],
   "source": [
    "def pair_selection(n):\n",
    "    for binary in map(''.join, product('01', repeat=int(n/2)-1)):\n",
    "        yield '0'+binary\n",
    "\n",
    "def flip(l):\n",
    "    return [l[1],l[0]]\n",
    "\n",
    "def cyclic_permutation(n):\n",
    "    iterable = permutations(range(int(n/2)-1))\n",
    "    for iter in iterable:\n",
    "        yield iter + (int(n/2)-1,iter[0])\n",
    "\n",
    "def dicting(x):\n",
    "    return {x[i]:x[i+1] for i in range(len(x)-1) }\n",
    "\n",
    "def cycle_to_permutation(cycle):\n",
    "    n = len(cycle)-1\n",
    "    return np.array([dicting(cycle)[i] for i in range(n)])\n",
    "\n",
    "def term_builder(M, iterable, conjugate=False):\n",
    "    term = 1\n",
    "    for i in iterable:\n",
    "        term *= M[i[0]][i[1]]\n",
    "    return term.conjugate() if conjugate else term"
   ]
  },
  {
   "cell_type": "code",
   "execution_count": 82,
   "id": "9547a2d2-d99c-40ca-9c68-3f14d0f4b735",
   "metadata": {},
   "outputs": [],
   "source": [
    "def matching_terms(p):\n",
    "    n = 2*len(p)\n",
    "    for x in pair_selection(n):\n",
    "        pp = np.array([flip(p[i]) if digit=='1' else p[i] for i,digit in enumerate(x)]).T\n",
    "        indices = np.copy(pp)\n",
    "        for cycle in cyclic_permutation(n):\n",
    "            perm = cycle_to_permutation(cycle)\n",
    "            yield np.array([indices[0],indices[1][perm]]).T\n",
    "\n",
    "def montrealer_combinatorics(M):\n",
    "    n = len(M)\n",
    "    equation = 0\n",
    "    for p in pmp(tuple(range(n))):\n",
    "        #p = list(map(list,p))\n",
    "        term = term_builder(M, p, conjugate=True)\n",
    "        for x in matching_terms(p):\n",
    "            equation += term*term_builder(M, x, conjugate=False)\n",
    "    return equation"
   ]
  },
  {
   "cell_type": "code",
   "execution_count": 112,
   "id": "3d0e11fb-faf2-43aa-b3f6-f29ed32ae674",
   "metadata": {},
   "outputs": [],
   "source": [
    "def tobenamed(M):\n",
    "    n = len(M)//2\n",
    "    equation = 0\n",
    "    #p = [(2*i, 2*i+1) for i in range(n)]\n",
    "    p = [(2*i, (2*i-1) % (2*n)) for i in range(n)]\n",
    "    term = 1\n",
    "    for x in matching_terms(p):\n",
    "        equation += term*term_builder(M, x, conjugate=False)\n",
    "    return equation"
   ]
  },
  {
   "cell_type": "code",
   "execution_count": 113,
   "id": "13308996-ff57-4325-aadf-929352dfc9e0",
   "metadata": {},
   "outputs": [],
   "source": [
    "from gbs_functions_A import symmetric_A"
   ]
  },
  {
   "cell_type": "code",
   "execution_count": 118,
   "id": "c27b5243-2530-4f2d-bb7e-df558d1b2154",
   "metadata": {},
   "outputs": [
    {
     "data": {
      "text/latex": [
       "$\\displaystyle A_{1, 2} A_{3, 4} A_{5, 6} + A_{1, 2} A_{3, 5} A_{4, 6} + A_{1, 3} A_{2, 4} A_{5, 6} + A_{1, 3} A_{2, 5} A_{4, 6} + A_{1, 4} A_{2, 5} A_{3, 6} + A_{1, 4} A_{2, 6} A_{3, 5} + A_{1, 5} A_{2, 4} A_{3, 6} + A_{1, 5} A_{2, 6} A_{3, 4}$"
      ],
      "text/plain": [
       "A[1, 2]*A[3, 4]*A[5, 6] + A[1, 2]*A[3, 5]*A[4, 6] + A[1, 3]*A[2, 4]*A[5, 6] + A[1, 3]*A[2, 5]*A[4, 6] + A[1, 4]*A[2, 5]*A[3, 6] + A[1, 4]*A[2, 6]*A[3, 5] + A[1, 5]*A[2, 4]*A[3, 6] + A[1, 5]*A[2, 6]*A[3, 4]"
      ]
     },
     "execution_count": 118,
     "metadata": {},
     "output_type": "execute_result"
    }
   ],
   "source": [
    "tobenamed(symmetric_A(3))"
   ]
  },
  {
   "cell_type": "code",
   "execution_count": null,
   "id": "ec31d732-4e4c-4cfb-81d2-7113beb9c169",
   "metadata": {},
   "outputs": [],
   "source": []
  },
  {
   "cell_type": "code",
   "execution_count": 100,
   "id": "10b5d6fb-fc99-497f-9869-19793cc43340",
   "metadata": {},
   "outputs": [
    {
     "data": {
      "text/plain": [
       "[(0, 1, 2, 3, 0),\n",
       " (0, 2, 1, 3, 0),\n",
       " (1, 0, 2, 3, 1),\n",
       " (1, 2, 0, 3, 1),\n",
       " (2, 0, 1, 3, 2),\n",
       " (2, 1, 0, 3, 2)]"
      ]
     },
     "execution_count": 100,
     "metadata": {},
     "output_type": "execute_result"
    }
   ],
   "source": [
    "[x for x in cyclic_permutation(8)]"
   ]
  },
  {
   "cell_type": "code",
   "execution_count": 103,
   "id": "7e7f29eb-a14e-4006-8eec-08541771aacf",
   "metadata": {},
   "outputs": [
    {
     "data": {
      "text/plain": [
       "[6, 5, 4, 3, 2, 1]"
      ]
     },
     "execution_count": 103,
     "metadata": {},
     "output_type": "execute_result"
    }
   ],
   "source": [
    "n = 6\n",
    "[i for i in range(n,0,-1)]"
   ]
  },
  {
   "cell_type": "code",
   "execution_count": 110,
   "id": "a923801f-115c-4fe2-9d4d-e81e27c5d756",
   "metadata": {},
   "outputs": [
    {
     "data": {
      "text/plain": [
       "[(0, 11), (2, 1), (4, 3), (6, 5), (8, 7), (10, 9)]"
      ]
     },
     "execution_count": 110,
     "metadata": {},
     "output_type": "execute_result"
    }
   ],
   "source": [
    "[(2*i, (2*i-1) % (2*n)) for i in range(n)]"
   ]
  },
  {
   "cell_type": "code",
   "execution_count": 123,
   "id": "fd25d29c-7334-48d0-bc9b-6e19b97d6d89",
   "metadata": {},
   "outputs": [
    {
     "data": {
      "text/plain": [
       "[((0, 1), (2, 3)), ((0, 2), (1, 3)), ((0, 3), (1, 2))]"
      ]
     },
     "execution_count": 123,
     "metadata": {},
     "output_type": "execute_result"
    }
   ],
   "source": [
    "[x for x in pmp(tuple(range(4)))]"
   ]
  },
  {
   "cell_type": "markdown",
   "id": "d916b952-7297-4b14-9332-c15dfe21b966",
   "metadata": {},
   "source": [
    "# Even more speculative"
   ]
  },
  {
   "cell_type": "code",
   "execution_count": 173,
   "id": "87c19242-ff86-433e-bc9f-3b9c0d8dfde1",
   "metadata": {},
   "outputs": [],
   "source": [
    "def cumulant_local(M):\n",
    "    r\"\"\"Blarg\n",
    "    \"\"\"\n",
    "    n = len(M)\n",
    "    iter_set = pmp(tuple(range(n)))\n",
    "\n",
    "    tot_sum = 0\n",
    "    nhalf = n//2\n",
    "    \n",
    "    for i in iter_set:\n",
    "        add_up = True\n",
    "        for pair in i:\n",
    "            if pair[1] - pair[0] == nhalf:\n",
    "                add_up = False\n",
    "                break\n",
    "        if add_up is True:\n",
    "            result = 1\n",
    "\n",
    "            for j in i:\n",
    "                result = result * M[j]\n",
    "\n",
    "            tot_sum = tot_sum + result\n",
    "\n",
    "    return tot_sum"
   ]
  },
  {
   "cell_type": "code",
   "execution_count": 179,
   "id": "752d6349-7f57-4e89-b80a-74f00ab5de84",
   "metadata": {},
   "outputs": [
    {
     "data": {
      "text/latex": [
       "$\\displaystyle A_{1, 2} A_{3, 5} A_{4, 8} A_{6, 7} + A_{1, 2} A_{3, 6} A_{4, 8} A_{5, 7} + A_{1, 2} A_{3, 7} A_{4, 5} A_{6, 8} + A_{1, 2} A_{3, 7} A_{4, 6} A_{5, 8} + A_{1, 2} A_{3, 7} A_{4, 8} A_{5, 6} + A_{1, 3} A_{2, 5} A_{4, 8} A_{6, 7} + A_{1, 3} A_{2, 6} A_{4, 5} A_{7, 8} + A_{1, 3} A_{2, 6} A_{4, 7} A_{5, 8} + A_{1, 3} A_{2, 6} A_{4, 8} A_{5, 7} + A_{1, 3} A_{2, 7} A_{4, 8} A_{5, 6} + A_{1, 4} A_{2, 5} A_{3, 7} A_{6, 8} + A_{1, 4} A_{2, 6} A_{3, 5} A_{7, 8} + A_{1, 4} A_{2, 6} A_{3, 7} A_{5, 8} + A_{1, 4} A_{2, 6} A_{3, 8} A_{5, 7} + A_{1, 4} A_{2, 8} A_{3, 7} A_{5, 6} + A_{1, 5} A_{2, 3} A_{4, 6} A_{7, 8} + A_{1, 5} A_{2, 3} A_{4, 7} A_{6, 8} + A_{1, 5} A_{2, 3} A_{4, 8} A_{6, 7} + A_{1, 5} A_{2, 4} A_{3, 6} A_{7, 8} + A_{1, 5} A_{2, 4} A_{3, 7} A_{6, 8} + A_{1, 5} A_{2, 4} A_{3, 8} A_{6, 7} + A_{1, 5} A_{2, 6} A_{3, 4} A_{7, 8} + A_{1, 5} A_{2, 6} A_{3, 7} A_{4, 8} + A_{1, 5} A_{2, 6} A_{3, 8} A_{4, 7} + A_{1, 5} A_{2, 7} A_{3, 4} A_{6, 8} + A_{1, 5} A_{2, 7} A_{3, 6} A_{4, 8} + A_{1, 5} A_{2, 7} A_{3, 8} A_{4, 6} + A_{1, 5} A_{2, 8} A_{3, 4} A_{6, 7} + A_{1, 5} A_{2, 8} A_{3, 6} A_{4, 7} + A_{1, 5} A_{2, 8} A_{3, 7} A_{4, 6} + A_{1, 6} A_{2, 3} A_{4, 8} A_{5, 7} + A_{1, 6} A_{2, 4} A_{3, 7} A_{5, 8} + A_{1, 6} A_{2, 5} A_{3, 7} A_{4, 8} + A_{1, 6} A_{2, 7} A_{3, 5} A_{4, 8} + A_{1, 6} A_{2, 8} A_{3, 7} A_{4, 5} + A_{1, 7} A_{2, 3} A_{4, 8} A_{5, 6} + A_{1, 7} A_{2, 5} A_{3, 6} A_{4, 8} + A_{1, 7} A_{2, 6} A_{3, 4} A_{5, 8} + A_{1, 7} A_{2, 6} A_{3, 5} A_{4, 8} + A_{1, 7} A_{2, 6} A_{3, 8} A_{4, 5} + A_{1, 8} A_{2, 4} A_{3, 7} A_{5, 6} + A_{1, 8} A_{2, 5} A_{3, 7} A_{4, 6} + A_{1, 8} A_{2, 6} A_{3, 4} A_{5, 7} + A_{1, 8} A_{2, 6} A_{3, 5} A_{4, 7} + A_{1, 8} A_{2, 6} A_{3, 7} A_{4, 5}$"
      ],
      "text/plain": [
       "A[1, 2]*A[3, 5]*A[4, 8]*A[6, 7] + A[1, 2]*A[3, 6]*A[4, 8]*A[5, 7] + A[1, 2]*A[3, 7]*A[4, 5]*A[6, 8] + A[1, 2]*A[3, 7]*A[4, 6]*A[5, 8] + A[1, 2]*A[3, 7]*A[4, 8]*A[5, 6] + A[1, 3]*A[2, 5]*A[4, 8]*A[6, 7] + A[1, 3]*A[2, 6]*A[4, 5]*A[7, 8] + A[1, 3]*A[2, 6]*A[4, 7]*A[5, 8] + A[1, 3]*A[2, 6]*A[4, 8]*A[5, 7] + A[1, 3]*A[2, 7]*A[4, 8]*A[5, 6] + A[1, 4]*A[2, 5]*A[3, 7]*A[6, 8] + A[1, 4]*A[2, 6]*A[3, 5]*A[7, 8] + A[1, 4]*A[2, 6]*A[3, 7]*A[5, 8] + A[1, 4]*A[2, 6]*A[3, 8]*A[5, 7] + A[1, 4]*A[2, 8]*A[3, 7]*A[5, 6] + A[1, 5]*A[2, 3]*A[4, 6]*A[7, 8] + A[1, 5]*A[2, 3]*A[4, 7]*A[6, 8] + A[1, 5]*A[2, 3]*A[4, 8]*A[6, 7] + A[1, 5]*A[2, 4]*A[3, 6]*A[7, 8] + A[1, 5]*A[2, 4]*A[3, 7]*A[6, 8] + A[1, 5]*A[2, 4]*A[3, 8]*A[6, 7] + A[1, 5]*A[2, 6]*A[3, 4]*A[7, 8] + A[1, 5]*A[2, 6]*A[3, 7]*A[4, 8] + A[1, 5]*A[2, 6]*A[3, 8]*A[4, 7] + A[1, 5]*A[2, 7]*A[3, 4]*A[6, 8] + A[1, 5]*A[2, 7]*A[3, 6]*A[4, 8] + A[1, 5]*A[2, 7]*A[3, 8]*A[4, 6] + A[1, 5]*A[2, 8]*A[3, 4]*A[6, 7] + A[1, 5]*A[2, 8]*A[3, 6]*A[4, 7] + A[1, 5]*A[2, 8]*A[3, 7]*A[4, 6] + A[1, 6]*A[2, 3]*A[4, 8]*A[5, 7] + A[1, 6]*A[2, 4]*A[3, 7]*A[5, 8] + A[1, 6]*A[2, 5]*A[3, 7]*A[4, 8] + A[1, 6]*A[2, 7]*A[3, 5]*A[4, 8] + A[1, 6]*A[2, 8]*A[3, 7]*A[4, 5] + A[1, 7]*A[2, 3]*A[4, 8]*A[5, 6] + A[1, 7]*A[2, 5]*A[3, 6]*A[4, 8] + A[1, 7]*A[2, 6]*A[3, 4]*A[5, 8] + A[1, 7]*A[2, 6]*A[3, 5]*A[4, 8] + A[1, 7]*A[2, 6]*A[3, 8]*A[4, 5] + A[1, 8]*A[2, 4]*A[3, 7]*A[5, 6] + A[1, 8]*A[2, 5]*A[3, 7]*A[4, 6] + A[1, 8]*A[2, 6]*A[3, 4]*A[5, 7] + A[1, 8]*A[2, 6]*A[3, 5]*A[4, 7] + A[1, 8]*A[2, 6]*A[3, 7]*A[4, 5]"
      ]
     },
     "execution_count": 179,
     "metadata": {},
     "output_type": "execute_result"
    }
   ],
   "source": [
    "m4 - cumulant_local(symmetric_A(4))"
   ]
  },
  {
   "cell_type": "code",
   "execution_count": 181,
   "id": "07211714-89c3-40b4-9a42-431923f453c1",
   "metadata": {},
   "outputs": [
    {
     "data": {
      "text/latex": [
       "$\\displaystyle A_{1, 2} A_{3, 4} A_{5, 6} A_{7, 8} + A_{1, 2} A_{3, 8} A_{4, 7} A_{5, 6} + A_{1, 3} A_{2, 4} A_{5, 7} A_{6, 8} + A_{1, 3} A_{2, 8} A_{4, 6} A_{5, 7} + A_{1, 4} A_{2, 3} A_{5, 8} A_{6, 7} + A_{1, 4} A_{2, 7} A_{3, 6} A_{5, 8} + A_{1, 6} A_{2, 5} A_{3, 4} A_{7, 8} + A_{1, 6} A_{2, 5} A_{3, 8} A_{4, 7} + A_{1, 7} A_{2, 4} A_{3, 5} A_{6, 8} + A_{1, 7} A_{2, 8} A_{3, 5} A_{4, 6} + A_{1, 8} A_{2, 3} A_{4, 5} A_{6, 7} + A_{1, 8} A_{2, 7} A_{3, 6} A_{4, 5}$"
      ],
      "text/plain": [
       "A[1, 2]*A[3, 4]*A[5, 6]*A[7, 8] + A[1, 2]*A[3, 8]*A[4, 7]*A[5, 6] + A[1, 3]*A[2, 4]*A[5, 7]*A[6, 8] + A[1, 3]*A[2, 8]*A[4, 6]*A[5, 7] + A[1, 4]*A[2, 3]*A[5, 8]*A[6, 7] + A[1, 4]*A[2, 7]*A[3, 6]*A[5, 8] + A[1, 6]*A[2, 5]*A[3, 4]*A[7, 8] + A[1, 6]*A[2, 5]*A[3, 8]*A[4, 7] + A[1, 7]*A[2, 4]*A[3, 5]*A[6, 8] + A[1, 7]*A[2, 8]*A[3, 5]*A[4, 6] + A[1, 8]*A[2, 3]*A[4, 5]*A[6, 7] + A[1, 8]*A[2, 7]*A[3, 6]*A[4, 5]"
      ]
     },
     "execution_count": 181,
     "metadata": {},
     "output_type": "execute_result"
    }
   ],
   "source": [
    "cumulant_local(symmetric_A(4)) - c4"
   ]
  },
  {
   "cell_type": "code",
   "execution_count": 175,
   "id": "8a0a9dd3-5477-4636-8b29-37ef95828859",
   "metadata": {},
   "outputs": [
    {
     "data": {
      "text/latex": [
       "$\\displaystyle A_{1, 2} A_{3, 4} A_{5, 7} A_{6, 8} + A_{1, 2} A_{3, 4} A_{5, 8} A_{6, 7} + A_{1, 2} A_{3, 5} A_{4, 6} A_{7, 8} + A_{1, 2} A_{3, 5} A_{4, 7} A_{6, 8} + A_{1, 2} A_{3, 6} A_{4, 5} A_{7, 8} + A_{1, 2} A_{3, 6} A_{4, 7} A_{5, 8} + A_{1, 2} A_{3, 8} A_{4, 5} A_{6, 7} + A_{1, 2} A_{3, 8} A_{4, 6} A_{5, 7} + A_{1, 3} A_{2, 4} A_{5, 6} A_{7, 8} + A_{1, 3} A_{2, 4} A_{5, 8} A_{6, 7} + A_{1, 3} A_{2, 5} A_{4, 6} A_{7, 8} + A_{1, 3} A_{2, 5} A_{4, 7} A_{6, 8} + A_{1, 3} A_{2, 7} A_{4, 5} A_{6, 8} + A_{1, 3} A_{2, 7} A_{4, 6} A_{5, 8} + A_{1, 3} A_{2, 8} A_{4, 5} A_{6, 7} + A_{1, 3} A_{2, 8} A_{4, 7} A_{5, 6} + A_{1, 4} A_{2, 3} A_{5, 6} A_{7, 8} + A_{1, 4} A_{2, 3} A_{5, 7} A_{6, 8} + A_{1, 4} A_{2, 5} A_{3, 6} A_{7, 8} + A_{1, 4} A_{2, 5} A_{3, 8} A_{6, 7} + A_{1, 4} A_{2, 7} A_{3, 5} A_{6, 8} + A_{1, 4} A_{2, 7} A_{3, 8} A_{5, 6} + A_{1, 4} A_{2, 8} A_{3, 5} A_{6, 7} + A_{1, 4} A_{2, 8} A_{3, 6} A_{5, 7} + A_{1, 6} A_{2, 3} A_{4, 5} A_{7, 8} + A_{1, 6} A_{2, 3} A_{4, 7} A_{5, 8} + A_{1, 6} A_{2, 4} A_{3, 5} A_{7, 8} + A_{1, 6} A_{2, 4} A_{3, 8} A_{5, 7} + A_{1, 6} A_{2, 7} A_{3, 4} A_{5, 8} + A_{1, 6} A_{2, 7} A_{3, 8} A_{4, 5} + A_{1, 6} A_{2, 8} A_{3, 4} A_{5, 7} + A_{1, 6} A_{2, 8} A_{3, 5} A_{4, 7} + A_{1, 7} A_{2, 3} A_{4, 5} A_{6, 8} + A_{1, 7} A_{2, 3} A_{4, 6} A_{5, 8} + A_{1, 7} A_{2, 4} A_{3, 6} A_{5, 8} + A_{1, 7} A_{2, 4} A_{3, 8} A_{5, 6} + A_{1, 7} A_{2, 5} A_{3, 4} A_{6, 8} + A_{1, 7} A_{2, 5} A_{3, 8} A_{4, 6} + A_{1, 7} A_{2, 8} A_{3, 4} A_{5, 6} + A_{1, 7} A_{2, 8} A_{3, 6} A_{4, 5} + A_{1, 8} A_{2, 3} A_{4, 6} A_{5, 7} + A_{1, 8} A_{2, 3} A_{4, 7} A_{5, 6} + A_{1, 8} A_{2, 4} A_{3, 5} A_{6, 7} + A_{1, 8} A_{2, 4} A_{3, 6} A_{5, 7} + A_{1, 8} A_{2, 5} A_{3, 4} A_{6, 7} + A_{1, 8} A_{2, 5} A_{3, 6} A_{4, 7} + A_{1, 8} A_{2, 7} A_{3, 4} A_{5, 6} + A_{1, 8} A_{2, 7} A_{3, 5} A_{4, 6}$"
      ],
      "text/plain": [
       "A[1, 2]*A[3, 4]*A[5, 7]*A[6, 8] + A[1, 2]*A[3, 4]*A[5, 8]*A[6, 7] + A[1, 2]*A[3, 5]*A[4, 6]*A[7, 8] + A[1, 2]*A[3, 5]*A[4, 7]*A[6, 8] + A[1, 2]*A[3, 6]*A[4, 5]*A[7, 8] + A[1, 2]*A[3, 6]*A[4, 7]*A[5, 8] + A[1, 2]*A[3, 8]*A[4, 5]*A[6, 7] + A[1, 2]*A[3, 8]*A[4, 6]*A[5, 7] + A[1, 3]*A[2, 4]*A[5, 6]*A[7, 8] + A[1, 3]*A[2, 4]*A[5, 8]*A[6, 7] + A[1, 3]*A[2, 5]*A[4, 6]*A[7, 8] + A[1, 3]*A[2, 5]*A[4, 7]*A[6, 8] + A[1, 3]*A[2, 7]*A[4, 5]*A[6, 8] + A[1, 3]*A[2, 7]*A[4, 6]*A[5, 8] + A[1, 3]*A[2, 8]*A[4, 5]*A[6, 7] + A[1, 3]*A[2, 8]*A[4, 7]*A[5, 6] + A[1, 4]*A[2, 3]*A[5, 6]*A[7, 8] + A[1, 4]*A[2, 3]*A[5, 7]*A[6, 8] + A[1, 4]*A[2, 5]*A[3, 6]*A[7, 8] + A[1, 4]*A[2, 5]*A[3, 8]*A[6, 7] + A[1, 4]*A[2, 7]*A[3, 5]*A[6, 8] + A[1, 4]*A[2, 7]*A[3, 8]*A[5, 6] + A[1, 4]*A[2, 8]*A[3, 5]*A[6, 7] + A[1, 4]*A[2, 8]*A[3, 6]*A[5, 7] + A[1, 6]*A[2, 3]*A[4, 5]*A[7, 8] + A[1, 6]*A[2, 3]*A[4, 7]*A[5, 8] + A[1, 6]*A[2, 4]*A[3, 5]*A[7, 8] + A[1, 6]*A[2, 4]*A[3, 8]*A[5, 7] + A[1, 6]*A[2, 7]*A[3, 4]*A[5, 8] + A[1, 6]*A[2, 7]*A[3, 8]*A[4, 5] + A[1, 6]*A[2, 8]*A[3, 4]*A[5, 7] + A[1, 6]*A[2, 8]*A[3, 5]*A[4, 7] + A[1, 7]*A[2, 3]*A[4, 5]*A[6, 8] + A[1, 7]*A[2, 3]*A[4, 6]*A[5, 8] + A[1, 7]*A[2, 4]*A[3, 6]*A[5, 8] + A[1, 7]*A[2, 4]*A[3, 8]*A[5, 6] + A[1, 7]*A[2, 5]*A[3, 4]*A[6, 8] + A[1, 7]*A[2, 5]*A[3, 8]*A[4, 6] + A[1, 7]*A[2, 8]*A[3, 4]*A[5, 6] + A[1, 7]*A[2, 8]*A[3, 6]*A[4, 5] + A[1, 8]*A[2, 3]*A[4, 6]*A[5, 7] + A[1, 8]*A[2, 3]*A[4, 7]*A[5, 6] + A[1, 8]*A[2, 4]*A[3, 5]*A[6, 7] + A[1, 8]*A[2, 4]*A[3, 6]*A[5, 7] + A[1, 8]*A[2, 5]*A[3, 4]*A[6, 7] + A[1, 8]*A[2, 5]*A[3, 6]*A[4, 7] + A[1, 8]*A[2, 7]*A[3, 4]*A[5, 6] + A[1, 8]*A[2, 7]*A[3, 5]*A[4, 6]"
      ]
     },
     "execution_count": 175,
     "metadata": {},
     "output_type": "execute_result"
    }
   ],
   "source": [
    "c4"
   ]
  },
  {
   "cell_type": "code",
   "execution_count": 137,
   "id": "be69aef3-a07c-4323-90ef-09228ca9cb54",
   "metadata": {},
   "outputs": [
    {
     "data": {
      "text/latex": [
       "$\\displaystyle A_{1, 2} A_{3, 6} A_{4, 5} + A_{1, 3} A_{2, 5} A_{4, 6} + A_{1, 4} A_{2, 3} A_{5, 6} + A_{1, 4} A_{2, 5} A_{3, 6} + A_{1, 4} A_{2, 6} A_{3, 5} + A_{1, 5} A_{2, 4} A_{3, 6} + A_{1, 6} A_{2, 5} A_{3, 4}$"
      ],
      "text/plain": [
       "A[1, 2]*A[3, 6]*A[4, 5] + A[1, 3]*A[2, 5]*A[4, 6] + A[1, 4]*A[2, 3]*A[5, 6] + A[1, 4]*A[2, 5]*A[3, 6] + A[1, 4]*A[2, 6]*A[3, 5] + A[1, 5]*A[2, 4]*A[3, 6] + A[1, 6]*A[2, 5]*A[3, 4]"
      ]
     },
     "execution_count": 137,
     "metadata": {},
     "output_type": "execute_result"
    }
   ],
   "source": [
    "m3 - c3"
   ]
  },
  {
   "cell_type": "code",
   "execution_count": null,
   "id": "bf338e54-2900-4719-8fd4-0c59ae3584bb",
   "metadata": {},
   "outputs": [],
   "source": []
  }
 ],
 "metadata": {
  "kernelspec": {
   "display_name": "Python 3 (ipykernel)",
   "language": "python",
   "name": "python3"
  },
  "language_info": {
   "codemirror_mode": {
    "name": "ipython",
    "version": 3
   },
   "file_extension": ".py",
   "mimetype": "text/x-python",
   "name": "python",
   "nbconvert_exporter": "python",
   "pygments_lexer": "ipython3",
   "version": "3.9.7"
  }
 },
 "nbformat": 4,
 "nbformat_minor": 5
}
